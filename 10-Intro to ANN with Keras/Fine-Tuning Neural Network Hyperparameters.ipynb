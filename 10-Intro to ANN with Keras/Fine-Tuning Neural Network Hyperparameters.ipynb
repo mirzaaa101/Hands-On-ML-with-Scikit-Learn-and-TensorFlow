{
 "cells": [
  {
   "cell_type": "code",
   "execution_count": 1,
   "id": "c05e0642",
   "metadata": {},
   "outputs": [],
   "source": [
    "import tensorflow as tf\n",
    "\n",
    "fashion_mnist = tf.keras.datasets.fashion_mnist.load_data()\n",
    "(X_train_full, y_train_full), (X_test, y_test) = fashion_mnist\n",
    "\n",
    "X_train, y_train = X_train_full[:-5000], y_train_full[:-5000]\n",
    "X_val, y_val = X_train_full[-5000:], y_train_full[-5000:]\n",
    "X_train, X_val, X_test = X_train/255., X_val/255. , X_test/255."
   ]
  },
  {
   "cell_type": "code",
   "execution_count": 2,
   "id": "0d85bf09",
   "metadata": {},
   "outputs": [],
   "source": [
    "import keras_tuner as kt\n",
    "\n",
    "def build_model(hp):\n",
    "    n_hidden = hp.Int(\"n_hidden\", min_value=0, max_value=8, default=2)\n",
    "    n_neurons = hp.Int(\"n_neurons\", min_value=16, max_value=256)\n",
    "    learning_rate = hp.Float(\"learning_rate\", min_value=1e-4, max_value=1e-2, sampling=\"log\")\n",
    "    optimizer = hp.Choice(\"optimizer\", values=[\"sgd\", \"adam\"])\n",
    "    \n",
    "    if optimizer == \"sgd\":\n",
    "        optimizer = tf.keras.optimizers.SGD(learning_rate=learning_rate)\n",
    "    else:\n",
    "        optimizer = tf.keras.optimizers.Adam(learning_rate=learning_rate)\n",
    "        \n",
    "    model = tf.keras.Sequential()\n",
    "    model.add(tf.keras.layers.Flatten())\n",
    "    \n",
    "    for _ in range(n_hidden):\n",
    "        model.add(tf.keras.layers.Dense(n_neurons, activation='relu'))\n",
    "        \n",
    "    model.add(tf.keras.layers.Dense(10, activation='softmax'))\n",
    "    model.compile(\n",
    "            loss = tf.keras.losses.sparse_categorical_crossentropy,\n",
    "            optimizer = optimizer,\n",
    "            metrics = [\"accuracy\"]\n",
    "        )\n",
    "    return model"
   ]
  },
  {
   "cell_type": "code",
   "execution_count": 3,
   "id": "b67417b4",
   "metadata": {},
   "outputs": [
    {
     "name": "stdout",
     "output_type": "stream",
     "text": [
      "Trial 5 Complete [00h 00m 55s]\n",
      "val_accuracy: 0.743399977684021\n",
      "\n",
      "Best val_accuracy So Far: 0.8614000082015991\n",
      "Total elapsed time: 00h 04m 45s\n"
     ]
    }
   ],
   "source": [
    "random_search_tuner = kt.RandomSearch(\n",
    "    build_model, objective=\"val_accuracy\", max_trials=5, overwrite=True,\n",
    "    directory=\"my_fashion_mnist\", project_name=\"my_random_search\", seed=42\n",
    ")\n",
    "random_search_tuner.search(X_train, y_train, epochs=10, validation_data=(X_val, y_val))"
   ]
  },
  {
   "cell_type": "code",
   "execution_count": 4,
   "id": "c3325885",
   "metadata": {},
   "outputs": [],
   "source": [
    "top3_models = random_search_tuner.get_best_models(num_models=3)\n",
    "best_model = top3_models[0]"
   ]
  },
  {
   "cell_type": "code",
   "execution_count": 5,
   "id": "e6ca8d25",
   "metadata": {},
   "outputs": [
    {
     "data": {
      "text/plain": [
       "{'n_hidden': 8,\n",
       " 'n_neurons': 37,\n",
       " 'learning_rate': 0.008547485565344062,\n",
       " 'optimizer': 'sgd'}"
      ]
     },
     "execution_count": 5,
     "metadata": {},
     "output_type": "execute_result"
    }
   ],
   "source": [
    "top3_parameters = random_search_tuner.get_best_hyperparameters(num_trials=3)\n",
    "top3_parameters[0].values # best hyperparameters"
   ]
  },
  {
   "cell_type": "code",
   "execution_count": 6,
   "id": "4e9c3502",
   "metadata": {},
   "outputs": [
    {
     "name": "stdout",
     "output_type": "stream",
     "text": [
      "Trial 3 summary\n",
      "Hyperparameters:\n",
      "n_hidden: 8\n",
      "n_neurons: 37\n",
      "learning_rate: 0.008547485565344062\n",
      "optimizer: sgd\n",
      "Score: 0.8614000082015991\n"
     ]
    }
   ],
   "source": [
    "best_trail = random_search_tuner.oracle.get_best_trials(num_trials=1)[0]\n",
    "best_trail.summary()"
   ]
  },
  {
   "cell_type": "code",
   "execution_count": 12,
   "id": "ae8a130b",
   "metadata": {},
   "outputs": [
    {
     "name": "stdout",
     "output_type": "stream",
     "text": [
      "Epoch 1/10\n",
      "1875/1875 [==============================] - 6s 3ms/step - loss: nan - accuracy: 0.1000\n",
      "Epoch 2/10\n",
      "1875/1875 [==============================] - 5s 3ms/step - loss: nan - accuracy: 0.1000\n",
      "Epoch 3/10\n",
      "1875/1875 [==============================] - 5s 3ms/step - loss: nan - accuracy: 0.1000\n",
      "Epoch 4/10\n",
      "1875/1875 [==============================] - 5s 3ms/step - loss: nan - accuracy: 0.1000\n",
      "Epoch 5/10\n",
      "1875/1875 [==============================] - 5s 3ms/step - loss: nan - accuracy: 0.1000\n",
      "Epoch 6/10\n",
      "1875/1875 [==============================] - 5s 2ms/step - loss: nan - accuracy: 0.1000\n",
      "Epoch 7/10\n",
      "1875/1875 [==============================] - 5s 2ms/step - loss: nan - accuracy: 0.1000\n",
      "Epoch 8/10\n",
      "1875/1875 [==============================] - 5s 2ms/step - loss: nan - accuracy: 0.1000\n",
      "Epoch 9/10\n",
      "1875/1875 [==============================] - 4s 2ms/step - loss: nan - accuracy: 0.1000\n",
      "Epoch 10/10\n",
      "1875/1875 [==============================] - 4s 2ms/step - loss: nan - accuracy: 0.1000\n"
     ]
    }
   ],
   "source": [
    "X_train_full = X_train_full/255.\n",
    "history = best_model.fit(X_train_full, y_train_full, epochs=10)"
   ]
  },
  {
   "cell_type": "code",
   "execution_count": 8,
   "id": "70657e88",
   "metadata": {},
   "outputs": [
    {
     "name": "stdout",
     "output_type": "stream",
     "text": [
      "Model: \"sequential\"\n",
      "_________________________________________________________________\n",
      " Layer (type)                Output Shape              Param #   \n",
      "=================================================================\n",
      " flatten (Flatten)           (32, 784)                 0         \n",
      "                                                                 \n",
      " dense (Dense)               (32, 37)                  29045     \n",
      "                                                                 \n",
      " dense_1 (Dense)             (32, 37)                  1406      \n",
      "                                                                 \n",
      " dense_2 (Dense)             (32, 37)                  1406      \n",
      "                                                                 \n",
      " dense_3 (Dense)             (32, 37)                  1406      \n",
      "                                                                 \n",
      " dense_4 (Dense)             (32, 37)                  1406      \n",
      "                                                                 \n",
      " dense_5 (Dense)             (32, 37)                  1406      \n",
      "                                                                 \n",
      " dense_6 (Dense)             (32, 37)                  1406      \n",
      "                                                                 \n",
      " dense_7 (Dense)             (32, 37)                  1406      \n",
      "                                                                 \n",
      " dense_8 (Dense)             (32, 10)                  380       \n",
      "                                                                 \n",
      "=================================================================\n",
      "Total params: 39267 (153.39 KB)\n",
      "Trainable params: 39267 (153.39 KB)\n",
      "Non-trainable params: 0 (0.00 Byte)\n",
      "_________________________________________________________________\n"
     ]
    }
   ],
   "source": [
    "best_model.summary()"
   ]
  },
  {
   "cell_type": "code",
   "execution_count": 10,
   "id": "9c11bc44",
   "metadata": {},
   "outputs": [
    {
     "name": "stdout",
     "output_type": "stream",
     "text": [
      "313/313 [==============================] - 1s 2ms/step - loss: nan - accuracy: 0.1000\n"
     ]
    },
    {
     "data": {
      "text/plain": [
       "0.10000000149011612"
      ]
     },
     "execution_count": 10,
     "metadata": {},
     "output_type": "execute_result"
    }
   ],
   "source": [
    "test_loss, test_accuracy = best_model.evaluate(X_test, y_test)\n",
    "test_accuracy"
   ]
  },
  {
   "cell_type": "markdown",
   "id": "afb2b500",
   "metadata": {},
   "source": [
    "### Fine-Tune Data Preprocessing Hyperparameters Using Subclassing"
   ]
  },
  {
   "cell_type": "code",
   "execution_count": 19,
   "id": "0464e308",
   "metadata": {},
   "outputs": [],
   "source": [
    "class MyClassificationHyperModel(kt.HyperModel):\n",
    "    def build(self, hp):\n",
    "        return build_model(hp)\n",
    "    \n",
    "    def fit(self, hp, model, X, y, **kwargs):\n",
    "        if hp.Boolean(\"normalize\"):\n",
    "            norm_layer = tf.keras.layers.Normalization()\n",
    "            X = norm_layer(X)\n",
    "        return model.fit(X, y, **kwargs)"
   ]
  },
  {
   "cell_type": "code",
   "execution_count": 21,
   "id": "79ca5f53",
   "metadata": {},
   "outputs": [],
   "source": [
    "hyperband_tuner = kt.Hyperband(\n",
    "    MyClassificationHyperModel(), objective=\"val_accuracy\", seed=42, max_epochs=10, factor=3, hyperband_iterations=2,\n",
    "    overwrite=True, directory=\"my_fashion_mnist\", project_name=\"hyperband\"\n",
    ")"
   ]
  },
  {
   "cell_type": "code",
   "execution_count": 22,
   "id": "8413c7ee",
   "metadata": {},
   "outputs": [
    {
     "name": "stdout",
     "output_type": "stream",
     "text": [
      "Trial 60 Complete [00h 01m 36s]\n",
      "val_accuracy: 0.8428000211715698\n",
      "\n",
      "Best val_accuracy So Far: 0.8870000243186951\n",
      "Total elapsed time: 00h 38m 18s\n"
     ]
    }
   ],
   "source": [
    "from pathlib import Path\n",
    "\n",
    "root_logdir = Path(hyperband_tuner.project_dir)/\"tensorboard\"\n",
    "tensorboard_cb = tf.keras.callbacks.TensorBoard(root_logdir)\n",
    "early_stopping_cb = tf.keras.callbacks.EarlyStopping(patience=2)\n",
    "hyperband_tuner.search(X_train, y_train, epochs=10, \n",
    "                       validation_data=(X_val, y_val),\n",
    "                       callbacks=[early_stopping_cb, tensorboard_cb])"
   ]
  },
  {
   "cell_type": "code",
   "execution_count": null,
   "id": "c65dd745",
   "metadata": {},
   "outputs": [],
   "source": []
  }
 ],
 "metadata": {
  "kernelspec": {
   "display_name": "Python 3 (ipykernel)",
   "language": "python",
   "name": "python3"
  },
  "language_info": {
   "codemirror_mode": {
    "name": "ipython",
    "version": 3
   },
   "file_extension": ".py",
   "mimetype": "text/x-python",
   "name": "python",
   "nbconvert_exporter": "python",
   "pygments_lexer": "ipython3",
   "version": "3.9.13"
  }
 },
 "nbformat": 4,
 "nbformat_minor": 5
}
