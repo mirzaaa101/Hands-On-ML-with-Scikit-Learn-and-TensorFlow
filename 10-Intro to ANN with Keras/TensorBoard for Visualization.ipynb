{
 "cells": [
  {
   "cell_type": "code",
   "execution_count": 1,
   "id": "6683e55f",
   "metadata": {},
   "outputs": [
    {
     "data": {
      "text/plain": [
       "WindowsPath('my_logs/run_2024_02_01_12_11_35')"
      ]
     },
     "execution_count": 1,
     "metadata": {},
     "output_type": "execute_result"
    }
   ],
   "source": [
    "from pathlib import Path\n",
    "from time import strftime\n",
    "\n",
    "def get_run_logidir(root_logdir=\"my_logs\"):\n",
    "    return Path(root_logdir)/strftime(\"run_%Y_%m_%d_%H_%M_%S\")\n",
    "\n",
    "run_logdir = get_run_logidir()\n",
    "run_logdir"
   ]
  },
  {
   "cell_type": "code",
   "execution_count": 2,
   "id": "a3b4c939",
   "metadata": {},
   "outputs": [],
   "source": [
    "import tensorflow as tf\n",
    "\n",
    "class WideAndDeepModel(tf.keras.Model):\n",
    "    def __init__(self, units=30, activation='relu', **kwargs):\n",
    "        super().__init__(**kwargs) # needed to support nameing the model\n",
    "        self.norm_layer_wide = tf.keras.layers.Normalization()\n",
    "        self.norm_layer_deep = tf.keras.layers.Normalization()\n",
    "        self.hidden1 = tf.keras.layers.Dense(units, activation=activation)\n",
    "        self.hidden2 = tf.keras.layers.Dense(units, activation=activation)\n",
    "        self.main_output = tf.keras.layers.Dense(1)\n",
    "        self.aux_output = tf.keras.layers.Dense(1)\n",
    "        \n",
    "    def call(self, inputs):\n",
    "        input_wide, input_deep = inputs\n",
    "        norm_wide = self.norm_layer_wide(input_wide)\n",
    "        norm_deep = self.norm_layer_deep(input_deep)\n",
    "        hidden1 = self.hidden1(norm_deep)\n",
    "        hidden2 = self.hidden2(hidden1)\n",
    "        concat = tf.keras.layers.concatenate([norm_wide, hidden2])\n",
    "        output = self.main_output(concat)\n",
    "        aux_output = self.aux_output(hidden2)\n",
    "        return output, aux_output\n",
    "    \n",
    "model = WideAndDeepModel(30, activation=\"relu\", name=\"my_cool_model\")"
   ]
  },
  {
   "cell_type": "code",
   "execution_count": 3,
   "id": "fdcd8bcb",
   "metadata": {},
   "outputs": [],
   "source": [
    "import pandas as pd\n",
    "from sklearn.model_selection import train_test_split\n",
    "\n",
    "housing = pd.read_csv('data/housing.csv')\n",
    "housing.dropna(inplace=True)\n",
    "housing.drop(columns=['ocean_proximity'], inplace=True)\n",
    "\n",
    "X = housing.drop(columns=['median_house_value'])\n",
    "y = housing['median_house_value']\n",
    "\n",
    "X_train, X_test, y_train, y_test = train_test_split(X, y, test_size=0.15, random_state=42)\n",
    "X_train_wide, X_train_deep = X_train.iloc[:, :5], X_train.iloc[:, 2:]\n",
    "X_test_wide, X_test_deep = X_test.iloc[:, :5], X_test.iloc[:, 2:]\n",
    "X_new_wide, X_new_deep = X_test_wide.iloc[:3], X_test_deep.iloc[:3]"
   ]
  },
  {
   "cell_type": "code",
   "execution_count": 4,
   "id": "922ee77d",
   "metadata": {},
   "outputs": [
    {
     "name": "stdout",
     "output_type": "stream",
     "text": [
      "Epoch 1/10\n",
      "489/489 [==============================] - 4s 5ms/step - loss: 38959165440.0000 - output_1_loss: 38647672832.0000 - output_2_loss: 41762496512.0000 - output_1_root_mean_squared_error: 196590.1094 - output_2_root_mean_squared_error: 204358.7500 - val_loss: 28005935104.0000 - val_output_1_loss: 28003168256.0000 - val_output_2_loss: 28030822400.0000 - val_output_1_root_mean_squared_error: 167341.4688 - val_output_2_root_mean_squared_error: 167424.0781\n",
      "Epoch 2/10\n",
      "489/489 [==============================] - 2s 4ms/step - loss: 27424192512.0000 - output_1_loss: 27414765568.0000 - output_2_loss: 27509090304.0000 - output_1_root_mean_squared_error: 165574.0469 - output_2_root_mean_squared_error: 165858.6406 - val_loss: 27540916224.0000 - val_output_1_loss: 27537000448.0000 - val_output_2_loss: 27576121344.0000 - val_output_1_root_mean_squared_error: 165942.7656 - val_output_2_root_mean_squared_error: 166060.5938\n",
      "Epoch 3/10\n",
      "489/489 [==============================] - 2s 4ms/step - loss: 27116347392.0000 - output_1_loss: 27112148992.0000 - output_2_loss: 27154423808.0000 - output_1_root_mean_squared_error: 164657.6719 - output_2_root_mean_squared_error: 164786.0000 - val_loss: 27128559616.0000 - val_output_1_loss: 27122292736.0000 - val_output_2_loss: 27184875520.0000 - val_output_1_root_mean_squared_error: 164688.4688 - val_output_2_root_mean_squared_error: 164878.3594\n",
      "Epoch 4/10\n",
      "489/489 [==============================] - 2s 3ms/step - loss: 26698782720.0000 - output_1_loss: 26692466688.0000 - output_2_loss: 26755651584.0000 - output_1_root_mean_squared_error: 163378.2969 - output_2_root_mean_squared_error: 163571.5469 - val_loss: 26575900672.0000 - val_output_1_loss: 26566248448.0000 - val_output_2_loss: 26662791168.0000 - val_output_1_root_mean_squared_error: 162991.5625 - val_output_2_root_mean_squared_error: 163287.4531\n",
      "Epoch 5/10\n",
      "489/489 [==============================] - 2s 3ms/step - loss: 26124959744.0000 - output_1_loss: 26114963456.0000 - output_2_loss: 26214871040.0000 - output_1_root_mean_squared_error: 161601.2500 - output_2_root_mean_squared_error: 161910.0781 - val_loss: 25774211072.0000 - val_output_1_loss: 25759698944.0000 - val_output_2_loss: 25904879616.0000 - val_output_1_root_mean_squared_error: 160498.2812 - val_output_2_root_mean_squared_error: 160949.9219\n",
      "Epoch 6/10\n",
      "489/489 [==============================] - 2s 3ms/step - loss: 25327896576.0000 - output_1_loss: 25313505280.0000 - output_2_loss: 25457674240.0000 - output_1_root_mean_squared_error: 159102.1875 - output_2_root_mean_squared_error: 159554.6094 - val_loss: 24759289856.0000 - val_output_1_loss: 24740016128.0000 - val_output_2_loss: 24932765696.0000 - val_output_1_root_mean_squared_error: 157289.5938 - val_output_2_root_mean_squared_error: 157901.1250\n",
      "Epoch 7/10\n",
      "489/489 [==============================] - 2s 3ms/step - loss: 24232988672.0000 - output_1_loss: 24213514240.0000 - output_2_loss: 24408154112.0000 - output_1_root_mean_squared_error: 155606.9219 - output_2_root_mean_squared_error: 156231.0938 - val_loss: 23338819584.0000 - val_output_1_loss: 23314364416.0000 - val_output_2_loss: 23558854656.0000 - val_output_1_root_mean_squared_error: 152690.4219 - val_output_2_root_mean_squared_error: 153488.9375\n",
      "Epoch 8/10\n",
      "489/489 [==============================] - 2s 3ms/step - loss: 22622425088.0000 - output_1_loss: 22597748736.0000 - output_2_loss: 22844495872.0000 - output_1_root_mean_squared_error: 150325.4688 - output_2_root_mean_squared_error: 151143.9531 - val_loss: 21522438144.0000 - val_output_1_loss: 21494161408.0000 - val_output_2_loss: 21776896000.0000 - val_output_1_root_mean_squared_error: 146608.8750 - val_output_2_root_mean_squared_error: 147569.9688\n",
      "Epoch 9/10\n",
      "489/489 [==============================] - 2s 3ms/step - loss: 20606564352.0000 - output_1_loss: 20578252800.0000 - output_2_loss: 20861136896.0000 - output_1_root_mean_squared_error: 143451.2188 - output_2_root_mean_squared_error: 144433.8438 - val_loss: 19043811328.0000 - val_output_1_loss: 19012397056.0000 - val_output_2_loss: 19326488576.0000 - val_output_1_root_mean_squared_error: 137885.4531 - val_output_2_root_mean_squared_error: 139019.7344\n",
      "Epoch 10/10\n",
      "489/489 [==============================] - 2s 4ms/step - loss: 18220808192.0000 - output_1_loss: 18191687680.0000 - output_2_loss: 18482911232.0000 - output_1_root_mean_squared_error: 134876.5625 - output_2_root_mean_squared_error: 135951.8750 - val_loss: 16696982528.0000 - val_output_1_loss: 16667919360.0000 - val_output_2_loss: 16958625792.0000 - val_output_1_root_mean_squared_error: 129104.2969 - val_output_2_root_mean_squared_error: 130225.2891\n"
     ]
    }
   ],
   "source": [
    "model.compile(\n",
    "    loss = (\"mse\",\"mse\"),\n",
    "    loss_weights= (0.9, 0.1),\n",
    "    optimizer = tf.keras.optimizers.Adam(learning_rate=1e-3),\n",
    "    metrics=[tf.keras.metrics.RootMeanSquaredError()]\n",
    ")\n",
    "\n",
    "tensorboard_callbacks = tf.keras.callbacks.TensorBoard(run_logdir, profile_batch=(100, 200))\n",
    "history = model.fit((X_train_wide, X_train_deep), (y_train,y_train), epochs=10, validation_split=0.1, callbacks=tensorboard_callbacks)"
   ]
  },
  {
   "cell_type": "code",
   "execution_count": 5,
   "id": "cab0e151",
   "metadata": {},
   "outputs": [
    {
     "name": "stdout",
     "output_type": "stream",
     "text": [
      "Epoch 1/10\n",
      "489/489 [==============================] - 4s 5ms/step - loss: 14007263232.0000 - output_1_loss: 13990251520.0000 - output_2_loss: 14160351232.0000 - output_1_root_mean_squared_error: 118280.3906 - output_2_root_mean_squared_error: 118997.2734 - val_loss: 11404414976.0000 - val_output_1_loss: 11397751808.0000 - val_output_2_loss: 11464416256.0000 - val_output_1_root_mean_squared_error: 106760.2500 - val_output_2_root_mean_squared_error: 107072.0156\n",
      "Epoch 2/10\n",
      "489/489 [==============================] - 2s 4ms/step - loss: 11396670464.0000 - output_1_loss: 11393667072.0000 - output_2_loss: 11423703040.0000 - output_1_root_mean_squared_error: 106741.1250 - output_2_root_mean_squared_error: 106881.7266 - val_loss: 10783642624.0000 - val_output_1_loss: 10780917760.0000 - val_output_2_loss: 10808176640.0000 - val_output_1_root_mean_squared_error: 103831.1953 - val_output_2_root_mean_squared_error: 103962.3828\n",
      "Epoch 3/10\n",
      "489/489 [==============================] - 2s 4ms/step - loss: 10831388672.0000 - output_1_loss: 10830222336.0000 - output_2_loss: 10842031104.0000 - output_1_root_mean_squared_error: 104068.3516 - output_2_root_mean_squared_error: 104125.0781 - val_loss: 10321395712.0000 - val_output_1_loss: 10320363520.0000 - val_output_2_loss: 10330690560.0000 - val_output_1_root_mean_squared_error: 101589.1875 - val_output_2_root_mean_squared_error: 101640.0078\n",
      "Epoch 4/10\n",
      "489/489 [==============================] - 2s 4ms/step - loss: 10386350080.0000 - output_1_loss: 10385945600.0000 - output_2_loss: 10390020096.0000 - output_1_root_mean_squared_error: 101911.4609 - output_2_root_mean_squared_error: 101931.4453 - val_loss: 10027103232.0000 - val_output_1_loss: 10025547776.0000 - val_output_2_loss: 10041112576.0000 - val_output_1_root_mean_squared_error: 100127.6562 - val_output_2_root_mean_squared_error: 100205.3516\n",
      "Epoch 5/10\n",
      "489/489 [==============================] - 2s 3ms/step - loss: 9847742464.0000 - output_1_loss: 9847779328.0000 - output_2_loss: 9847416832.0000 - output_1_root_mean_squared_error: 99235.9766 - output_2_root_mean_squared_error: 99234.1484 - val_loss: 9435678720.0000 - val_output_1_loss: 9435217920.0000 - val_output_2_loss: 9439815680.0000 - val_output_1_root_mean_squared_error: 97135.0469 - val_output_2_root_mean_squared_error: 97158.7109\n",
      "Epoch 6/10\n",
      "489/489 [==============================] - 2s 4ms/step - loss: 9463168000.0000 - output_1_loss: 9463377920.0000 - output_2_loss: 9461283840.0000 - output_1_root_mean_squared_error: 97279.8984 - output_2_root_mean_squared_error: 97269.1328 - val_loss: 9091429376.0000 - val_output_1_loss: 9090746368.0000 - val_output_2_loss: 9097589760.0000 - val_output_1_root_mean_squared_error: 95345.4062 - val_output_2_root_mean_squared_error: 95381.2891\n",
      "Epoch 7/10\n",
      "489/489 [==============================] - 2s 4ms/step - loss: 8961267712.0000 - output_1_loss: 8961648640.0000 - output_2_loss: 8957826048.0000 - output_1_root_mean_squared_error: 94665.9844 - output_2_root_mean_squared_error: 94645.7891 - val_loss: 8658721792.0000 - val_output_1_loss: 8658277376.0000 - val_output_2_loss: 8662710272.0000 - val_output_1_root_mean_squared_error: 93049.8672 - val_output_2_root_mean_squared_error: 93073.6797\n",
      "Epoch 8/10\n",
      "489/489 [==============================] - 2s 4ms/step - loss: 8479588352.0000 - output_1_loss: 8480102400.0000 - output_2_loss: 8474964480.0000 - output_1_root_mean_squared_error: 92087.4688 - output_2_root_mean_squared_error: 92059.5703 - val_loss: 8677544960.0000 - val_output_1_loss: 8676802560.0000 - val_output_2_loss: 8684219392.0000 - val_output_1_root_mean_squared_error: 93149.3594 - val_output_2_root_mean_squared_error: 93189.1562\n",
      "Epoch 9/10\n",
      "489/489 [==============================] - 2s 4ms/step - loss: 8120329728.0000 - output_1_loss: 8120709120.0000 - output_2_loss: 8116979712.0000 - output_1_root_mean_squared_error: 90114.9766 - output_2_root_mean_squared_error: 90094.2812 - val_loss: 7671726592.0000 - val_output_1_loss: 7671711232.0000 - val_output_2_loss: 7671843840.0000 - val_output_1_root_mean_squared_error: 87588.3047 - val_output_2_root_mean_squared_error: 87589.0625\n",
      "Epoch 10/10\n",
      "489/489 [==============================] - 2s 4ms/step - loss: 7802818048.0000 - output_1_loss: 7803154944.0000 - output_2_loss: 7799803904.0000 - output_1_root_mean_squared_error: 88335.4688 - output_2_root_mean_squared_error: 88316.5000 - val_loss: 7454410752.0000 - val_output_1_loss: 7454032384.0000 - val_output_2_loss: 7457834496.0000 - val_output_1_root_mean_squared_error: 86336.7422 - val_output_2_root_mean_squared_error: 86358.7578\n"
     ]
    }
   ],
   "source": [
    "# changing the learning rate\n",
    "model.compile(\n",
    "    loss = (\"mse\",\"mse\"),\n",
    "    loss_weights= (0.9, 0.1),\n",
    "    optimizer = tf.keras.optimizers.Adam(learning_rate=0.003),\n",
    "    metrics=[tf.keras.metrics.RootMeanSquaredError()]\n",
    ")\n",
    "\n",
    "tensorboard_callbacks = tf.keras.callbacks.TensorBoard(run_logdir, profile_batch=(100, 200), update_freq='epoch')\n",
    "history = model.fit((X_train_wide, X_train_deep), (y_train,y_train), epochs=10, validation_split=0.1, callbacks=tensorboard_callbacks)"
   ]
  },
  {
   "cell_type": "code",
   "execution_count": null,
   "id": "fbaff4b9",
   "metadata": {},
   "outputs": [],
   "source": []
  }
 ],
 "metadata": {
  "kernelspec": {
   "display_name": "Python 3 (ipykernel)",
   "language": "python",
   "name": "python3"
  },
  "language_info": {
   "codemirror_mode": {
    "name": "ipython",
    "version": 3
   },
   "file_extension": ".py",
   "mimetype": "text/x-python",
   "name": "python",
   "nbconvert_exporter": "python",
   "pygments_lexer": "ipython3",
   "version": "3.9.13"
  }
 },
 "nbformat": 4,
 "nbformat_minor": 5
}
