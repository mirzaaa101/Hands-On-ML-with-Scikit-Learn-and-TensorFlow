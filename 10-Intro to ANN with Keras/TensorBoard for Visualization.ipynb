{
 "cells": [
  {
   "cell_type": "code",
   "execution_count": 2,
   "id": "6683e55f",
   "metadata": {},
   "outputs": [
    {
     "data": {
      "text/plain": [
       "WindowsPath('my_logs/run_2024_02_01_09_26_41')"
      ]
     },
     "execution_count": 2,
     "metadata": {},
     "output_type": "execute_result"
    }
   ],
   "source": [
    "from pathlib import Path\n",
    "from time import strftime\n",
    "\n",
    "def get_run_logidir(root_logdir=\"my_logs\"):\n",
    "    return Path(root_logdir)/strftime(\"run_%Y_%m_%d_%H_%M_%S\")\n",
    "\n",
    "run_logdir = get_run_logidir()\n",
    "run_logdir"
   ]
  },
  {
   "cell_type": "code",
   "execution_count": 3,
   "id": "a3b4c939",
   "metadata": {},
   "outputs": [],
   "source": [
    "import tensorflow as tf\n",
    "\n",
    "class WideAndDeepModel(tf.keras.Model):\n",
    "    def __init__(self, units=30, activation='relu', **kwargs):\n",
    "        super().__init__(**kwargs) # needed to support nameing the model\n",
    "        self.norm_layer_wide = tf.keras.layers.Normalization()\n",
    "        self.norm_layer_deep = tf.keras.layers.Normalization()\n",
    "        self.hidden1 = tf.keras.layers.Dense(units, activation=activation)\n",
    "        self.hidden2 = tf.keras.layers.Dense(units, activation=activation)\n",
    "        self.main_output = tf.keras.layers.Dense(1)\n",
    "        self.aux_output = tf.keras.layers.Dense(1)\n",
    "        \n",
    "    def call(self, inputs):\n",
    "        input_wide, input_deep = inputs\n",
    "        norm_wide = self.norm_layer_wide(input_wide)\n",
    "        norm_deep = self.norm_layer_deep(input_deep)\n",
    "        hidden1 = self.hidden1(norm_deep)\n",
    "        hidden2 = self.hidden2(hidden1)\n",
    "        concat = tf.keras.layers.concatenate([norm_wide, hidden2])\n",
    "        output = self.main_output(concat)\n",
    "        aux_output = self.aux_output(hidden2)\n",
    "        return output, aux_output\n",
    "    \n",
    "model = WideAndDeepModel(30, activation=\"relu\", name=\"my_cool_model\")"
   ]
  },
  {
   "cell_type": "code",
   "execution_count": 4,
   "id": "fdcd8bcb",
   "metadata": {},
   "outputs": [],
   "source": [
    "import pandas as pd\n",
    "from sklearn.model_selection import train_test_split\n",
    "\n",
    "housing = pd.read_csv('data/housing.csv')\n",
    "housing.dropna(inplace=True)\n",
    "housing.drop(columns=['ocean_proximity'], inplace=True)\n",
    "\n",
    "X = housing.drop(columns=['median_house_value'])\n",
    "y = housing['median_house_value']\n",
    "\n",
    "X_train, X_test, y_train, y_test = train_test_split(X, y, test_size=0.15, random_state=42)\n",
    "X_train_wide, X_train_deep = X_train.iloc[:, :5], X_train.iloc[:, 2:]\n",
    "X_test_wide, X_test_deep = X_test.iloc[:, :5], X_test.iloc[:, 2:]\n",
    "X_new_wide, X_new_deep = X_test_wide.iloc[:3], X_test_deep.iloc[:3]"
   ]
  },
  {
   "cell_type": "code",
   "execution_count": 5,
   "id": "922ee77d",
   "metadata": {},
   "outputs": [
    {
     "name": "stdout",
     "output_type": "stream",
     "text": [
      "Epoch 1/10\n",
      "489/489 [==============================] - 4s 5ms/step - loss: 39400357888.0000 - output_1_loss: 39226839040.0000 - output_2_loss: 40962347008.0000 - output_1_root_mean_squared_error: 198057.6719 - output_2_root_mean_squared_error: 202391.5625 - val_loss: 27595368448.0000 - val_output_1_loss: 27568791552.0000 - val_output_2_loss: 27834611712.0000 - val_output_1_root_mean_squared_error: 166038.5312 - val_output_2_root_mean_squared_error: 166837.0781\n",
      "Epoch 2/10\n",
      "489/489 [==============================] - 2s 3ms/step - loss: 27272925184.0000 - output_1_loss: 27265245184.0000 - output_2_loss: 27342077952.0000 - output_1_root_mean_squared_error: 165121.9062 - output_2_root_mean_squared_error: 165354.4062 - val_loss: 27300452352.0000 - val_output_1_loss: 27294896128.0000 - val_output_2_loss: 27350454272.0000 - val_output_1_root_mean_squared_error: 165211.6719 - val_output_2_root_mean_squared_error: 165379.7344\n",
      "Epoch 3/10\n",
      "489/489 [==============================] - 2s 3ms/step - loss: 27092944896.0000 - output_1_loss: 27089948672.0000 - output_2_loss: 27120101376.0000 - output_1_root_mean_squared_error: 164590.2500 - output_2_root_mean_squared_error: 164681.8125 - val_loss: 26998450176.0000 - val_output_1_loss: 26993807360.0000 - val_output_2_loss: 27040194560.0000 - val_output_1_root_mean_squared_error: 164297.9219 - val_output_2_root_mean_squared_error: 164439.0312\n",
      "Epoch 4/10\n",
      "489/489 [==============================] - 2s 3ms/step - loss: 26823522304.0000 - output_1_loss: 26820145152.0000 - output_2_loss: 26854002688.0000 - output_1_root_mean_squared_error: 163768.5781 - output_2_root_mean_squared_error: 163871.9062 - val_loss: 26783655936.0000 - val_output_1_loss: 26778298368.0000 - val_output_2_loss: 26831872000.0000 - val_output_1_root_mean_squared_error: 163640.7656 - val_output_2_root_mean_squared_error: 163804.3750\n",
      "Epoch 5/10\n",
      "489/489 [==============================] - 2s 3ms/step - loss: 26627903488.0000 - output_1_loss: 26623813632.0000 - output_2_loss: 26664800256.0000 - output_1_root_mean_squared_error: 163168.0469 - output_2_root_mean_squared_error: 163293.5938 - val_loss: 26394755072.0000 - val_output_1_loss: 26389004288.0000 - val_output_2_loss: 26446538752.0000 - val_output_1_root_mean_squared_error: 162446.9219 - val_output_2_root_mean_squared_error: 162623.9219\n",
      "Epoch 6/10\n",
      "489/489 [==============================] - 2s 4ms/step - loss: 26371055616.0000 - output_1_loss: 26366251008.0000 - output_2_loss: 26414301184.0000 - output_1_root_mean_squared_error: 162376.8750 - output_2_root_mean_squared_error: 162524.7656 - val_loss: 26043752448.0000 - val_output_1_loss: 26037475328.0000 - val_output_2_loss: 26100201472.0000 - val_output_1_root_mean_squared_error: 161361.3125 - val_output_2_root_mean_squared_error: 161555.5625\n",
      "Epoch 7/10\n",
      "489/489 [==============================] - 1s 3ms/step - loss: 26035576832.0000 - output_1_loss: 26030143488.0000 - output_2_loss: 26084478976.0000 - output_1_root_mean_squared_error: 161338.5938 - output_2_root_mean_squared_error: 161506.9062 - val_loss: 25661276160.0000 - val_output_1_loss: 25654628352.0000 - val_output_2_loss: 25721067520.0000 - val_output_1_root_mean_squared_error: 160170.6250 - val_output_2_root_mean_squared_error: 160377.8906\n",
      "Epoch 8/10\n",
      "489/489 [==============================] - 2s 4ms/step - loss: 25707907072.0000 - output_1_loss: 25701992448.0000 - output_2_loss: 25761142784.0000 - output_1_root_mean_squared_error: 160318.4062 - output_2_root_mean_squared_error: 160502.7812 - val_loss: 25162657792.0000 - val_output_1_loss: 25155799040.0000 - val_output_2_loss: 25224398848.0000 - val_output_1_root_mean_squared_error: 158605.7969 - val_output_2_root_mean_squared_error: 158821.9062\n",
      "Epoch 9/10\n",
      "489/489 [==============================] - 2s 3ms/step - loss: 25261144064.0000 - output_1_loss: 25254811648.0000 - output_2_loss: 25318043648.0000 - output_1_root_mean_squared_error: 158917.6250 - output_2_root_mean_squared_error: 159116.4531 - val_loss: 24618893312.0000 - val_output_1_loss: 24611893248.0000 - val_output_2_loss: 24681877504.0000 - val_output_1_root_mean_squared_error: 156881.7812 - val_output_2_root_mean_squared_error: 157104.6719\n",
      "Epoch 10/10\n",
      "489/489 [==============================] - 2s 3ms/step - loss: 24730873856.0000 - output_1_loss: 24724334592.0000 - output_2_loss: 24789868544.0000 - output_1_root_mean_squared_error: 157239.7344 - output_2_root_mean_squared_error: 157447.9844 - val_loss: 23920228352.0000 - val_output_1_loss: 23913275392.0000 - val_output_2_loss: 23982911488.0000 - val_output_1_root_mean_squared_error: 154639.1719 - val_output_2_root_mean_squared_error: 154864.1719\n"
     ]
    }
   ],
   "source": [
    "model.compile(\n",
    "    loss = (\"mse\",\"mse\"),\n",
    "    loss_weights= (0.9, 0.1),\n",
    "    optimizer = tf.keras.optimizers.Adam(learning_rate=1e-3),\n",
    "    metrics=[tf.keras.metrics.RootMeanSquaredError()]\n",
    ")\n",
    "\n",
    "tensorboard_callbacks = tf.keras.callbacks.TensorBoard(run_logdir, profile_batch=(100, 200))\n",
    "history = model.fit((X_train_wide, X_train_deep), (y_train,y_train), epochs=10, validation_split=0.1, callbacks=tensorboard_callbacks)"
   ]
  },
  {
   "cell_type": "code",
   "execution_count": 8,
   "id": "cab0e151",
   "metadata": {},
   "outputs": [
    {
     "name": "stdout",
     "output_type": "stream",
     "text": [
      "Epoch 1/10\n",
      "489/489 [==============================] - 3s 4ms/step - loss: 6715909120.0000 - output_1_loss: 6715616256.0000 - output_2_loss: 6718506496.0000 - output_1_root_mean_squared_error: 81948.8672 - output_2_root_mean_squared_error: 81966.5000 - val_loss: 7080589824.0000 - val_output_1_loss: 7079343616.0000 - val_output_2_loss: 7091808768.0000 - val_output_1_root_mean_squared_error: 84138.8359 - val_output_2_root_mean_squared_error: 84212.8750\n",
      "Epoch 2/10\n",
      "489/489 [==============================] - 2s 3ms/step - loss: 6501238272.0000 - output_1_loss: 6501165056.0000 - output_2_loss: 6501846016.0000 - output_1_root_mean_squared_error: 80629.8047 - output_2_root_mean_squared_error: 80634.0234 - val_loss: 6416314880.0000 - val_output_1_loss: 6415961088.0000 - val_output_2_loss: 6419501056.0000 - val_output_1_root_mean_squared_error: 80099.6953 - val_output_2_root_mean_squared_error: 80121.7891\n",
      "Epoch 3/10\n",
      "489/489 [==============================] - 2s 3ms/step - loss: 6401469952.0000 - output_1_loss: 6401322496.0000 - output_2_loss: 6402811904.0000 - output_1_root_mean_squared_error: 80008.2656 - output_2_root_mean_squared_error: 80017.5703 - val_loss: 6220688896.0000 - val_output_1_loss: 6220740608.0000 - val_output_2_loss: 6220224000.0000 - val_output_1_root_mean_squared_error: 78871.6719 - val_output_2_root_mean_squared_error: 78868.3984\n",
      "Epoch 4/10\n",
      "489/489 [==============================] - 1s 3ms/step - loss: 6232046080.0000 - output_1_loss: 6232046080.0000 - output_2_loss: 6232069632.0000 - output_1_root_mean_squared_error: 78943.3125 - output_2_root_mean_squared_error: 78943.4609 - val_loss: 6206651904.0000 - val_output_1_loss: 6206346752.0000 - val_output_2_loss: 6209371136.0000 - val_output_1_root_mean_squared_error: 78780.3672 - val_output_2_root_mean_squared_error: 78799.5625\n",
      "Epoch 5/10\n",
      "489/489 [==============================] - 2s 4ms/step - loss: 6114858496.0000 - output_1_loss: 6114934784.0000 - output_2_loss: 6114177024.0000 - output_1_root_mean_squared_error: 78198.0469 - output_2_root_mean_squared_error: 78193.2031 - val_loss: 6334658048.0000 - val_output_1_loss: 6334233088.0000 - val_output_2_loss: 6338497024.0000 - val_output_1_root_mean_squared_error: 79587.8984 - val_output_2_root_mean_squared_error: 79614.6797\n",
      "Epoch 6/10\n",
      "489/489 [==============================] - 2s 3ms/step - loss: 5975787520.0000 - output_1_loss: 5976040960.0000 - output_2_loss: 5973552640.0000 - output_1_root_mean_squared_error: 77304.8594 - output_2_root_mean_squared_error: 77288.7578 - val_loss: 5773634560.0000 - val_output_1_loss: 5773843456.0000 - val_output_2_loss: 5771753472.0000 - val_output_1_root_mean_squared_error: 75985.8125 - val_output_2_root_mean_squared_error: 75972.0547\n",
      "Epoch 7/10\n",
      "489/489 [==============================] - 2s 4ms/step - loss: 5914213376.0000 - output_1_loss: 5914413056.0000 - output_2_loss: 5912452608.0000 - output_1_root_mean_squared_error: 76905.2188 - output_2_root_mean_squared_error: 76892.4766 - val_loss: 5820017664.0000 - val_output_1_loss: 5820639232.0000 - val_output_2_loss: 5814431232.0000 - val_output_1_root_mean_squared_error: 76293.1172 - val_output_2_root_mean_squared_error: 76252.4141\n",
      "Epoch 8/10\n",
      "489/489 [==============================] - 2s 3ms/step - loss: 5865295360.0000 - output_1_loss: 5865635840.0000 - output_2_loss: 5862249472.0000 - output_1_root_mean_squared_error: 76587.4375 - output_2_root_mean_squared_error: 76565.3281 - val_loss: 6584474112.0000 - val_output_1_loss: 6583138304.0000 - val_output_2_loss: 6596489216.0000 - val_output_1_root_mean_squared_error: 81136.5391 - val_output_2_root_mean_squared_error: 81218.7734\n",
      "Epoch 9/10\n",
      "489/489 [==============================] - 2s 3ms/step - loss: 5731732992.0000 - output_1_loss: 5732113920.0000 - output_2_loss: 5728329216.0000 - output_1_root_mean_squared_error: 75710.7266 - output_2_root_mean_squared_error: 75685.7266 - val_loss: 5914703872.0000 - val_output_1_loss: 5914767872.0000 - val_output_2_loss: 5914111488.0000 - val_output_1_root_mean_squared_error: 76907.5312 - val_output_2_root_mean_squared_error: 76903.2578\n",
      "Epoch 10/10\n",
      "489/489 [==============================] - 2s 3ms/step - loss: 5663625728.0000 - output_1_loss: 5664072192.0000 - output_2_loss: 5659617792.0000 - output_1_root_mean_squared_error: 75260.0312 - output_2_root_mean_squared_error: 75230.4297 - val_loss: 5539351552.0000 - val_output_1_loss: 5539829760.0000 - val_output_2_loss: 5535035904.0000 - val_output_1_root_mean_squared_error: 74430.0312 - val_output_2_root_mean_squared_error: 74397.8203\n"
     ]
    }
   ],
   "source": [
    "# changing the learning rate\n",
    "model.compile(\n",
    "    loss = (\"mse\",\"mse\"),\n",
    "    loss_weights= (0.9, 0.1),\n",
    "    optimizer = tf.keras.optimizers.Adam(learning_rate=0.003),\n",
    "    metrics=[tf.keras.metrics.RootMeanSquaredError()]\n",
    ")\n",
    "\n",
    "tensorboard_callbacks = tf.keras.callbacks.TensorBoard(run_logdir, profile_batch=(100, 200), update_freq='epoch')\n",
    "history = model.fit((X_train_wide, X_train_deep), (y_train,y_train), epochs=10, validation_split=0.1, callbacks=tensorboard_callbacks)"
   ]
  },
  {
   "cell_type": "code",
   "execution_count": 9,
   "id": "42923f5b",
   "metadata": {},
   "outputs": [
    {
     "ename": "NameError",
     "evalue": "name 'loss' is not defined",
     "output_type": "error",
     "traceback": [
      "\u001b[1;31m---------------------------------------------------------------------------\u001b[0m",
      "\u001b[1;31mNameError\u001b[0m                                 Traceback (most recent call last)",
      "\u001b[1;32m~\\AppData\\Local\\Temp\\ipykernel_15376\\2087364477.py\u001b[0m in \u001b[0;36m<module>\u001b[1;34m\u001b[0m\n\u001b[0;32m      2\u001b[0m \u001b[0msummary_writer\u001b[0m \u001b[1;33m=\u001b[0m \u001b[0mtf\u001b[0m\u001b[1;33m.\u001b[0m\u001b[0msummary\u001b[0m\u001b[1;33m.\u001b[0m\u001b[0mcreate_file_writer\u001b[0m\u001b[1;33m(\u001b[0m\u001b[1;34m'./my_logs'\u001b[0m\u001b[1;33m)\u001b[0m\u001b[1;33m\u001b[0m\u001b[1;33m\u001b[0m\u001b[0m\n\u001b[0;32m      3\u001b[0m \u001b[1;32mwith\u001b[0m \u001b[0msummary_writer\u001b[0m\u001b[1;33m.\u001b[0m\u001b[0mas_default\u001b[0m\u001b[1;33m(\u001b[0m\u001b[1;33m)\u001b[0m\u001b[1;33m:\u001b[0m\u001b[1;33m\u001b[0m\u001b[1;33m\u001b[0m\u001b[0m\n\u001b[1;32m----> 4\u001b[1;33m     \u001b[0mtf\u001b[0m\u001b[1;33m.\u001b[0m\u001b[0msummary\u001b[0m\u001b[1;33m.\u001b[0m\u001b[0mscalar\u001b[0m\u001b[1;33m(\u001b[0m\u001b[1;34m'loss'\u001b[0m\u001b[1;33m,\u001b[0m \u001b[0mloss\u001b[0m\u001b[1;33m,\u001b[0m \u001b[0mstep\u001b[0m\u001b[1;33m=\u001b[0m\u001b[0mepoch\u001b[0m\u001b[1;33m)\u001b[0m\u001b[1;33m\u001b[0m\u001b[1;33m\u001b[0m\u001b[0m\n\u001b[0m",
      "\u001b[1;31mNameError\u001b[0m: name 'loss' is not defined"
     ]
    }
   ],
   "source": [
    "# Example of logging scalar value\n",
    "summary_writer = tf.summary.create_file_writer('./my_logs')\n",
    "with summary_writer.as_default():\n",
    "    tf.summary.scalar('loss', loss, step=epoch)"
   ]
  },
  {
   "cell_type": "code",
   "execution_count": null,
   "id": "547fdbf8",
   "metadata": {},
   "outputs": [],
   "source": []
  }
 ],
 "metadata": {
  "kernelspec": {
   "display_name": "Python 3 (ipykernel)",
   "language": "python",
   "name": "python3"
  },
  "language_info": {
   "codemirror_mode": {
    "name": "ipython",
    "version": 3
   },
   "file_extension": ".py",
   "mimetype": "text/x-python",
   "name": "python",
   "nbconvert_exporter": "python",
   "pygments_lexer": "ipython3",
   "version": "3.9.13"
  }
 },
 "nbformat": 4,
 "nbformat_minor": 5
}
