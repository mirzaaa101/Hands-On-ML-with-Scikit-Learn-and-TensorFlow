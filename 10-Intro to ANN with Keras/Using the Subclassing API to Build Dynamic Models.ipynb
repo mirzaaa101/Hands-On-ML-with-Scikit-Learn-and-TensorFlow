{
 "cells": [
  {
   "attachments": {
    "image.png": {
     "image/png": "[encoded data removed]"
    }
   },
   "cell_type": "markdown",
   "id": "50965e96",
   "metadata": {},
   "source": [
    "### Let's Build the following Model:\n",
    "![image.png](attachment:image.png)"
   ]
  },
  {
   "cell_type": "code",
   "execution_count": 1,
   "id": "433f0b02",
   "metadata": {},
   "outputs": [],
   "source": [
    "import tensorflow as tf\n",
    "\n",
    "class WideAndDeepModel(tf.keras.Model):\n",
    "    def __init__(self, units=30, activation='relu', **kwargs):\n",
    "        super().__init__(**kwargs) # needed to support nameing the model\n",
    "        self.norm_layer_wide = tf.keras.layers.Normalization()\n",
    "        self.norm_layer_deep = tf.keras.layers.Normalization()\n",
    "        self.hidden1 = tf.keras.layers.Dense(units, activation=activation)\n",
    "        self.hidden2 = tf.keras.layers.Dense(units, activation=activation)\n",
    "        self.main_output = tf.keras.layers.Dense(1)\n",
    "        self.aux_output = tf.keras.layers.Dense(1)\n",
    "        \n",
    "    def call(self, inputs):\n",
    "        input_wide, input_deep = inputs\n",
    "        norm_wide = self.norm_layer_wide(input_wide)\n",
    "        norm_deep = self.norm_layer_deep(input_deep)\n",
    "        hidden1 = self.hidden1(norm_deep)\n",
    "        hidden2 = self.hidden2(hidden1)\n",
    "        concat = tf.keras.layers.concatenate([norm_wide, hidden2])\n",
    "        output = self.main_output(concat)\n",
    "        aux_output = self.aux_output(hidden2)\n",
    "        return output, aux_output\n",
    "    \n",
    "model = WideAndDeepModel(30, activation=\"relu\", name=\"my_cool_model\")"
   ]
  },
  {
   "cell_type": "code",
   "execution_count": 2,
   "id": "860e9fd9",
   "metadata": {},
   "outputs": [],
   "source": [
    "import pandas as pd\n",
    "from sklearn.model_selection import train_test_split\n",
    "\n",
    "housing = pd.read_csv('data/housing.csv')\n",
    "housing.dropna(inplace=True)\n",
    "housing.drop(columns=['ocean_proximity'], inplace=True)\n",
    "\n",
    "X = housing.drop(columns=['median_house_value'])\n",
    "y = housing['median_house_value']\n",
    "\n",
    "X_train, X_test, y_train, y_test = train_test_split(X, y, test_size=0.15, random_state=42)"
   ]
  },
  {
   "cell_type": "code",
   "execution_count": 3,
   "id": "59f46e47",
   "metadata": {},
   "outputs": [],
   "source": [
    "X_train_wide, X_train_deep = X_train.iloc[:, :5], X_train.iloc[:, 2:]\n",
    "X_test_wide, X_test_deep = X_test.iloc[:, :5], X_test.iloc[:, 2:]\n",
    "X_new_wide, X_new_deep = X_test_wide.iloc[:3], X_test_deep.iloc[:3]"
   ]
  },
  {
   "cell_type": "code",
   "execution_count": 4,
   "id": "fa16b8a4",
   "metadata": {},
   "outputs": [
    {
     "name": "stdout",
     "output_type": "stream",
     "text": [
      "Epoch 1/10\n",
      "489/489 [==============================] - 4s 3ms/step - loss: 38876635136.0000 - output_1_loss: 38555402240.0000 - output_2_loss: 41768218624.0000 - output_1_root_mean_squared_error: 196355.2969 - output_2_root_mean_squared_error: 204372.7500 - val_loss: 27994130432.0000 - val_output_1_loss: 27944263680.0000 - val_output_2_loss: 28442888192.0000 - val_output_1_root_mean_squared_error: 167165.3750 - val_output_2_root_mean_squared_error: 168650.1875\n",
      "Epoch 2/10\n",
      "489/489 [==============================] - 1s 2ms/step - loss: 27438211072.0000 - output_1_loss: 27424462848.0000 - output_2_loss: 27561834496.0000 - output_1_root_mean_squared_error: 165603.3281 - output_2_root_mean_squared_error: 166017.5781 - val_loss: 27658633216.0000 - val_output_1_loss: 27657033728.0000 - val_output_2_loss: 27673063424.0000 - val_output_1_root_mean_squared_error: 166304.0469 - val_output_2_root_mean_squared_error: 166352.2344\n",
      "Epoch 3/10\n",
      "489/489 [==============================] - 1s 2ms/step - loss: 27214544896.0000 - output_1_loss: 27211479040.0000 - output_2_loss: 27242182656.0000 - output_1_root_mean_squared_error: 164959.0156 - output_2_root_mean_squared_error: 165052.0625 - val_loss: 27350224896.0000 - val_output_1_loss: 27346886656.0000 - val_output_2_loss: 27380289536.0000 - val_output_1_root_mean_squared_error: 165368.9375 - val_output_2_root_mean_squared_error: 165469.9062\n",
      "Epoch 4/10\n",
      "489/489 [==============================] - 1s 2ms/step - loss: 26944200704.0000 - output_1_loss: 26940497920.0000 - output_2_loss: 26977660928.0000 - output_1_root_mean_squared_error: 164135.6094 - output_2_root_mean_squared_error: 164248.7812 - val_loss: 26958258176.0000 - val_output_1_loss: 26953881600.0000 - val_output_2_loss: 26997633024.0000 - val_output_1_root_mean_squared_error: 164176.3750 - val_output_2_root_mean_squared_error: 164309.5625\n",
      "Epoch 5/10\n",
      "489/489 [==============================] - 1s 2ms/step - loss: 26571405312.0000 - output_1_loss: 26566748160.0000 - output_2_loss: 26613413888.0000 - output_1_root_mean_squared_error: 162993.0938 - output_2_root_mean_squared_error: 163136.1875 - val_loss: 26511706112.0000 - val_output_1_loss: 26506399744.0000 - val_output_2_loss: 26559428608.0000 - val_output_1_root_mean_squared_error: 162807.8594 - val_output_2_root_mean_squared_error: 162970.6406\n",
      "Epoch 6/10\n",
      "489/489 [==============================] - 1s 2ms/step - loss: 26162966528.0000 - output_1_loss: 26157312000.0000 - output_2_loss: 26213605376.0000 - output_1_root_mean_squared_error: 161732.2188 - output_2_root_mean_squared_error: 161906.1562 - val_loss: 25997619200.0000 - val_output_1_loss: 25991438336.0000 - val_output_2_loss: 26053246976.0000 - val_output_1_root_mean_squared_error: 161218.6094 - val_output_2_root_mean_squared_error: 161410.1875\n",
      "Epoch 7/10\n",
      "489/489 [==============================] - 1s 2ms/step - loss: 25672433664.0000 - output_1_loss: 25665875968.0000 - output_2_loss: 25731362816.0000 - output_1_root_mean_squared_error: 160205.7344 - output_2_root_mean_squared_error: 160409.9844 - val_loss: 25372878848.0000 - val_output_1_loss: 25365848064.0000 - val_output_2_loss: 25436104704.0000 - val_output_1_root_mean_squared_error: 159266.5938 - val_output_2_root_mean_squared_error: 159487.0000\n",
      "Epoch 8/10\n",
      "489/489 [==============================] - 1s 2ms/step - loss: 25037664256.0000 - output_1_loss: 25030232064.0000 - output_2_loss: 25104498688.0000 - output_1_root_mean_squared_error: 158209.4531 - output_2_root_mean_squared_error: 158444.0000 - val_loss: 24644433920.0000 - val_output_1_loss: 24636704768.0000 - val_output_2_loss: 24713975808.0000 - val_output_1_root_mean_squared_error: 156960.8438 - val_output_2_root_mean_squared_error: 157206.7969\n",
      "Epoch 9/10\n",
      "489/489 [==============================] - 1s 2ms/step - loss: 24343609344.0000 - output_1_loss: 24335392768.0000 - output_2_loss: 24417392640.0000 - output_1_root_mean_squared_error: 155998.0469 - output_2_root_mean_squared_error: 156260.6562 - val_loss: 23716775936.0000 - val_output_1_loss: 23708481536.0000 - val_output_2_loss: 23791484928.0000 - val_output_1_root_mean_squared_error: 153975.5938 - val_output_2_root_mean_squared_error: 154244.8906\n",
      "Epoch 10/10\n",
      "489/489 [==============================] - 1s 2ms/step - loss: 23402153984.0000 - output_1_loss: 23393374208.0000 - output_2_loss: 23481354240.0000 - output_1_root_mean_squared_error: 152948.9219 - output_2_root_mean_squared_error: 153236.2656 - val_loss: 22734741504.0000 - val_output_1_loss: 22726066176.0000 - val_output_2_loss: 22812831744.0000 - val_output_1_root_mean_squared_error: 150751.6719 - val_output_2_root_mean_squared_error: 151039.1719\n"
     ]
    }
   ],
   "source": [
    "model.compile(\n",
    "    loss = (\"mse\",\"mse\"),\n",
    "    loss_weights= (0.9, 0.1),\n",
    "    optimizer = tf.keras.optimizers.Adam(learning_rate=1e-3),\n",
    "    metrics=[tf.keras.metrics.RootMeanSquaredError()]\n",
    ")\n",
    "history = model.fit((X_train_wide, X_train_deep), (y_train,y_train), epochs=10, validation_split=0.1)"
   ]
  },
  {
   "cell_type": "code",
   "execution_count": 5,
   "id": "54d2ab0f",
   "metadata": {},
   "outputs": [
    {
     "name": "stdout",
     "output_type": "stream",
     "text": [
      "96/96 [==============================] - 0s 2ms/step - loss: 22450470912.0000 - output_1_loss: 22442113024.0000 - output_2_loss: 22525741056.0000 - output_1_root_mean_squared_error: 149806.9219 - output_2_root_mean_squared_error: 150085.7812\n"
     ]
    },
    {
     "data": {
      "text/plain": [
       "[22450470912.0, 22442113024.0, 22525741056.0, 149806.921875, 150085.78125]"
      ]
     },
     "execution_count": 5,
     "metadata": {},
     "output_type": "execute_result"
    }
   ],
   "source": [
    "model.evaluate((X_test_wide,X_test_deep), (y_test,y_test))"
   ]
  },
  {
   "cell_type": "markdown",
   "id": "cd0916fa",
   "metadata": {},
   "source": [
    "This API provides some extra flexibility, specially for the researchers, but still it has cons as well. In the method the model architecture is hidden within the call method, it is not possible to clone this model using tf.keras.models.clone_model() and when using model.summery() method, it will only shows the layers without any information. So, it is easier to make mistakes. Finally, unless we need extra flexbility we should stuck on the sequential or the functional API."
   ]
  },
  {
   "cell_type": "markdown",
   "id": "8aa9965c",
   "metadata": {},
   "source": [
    "### Saving and Restoring a Model"
   ]
  },
  {
   "cell_type": "code",
   "execution_count": 6,
   "id": "be120dd3",
   "metadata": {},
   "outputs": [
    {
     "name": "stdout",
     "output_type": "stream",
     "text": [
      "INFO:tensorflow:Assets written to: my_keras_model\\assets\n"
     ]
    },
    {
     "name": "stderr",
     "output_type": "stream",
     "text": [
      "INFO:tensorflow:Assets written to: my_keras_model\\assets\n"
     ]
    }
   ],
   "source": [
    "model.save(\"my_keras_model\", save_format=\"tf\")"
   ]
  },
  {
   "cell_type": "markdown",
   "id": "98e40fba",
   "metadata": {},
   "source": [
    "save_format=\"tf\" means create a directory containing several files and sub-directories. In  particular, the saved_model.pd contains the models architecture and keras_metadata.pb file contains some extra information needed by keras."
   ]
  },
  {
   "cell_type": "code",
   "execution_count": 7,
   "id": "8773a978",
   "metadata": {},
   "outputs": [
    {
     "name": "stdout",
     "output_type": "stream",
     "text": [
      "1/1 [==============================] - 0s 141ms/step\n"
     ]
    },
    {
     "data": {
      "text/plain": [
       "(array([[354434.03 ],\n",
       "        [127645.73 ],\n",
       "        [ 96765.375]], dtype=float32),\n",
       " array([[354595.6  ],\n",
       "        [127225.445],\n",
       "        [ 96266.51 ]], dtype=float32))"
      ]
     },
     "execution_count": 7,
     "metadata": {},
     "output_type": "execute_result"
    }
   ],
   "source": [
    "# restore\n",
    "model = tf.keras.models.load_model(\"my_keras_model\")\n",
    "model.predict((X_new_wide,X_new_deep))"
   ]
  },
  {
   "cell_type": "markdown",
   "id": "5d8c3a44",
   "metadata": {},
   "source": [
    "Also we can save_weights() and load_weights() to save only the parameter values. Saving just weights is faster and uses less disk space. If we train a big model, and it takes hours or days, then we can save checkpoints regularly in case computer crahses. "
   ]
  },
  {
   "cell_type": "markdown",
   "id": "e2b8333c",
   "metadata": {},
   "source": [
    "### Save Checkpoint Using Callbacks"
   ]
  },
  {
   "cell_type": "code",
   "execution_count": 8,
   "id": "5eb070ca",
   "metadata": {},
   "outputs": [
    {
     "name": "stdout",
     "output_type": "stream",
     "text": [
      "Epoch 1/10\n",
      "489/489 [==============================] - 3s 3ms/step - loss: 22267596800.0000 - output_1_loss: 22258305024.0000 - output_2_loss: 22351257600.0000 - output_1_root_mean_squared_error: 149192.1719 - output_2_root_mean_squared_error: 149503.3750 - val_loss: 21283174400.0000 - val_output_1_loss: 21274138624.0000 - val_output_2_loss: 21364502528.0000 - val_output_1_root_mean_squared_error: 145856.5625 - val_output_2_root_mean_squared_error: 146166.0156\n",
      "Epoch 2/10\n",
      "489/489 [==============================] - 1s 3ms/step - loss: 20913031168.0000 - output_1_loss: 20903403520.0000 - output_2_loss: 20999581696.0000 - output_1_root_mean_squared_error: 144580.0938 - output_2_root_mean_squared_error: 144912.3281 - val_loss: 19658010624.0000 - val_output_1_loss: 19648972800.0000 - val_output_2_loss: 19739346944.0000 - val_output_1_root_mean_squared_error: 140174.7969 - val_output_2_root_mean_squared_error: 140496.7812\n",
      "Epoch 3/10\n",
      "489/489 [==============================] - 1s 3ms/step - loss: 19247951872.0000 - output_1_loss: 19238455296.0000 - output_2_loss: 19333490688.0000 - output_1_root_mean_squared_error: 138702.7656 - output_2_root_mean_squared_error: 139044.9219 - val_loss: 17823076352.0000 - val_output_1_loss: 17814470656.0000 - val_output_2_loss: 17900505088.0000 - val_output_1_root_mean_squared_error: 133470.8594 - val_output_2_root_mean_squared_error: 133792.7656\n",
      "Epoch 4/10\n",
      "489/489 [==============================] - 1s 3ms/step - loss: 17308522496.0000 - output_1_loss: 17299716096.0000 - output_2_loss: 17387759616.0000 - output_1_root_mean_squared_error: 131528.3906 - output_2_root_mean_squared_error: 131862.6562 - val_loss: 15954979840.0000 - val_output_1_loss: 15947213824.0000 - val_output_2_loss: 16024872960.0000 - val_output_1_root_mean_squared_error: 126282.2812 - val_output_2_root_mean_squared_error: 126589.3906\n",
      "Epoch 5/10\n",
      "489/489 [==============================] - 1s 3ms/step - loss: 15189345280.0000 - output_1_loss: 15182404608.0000 - output_2_loss: 15251764224.0000 - output_1_root_mean_squared_error: 123216.8984 - output_2_root_mean_squared_error: 123498.0312 - val_loss: 13710951424.0000 - val_output_1_loss: 13705879552.0000 - val_output_2_loss: 13756608512.0000 - val_output_1_root_mean_squared_error: 117072.1094 - val_output_2_root_mean_squared_error: 117288.5703\n",
      "Epoch 6/10\n",
      "489/489 [==============================] - 1s 3ms/step - loss: 13274973184.0000 - output_1_loss: 13272709120.0000 - output_2_loss: 13295356928.0000 - output_1_root_mean_squared_error: 115207.2422 - output_2_root_mean_squared_error: 115305.4922 - val_loss: 12007063552.0000 - val_output_1_loss: 12006105088.0000 - val_output_2_loss: 12015661056.0000 - val_output_1_root_mean_squared_error: 109572.3750 - val_output_2_root_mean_squared_error: 109615.9688\n",
      "Epoch 7/10\n",
      "489/489 [==============================] - 2s 3ms/step - loss: 11987863552.0000 - output_1_loss: 11987105792.0000 - output_2_loss: 11994570752.0000 - output_1_root_mean_squared_error: 109485.6406 - output_2_root_mean_squared_error: 109519.7266 - val_loss: 11297789952.0000 - val_output_1_loss: 11297366016.0000 - val_output_2_loss: 11301606400.0000 - val_output_1_root_mean_squared_error: 106289.0703 - val_output_2_root_mean_squared_error: 106309.0156\n",
      "Epoch 8/10\n",
      "489/489 [==============================] - 1s 3ms/step - loss: 11401100288.0000 - output_1_loss: 11400412160.0000 - output_2_loss: 11407243264.0000 - output_1_root_mean_squared_error: 106772.7109 - output_2_root_mean_squared_error: 106804.6953 - val_loss: 10902445056.0000 - val_output_1_loss: 10901059584.0000 - val_output_2_loss: 10914915328.0000 - val_output_1_root_mean_squared_error: 104408.1406 - val_output_2_root_mean_squared_error: 104474.4688\n",
      "Epoch 9/10\n",
      "489/489 [==============================] - 2s 3ms/step - loss: 11126484992.0000 - output_1_loss: 11125500928.0000 - output_2_loss: 11135351808.0000 - output_1_root_mean_squared_error: 105477.4922 - output_2_root_mean_squared_error: 105524.1797 - val_loss: 10665628672.0000 - val_output_1_loss: 10664532992.0000 - val_output_2_loss: 10675524608.0000 - val_output_1_root_mean_squared_error: 103269.2266 - val_output_2_root_mean_squared_error: 103322.4297\n",
      "Epoch 10/10\n",
      "489/489 [==============================] - 1s 3ms/step - loss: 10929987584.0000 - output_1_loss: 10929016832.0000 - output_2_loss: 10938704896.0000 - output_1_root_mean_squared_error: 104541.9375 - output_2_root_mean_squared_error: 104588.2656 - val_loss: 10566476800.0000 - val_output_1_loss: 10565228544.0000 - val_output_2_loss: 10577709056.0000 - val_output_1_root_mean_squared_error: 102787.2969 - val_output_2_root_mean_squared_error: 102847.9922\n"
     ]
    }
   ],
   "source": [
    "checkpoint_cb = tf.keras.callbacks.ModelCheckpoint(\"my_checkpoints\", save_weights_only=True, save_best_only=True)\n",
    "history = model.fit((X_train_wide, X_train_deep), (y_train,y_train), epochs=10, validation_split=0.1, callbacks=[checkpoint_cb])"
   ]
  },
  {
   "cell_type": "markdown",
   "id": "ce4e85d0",
   "metadata": {},
   "source": [
    "The save_best_only=True means keras saves the model when it performs best on the validation set, this is like early stopping. But actually it does not stop training. To early stopping callbacks, we need the following way."
   ]
  },
  {
   "cell_type": "code",
   "execution_count": 9,
   "id": "332261da",
   "metadata": {},
   "outputs": [
    {
     "name": "stdout",
     "output_type": "stream",
     "text": [
      "Epoch 1/10\n",
      "489/489 [==============================] - 1s 3ms/step - loss: 10755800064.0000 - output_1_loss: 10754732032.0000 - output_2_loss: 10765342720.0000 - output_1_root_mean_squared_error: 103705.0234 - output_2_root_mean_squared_error: 103756.1719 - val_loss: 10428103680.0000 - val_output_1_loss: 10426943488.0000 - val_output_2_loss: 10438532096.0000 - val_output_1_root_mean_squared_error: 102112.4062 - val_output_2_root_mean_squared_error: 102169.1328\n",
      "Epoch 2/10\n",
      "489/489 [==============================] - 1s 3ms/step - loss: 10584360960.0000 - output_1_loss: 10583311360.0000 - output_2_loss: 10593821696.0000 - output_1_root_mean_squared_error: 102875.2188 - output_2_root_mean_squared_error: 102926.2891 - val_loss: 10213453824.0000 - val_output_1_loss: 10212686848.0000 - val_output_2_loss: 10220365824.0000 - val_output_1_root_mean_squared_error: 101057.8359 - val_output_2_root_mean_squared_error: 101095.8281\n",
      "Epoch 3/10\n",
      "489/489 [==============================] - 1s 2ms/step - loss: 10438200320.0000 - output_1_loss: 10437171200.0000 - output_2_loss: 10447495168.0000 - output_1_root_mean_squared_error: 102162.4766 - output_2_root_mean_squared_error: 102212.9922 - val_loss: 10064259072.0000 - val_output_1_loss: 10063346688.0000 - val_output_2_loss: 10072453120.0000 - val_output_1_root_mean_squared_error: 100316.2344 - val_output_2_root_mean_squared_error: 100361.6094\n",
      "Epoch 4/10\n",
      "489/489 [==============================] - 1s 3ms/step - loss: 10242496512.0000 - output_1_loss: 10241492992.0000 - output_2_loss: 10251540480.0000 - output_1_root_mean_squared_error: 101200.2656 - output_2_root_mean_squared_error: 101249.8906 - val_loss: 9915276288.0000 - val_output_1_loss: 9914329088.0000 - val_output_2_loss: 9923806208.0000 - val_output_1_root_mean_squared_error: 99570.7266 - val_output_2_root_mean_squared_error: 99618.3047\n",
      "Epoch 5/10\n",
      "489/489 [==============================] - 1s 3ms/step - loss: 10051796992.0000 - output_1_loss: 10050875392.0000 - output_2_loss: 10060073984.0000 - output_1_root_mean_squared_error: 100254.0547 - output_2_root_mean_squared_error: 100299.9219 - val_loss: 9705633792.0000 - val_output_1_loss: 9704731648.0000 - val_output_2_loss: 9713744896.0000 - val_output_1_root_mean_squared_error: 98512.5938 - val_output_2_root_mean_squared_error: 98558.3359\n",
      "Epoch 6/10\n",
      "489/489 [==============================] - 1s 3ms/step - loss: 9871863808.0000 - output_1_loss: 9870864384.0000 - output_2_loss: 9880894464.0000 - output_1_root_mean_squared_error: 99352.2266 - output_2_root_mean_squared_error: 99402.6875 - val_loss: 9589690368.0000 - val_output_1_loss: 9588975616.0000 - val_output_2_loss: 9596152832.0000 - val_output_1_root_mean_squared_error: 97923.3125 - val_output_2_root_mean_squared_error: 97959.9531\n",
      "Epoch 7/10\n",
      "489/489 [==============================] - 1s 3ms/step - loss: 9693327360.0000 - output_1_loss: 9692472320.0000 - output_2_loss: 9701005312.0000 - output_1_root_mean_squared_error: 98450.3516 - output_2_root_mean_squared_error: 98493.6797 - val_loss: 9388488704.0000 - val_output_1_loss: 9388038144.0000 - val_output_2_loss: 9392547840.0000 - val_output_1_root_mean_squared_error: 96891.8906 - val_output_2_root_mean_squared_error: 96915.1562\n",
      "Epoch 8/10\n",
      "489/489 [==============================] - 1s 3ms/step - loss: 9517880320.0000 - output_1_loss: 9517114368.0000 - output_2_loss: 9524780032.0000 - output_1_root_mean_squared_error: 97555.6953 - output_2_root_mean_squared_error: 97594.9766 - val_loss: 9250100224.0000 - val_output_1_loss: 9249123328.0000 - val_output_2_loss: 9258891264.0000 - val_output_1_root_mean_squared_error: 96172.3594 - val_output_2_root_mean_squared_error: 96223.1328\n",
      "Epoch 9/10\n",
      "489/489 [==============================] - 1s 2ms/step - loss: 9335113728.0000 - output_1_loss: 9334290432.0000 - output_2_loss: 9342522368.0000 - output_1_root_mean_squared_error: 96614.1328 - output_2_root_mean_squared_error: 96656.7266 - val_loss: 9045136384.0000 - val_output_1_loss: 9044688896.0000 - val_output_2_loss: 9049182208.0000 - val_output_1_root_mean_squared_error: 95103.5703 - val_output_2_root_mean_squared_error: 95127.1875\n",
      "Epoch 10/10\n",
      "489/489 [==============================] - 1s 2ms/step - loss: 9167938560.0000 - output_1_loss: 9167192064.0000 - output_2_loss: 9174665216.0000 - output_1_root_mean_squared_error: 95745.4531 - output_2_root_mean_squared_error: 95784.4766 - val_loss: 8935875584.0000 - val_output_1_loss: 8934968320.0000 - val_output_2_loss: 8944052224.0000 - val_output_1_root_mean_squared_error: 94524.9609 - val_output_2_root_mean_squared_error: 94573.0000\n"
     ]
    }
   ],
   "source": [
    "early_stoping_cb = tf.keras.callbacks.EarlyStopping(patience=10, restore_best_weights=True)\n",
    "checkpoint_cb = tf.keras.callbacks.ModelCheckpoint(\"my_checkpoints\", save_weights_only=True, save_best_only=True)\n",
    "history = model.fit((X_train_wide, X_train_deep), (y_train,y_train), epochs=10, validation_split=0.1, \n",
    "                    callbacks=[checkpoint_cb, early_stoping_cb])"
   ]
  }
 ],
 "metadata": {
  "kernelspec": {
   "display_name": "Python 3 (ipykernel)",
   "language": "python",
   "name": "python3"
  },
  "language_info": {
   "codemirror_mode": {
    "name": "ipython",
    "version": 3
   },
   "file_extension": ".py",
   "mimetype": "text/x-python",
   "name": "python",
   "nbconvert_exporter": "python",
   "pygments_lexer": "ipython3",
   "version": "3.9.13"
  }
 },
 "nbformat": 4,
 "nbformat_minor": 5
}
