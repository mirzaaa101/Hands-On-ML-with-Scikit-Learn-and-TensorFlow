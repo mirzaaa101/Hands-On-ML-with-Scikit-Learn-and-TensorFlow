{
 "cells": [
  {
   "cell_type": "code",
   "execution_count": 1,
   "id": "696d3c2b",
   "metadata": {},
   "outputs": [
    {
     "data": {
      "text/plain": [
       "(28, 28)"
      ]
     },
     "execution_count": 1,
     "metadata": {},
     "output_type": "execute_result"
    }
   ],
   "source": [
    "import tensorflow as tf\n",
    "\n",
    "mnist = tf.keras.datasets.mnist.load_data()\n",
    "(X_train, y_train), (X_test, y_test) = mnist\n",
    "\n",
    "X_train, X_test = X_train/255. , X_test/255.\n",
    "\n",
    "X_train[0].shape"
   ]
  },
  {
   "cell_type": "code",
   "execution_count": 7,
   "id": "831037bf",
   "metadata": {},
   "outputs": [
    {
     "name": "stdout",
     "output_type": "stream",
     "text": [
      "Epoch 1/3\n",
      "1688/1688 [==============================] - 7s 4ms/step - loss: 0.6396 - accuracy: 0.8363 - val_loss: 0.2724 - val_accuracy: 0.9252\n",
      "Epoch 2/3\n",
      "1688/1688 [==============================] - 6s 3ms/step - loss: 0.2985 - accuracy: 0.9154 - val_loss: 0.2172 - val_accuracy: 0.9388\n",
      "Epoch 3/3\n",
      "1688/1688 [==============================] - 6s 4ms/step - loss: 0.2453 - accuracy: 0.9294 - val_loss: 0.1855 - val_accuracy: 0.9507\n"
     ]
    }
   ],
   "source": [
    "model = tf.keras.Sequential([\n",
    "    tf.keras.layers.Flatten(input_shape=(28, 28)),\n",
    "    tf.keras.layers.Dense(200, activation=\"relu\"),\n",
    "    tf.keras.layers.Dense(200, activation=\"relu\"),\n",
    "    tf.keras.layers.Dense(10, activation=\"softmax\"),\n",
    "])\n",
    "\n",
    "\n",
    "optimizer = tf.keras.optimizers.SGD(learning_rate=0.01)\n",
    "model.compile(\n",
    "    loss = tf.keras.losses.sparse_categorical_crossentropy,\n",
    "    optimizer = optimizer,\n",
    "    metrics = [\"accuracy\"]\n",
    ")\n",
    "\n",
    "history = model.fit(X_train, y_train, epochs=3, validation_split=0.1)"
   ]
  },
  {
   "cell_type": "markdown",
   "id": "70327474",
   "metadata": {},
   "source": [
    "### L1 and L2 Regularization Techniques"
   ]
  },
  {
   "cell_type": "code",
   "execution_count": 8,
   "id": "20251d75",
   "metadata": {},
   "outputs": [
    {
     "name": "stdout",
     "output_type": "stream",
     "text": [
      "Epoch 1/3\n",
      "1688/1688 [==============================] - 7s 4ms/step - loss: 6.7258 - accuracy: 0.8415 - val_loss: 4.7373 - val_accuracy: 0.9168\n",
      "Epoch 2/3\n",
      "1688/1688 [==============================] - 6s 4ms/step - loss: 3.6930 - accuracy: 0.9032 - val_loss: 2.7599 - val_accuracy: 0.9247\n",
      "Epoch 3/3\n",
      "1688/1688 [==============================] - 6s 4ms/step - loss: 2.2582 - accuracy: 0.9081 - val_loss: 1.7583 - val_accuracy: 0.9275\n"
     ]
    }
   ],
   "source": [
    "model = tf.keras.Sequential([\n",
    "    tf.keras.layers.Flatten(input_shape=(28, 28)),\n",
    "    tf.keras.layers.Dense(\n",
    "        200, activation=\"relu\", kernel_initializer=\"he_normal\", kernel_regularizer=tf.keras.regularizers.l2(0.01)\n",
    "    ),\n",
    "    tf.keras.layers.Dense(\n",
    "        200, activation=\"relu\", kernel_initializer=\"he_normal\", kernel_regularizer=tf.keras.regularizers.l2(0.01)\n",
    "    ),\n",
    "    tf.keras.layers.Dense(\n",
    "        10, activation=\"softmax\", kernel_initializer=\"he_normal\", kernel_regularizer=tf.keras.regularizers.l2(0.01)\n",
    "    ),\n",
    "])\n",
    "\n",
    "\n",
    "optimizer = tf.keras.optimizers.SGD(learning_rate=0.01)\n",
    "model.compile(\n",
    "    loss = tf.keras.losses.sparse_categorical_crossentropy,\n",
    "    optimizer = optimizer,\n",
    "    metrics = [\"accuracy\"]\n",
    ")\n",
    "\n",
    "history = model.fit(X_train, y_train, epochs=3, validation_split=0.1)"
   ]
  },
  {
   "cell_type": "markdown",
   "id": "fdf845d3",
   "metadata": {},
   "source": [
    "### Using L1 and L2 Together"
   ]
  },
  {
   "cell_type": "code",
   "execution_count": 9,
   "id": "0513881d",
   "metadata": {},
   "outputs": [
    {
     "name": "stdout",
     "output_type": "stream",
     "text": [
      "Epoch 1/3\n",
      "1688/1688 [==============================] - 8s 4ms/step - loss: 25.7705 - accuracy: 0.5495 - val_loss: 2.9035 - val_accuracy: 0.3380\n",
      "Epoch 2/3\n",
      "1688/1688 [==============================] - 7s 4ms/step - loss: 2.4775 - accuracy: 0.3737 - val_loss: 2.2922 - val_accuracy: 0.4398\n",
      "Epoch 3/3\n",
      "1688/1688 [==============================] - 7s 4ms/step - loss: 2.1509 - accuracy: 0.5056 - val_loss: 1.9805 - val_accuracy: 0.6030\n"
     ]
    }
   ],
   "source": [
    "model = tf.keras.Sequential([\n",
    "    tf.keras.layers.Flatten(input_shape=(28, 28)),\n",
    "    tf.keras.layers.Dense(\n",
    "        200, activation=\"relu\", kernel_initializer=\"he_normal\", kernel_regularizer=tf.keras.regularizers.l1_l2(0.01)\n",
    "    ),\n",
    "    tf.keras.layers.Dense(\n",
    "        200, activation=\"relu\", kernel_initializer=\"he_normal\", kernel_regularizer=tf.keras.regularizers.l1_l2(0.01)\n",
    "    ),\n",
    "    tf.keras.layers.Dense(\n",
    "        10, activation=\"softmax\", kernel_initializer=\"he_normal\", kernel_regularizer=tf.keras.regularizers.l1_l2(0.01)\n",
    "    ),\n",
    "])\n",
    "\n",
    "\n",
    "optimizer = tf.keras.optimizers.SGD(learning_rate=0.01)\n",
    "model.compile(\n",
    "    loss = tf.keras.losses.sparse_categorical_crossentropy,\n",
    "    optimizer = optimizer,\n",
    "    metrics = [\"accuracy\"]\n",
    ")\n",
    "\n",
    "history = model.fit(X_train, y_train, epochs=3, validation_split=0.1)"
   ]
  },
  {
   "cell_type": "markdown",
   "id": "7111a69d",
   "metadata": {},
   "source": [
    "### Code Refactoring"
   ]
  },
  {
   "cell_type": "code",
   "execution_count": 11,
   "id": "748f5188",
   "metadata": {},
   "outputs": [
    {
     "name": "stdout",
     "output_type": "stream",
     "text": [
      "Epoch 1/3\n",
      "1688/1688 [==============================] - 7s 4ms/step - loss: 6.7058 - accuracy: 0.8420 - val_loss: 4.7262 - val_accuracy: 0.9217\n",
      "Epoch 2/3\n",
      "1688/1688 [==============================] - 6s 4ms/step - loss: 3.6879 - accuracy: 0.9056 - val_loss: 2.7561 - val_accuracy: 0.9268\n",
      "Epoch 3/3\n",
      "1688/1688 [==============================] - 7s 4ms/step - loss: 2.2565 - accuracy: 0.9099 - val_loss: 1.7578 - val_accuracy: 0.9290\n"
     ]
    }
   ],
   "source": [
    "from functools import partial\n",
    "\n",
    "RegularizedDense = partial(\n",
    "    tf.keras.layers.Dense,\n",
    "    activation=\"relu\",\n",
    "    kernel_initializer=\"he_normal\", kernel_regularizer=tf.keras.regularizers.l2(0.01)\n",
    ")\n",
    "\n",
    "model = tf.keras.Sequential([\n",
    "    tf.keras.layers.Flatten(input_shape=[28,28]),\n",
    "    RegularizedDense(200),\n",
    "    RegularizedDense(200),\n",
    "    RegularizedDense(10, activation=\"softmax\")\n",
    "])\n",
    "\n",
    "\n",
    "optimizer = tf.keras.optimizers.SGD(learning_rate=0.01)\n",
    "model.compile(\n",
    "    loss = tf.keras.losses.sparse_categorical_crossentropy,\n",
    "    optimizer = optimizer,\n",
    "    metrics = [\"accuracy\"]\n",
    ")\n",
    "\n",
    "history = model.fit(X_train, y_train, epochs=3, validation_split=0.1)"
   ]
  },
  {
   "cell_type": "markdown",
   "id": "e7f849de",
   "metadata": {},
   "source": [
    "### Dropout"
   ]
  },
  {
   "cell_type": "code",
   "execution_count": 12,
   "id": "07891766",
   "metadata": {},
   "outputs": [
    {
     "name": "stdout",
     "output_type": "stream",
     "text": [
      "Epoch 1/3\n",
      "1688/1688 [==============================] - 8s 4ms/step - loss: 4.1241 - accuracy: 0.7023 - val_loss: 2.7251 - val_accuracy: 0.9108\n",
      "Epoch 2/3\n",
      "1688/1688 [==============================] - 6s 4ms/step - loss: 2.3760 - accuracy: 0.8365 - val_loss: 1.7195 - val_accuracy: 0.9228\n",
      "Epoch 3/3\n",
      "1688/1688 [==============================] - 6s 4ms/step - loss: 1.6356 - accuracy: 0.8522 - val_loss: 1.2311 - val_accuracy: 0.9238\n"
     ]
    }
   ],
   "source": [
    "RegularizedDense = partial(\n",
    "    tf.keras.layers.Dense,\n",
    "    activation=\"relu\",\n",
    "    kernel_initializer=\"he_normal\", kernel_regularizer=tf.keras.regularizers.l2(0.01)\n",
    ")\n",
    "\n",
    "\n",
    "model = tf.keras.Sequential([\n",
    "    tf.keras.layers.Flatten(input_shape=[28,28]),\n",
    "    tf.keras.layers.Dropout(rate=0.2),\n",
    "    RegularizedDense(100),\n",
    "    tf.keras.layers.Dropout(rate=0.2),\n",
    "    RegularizedDense(100),\n",
    "    tf.keras.layers.Dropout(rate=0.2),\n",
    "    RegularizedDense(10, activation=\"softmax\")\n",
    "])\n",
    "\n",
    "optimizer = tf.keras.optimizers.SGD(learning_rate=0.01)\n",
    "model.compile(\n",
    "    loss = tf.keras.losses.sparse_categorical_crossentropy,\n",
    "    optimizer = optimizer,\n",
    "    metrics = [\"accuracy\"]\n",
    ")\n",
    "\n",
    "history = model.fit(X_train, y_train, epochs=3, validation_split=0.1)"
   ]
  },
  {
   "cell_type": "code",
   "execution_count": 14,
   "id": "e213025e",
   "metadata": {},
   "outputs": [
    {
     "name": "stdout",
     "output_type": "stream",
     "text": [
      "313/313 [==============================] - 1s 2ms/step - loss: 1.2687 - accuracy: 0.9125\n"
     ]
    },
    {
     "data": {
      "text/plain": [
       "[1.2686586380004883, 0.9125000238418579]"
      ]
     },
     "execution_count": 14,
     "metadata": {},
     "output_type": "execute_result"
    }
   ],
   "source": [
    "model.evaluate(X_test, y_test)"
   ]
  },
  {
   "cell_type": "markdown",
   "id": "7d506b86",
   "metadata": {},
   "source": [
    "### MCDropout"
   ]
  },
  {
   "cell_type": "code",
   "execution_count": 24,
   "id": "17fb97e5",
   "metadata": {},
   "outputs": [
    {
     "name": "stdout",
     "output_type": "stream",
     "text": [
      "Epoch 1/3\n",
      "1688/1688 [==============================] - 6s 3ms/step - loss: 3.8902 - accuracy: 0.8352 - val_loss: 2.7495 - val_accuracy: 0.9203\n",
      "Epoch 2/3\n",
      "1688/1688 [==============================] - 5s 3ms/step - loss: 2.2527 - accuracy: 0.9014 - val_loss: 1.7461 - val_accuracy: 0.9235\n",
      "Epoch 3/3\n",
      "1688/1688 [==============================] - 5s 3ms/step - loss: 1.5277 - accuracy: 0.9068 - val_loss: 1.2489 - val_accuracy: 0.9283\n"
     ]
    }
   ],
   "source": [
    "class MCDropout(tf.keras.layers.Dropout):\n",
    "    def call(self, inputs, training=False):\n",
    "        return super().call(inputs, training=False)\n",
    "\n",
    "model = tf.keras.Sequential([\n",
    "    tf.keras.layers.Flatten(input_shape=[28,28]),\n",
    "    MCDropout(rate=0.2),\n",
    "    RegularizedDense(100),\n",
    "    MCDropout(rate=0.2),\n",
    "    RegularizedDense(100),\n",
    "    MCDropout(rate=0.2),\n",
    "    RegularizedDense(10, activation=\"softmax\")\n",
    "])\n",
    "\n",
    "optimizer = tf.keras.optimizers.SGD(learning_rate=0.01)\n",
    "model.compile(\n",
    "    loss = tf.keras.losses.sparse_categorical_crossentropy,\n",
    "    optimizer = optimizer,\n",
    "    metrics = [\"accuracy\"]\n",
    ")\n",
    "\n",
    "history = model.fit(X_train, y_train, epochs=3, validation_split=0.1)"
   ]
  },
  {
   "cell_type": "code",
   "execution_count": 27,
   "id": "c8e0bf95",
   "metadata": {},
   "outputs": [
    {
     "name": "stdout",
     "output_type": "stream",
     "text": [
      "313/313 [==============================] - 1s 2ms/step - loss: 1.2838 - accuracy: 0.9119\n"
     ]
    },
    {
     "data": {
      "text/plain": [
       "[1.2838364839553833, 0.911899983882904]"
      ]
     },
     "execution_count": 27,
     "metadata": {},
     "output_type": "execute_result"
    }
   ],
   "source": [
    "model.evaluate(X_test, y_test)"
   ]
  }
 ],
 "metadata": {
  "kernelspec": {
   "display_name": "Python 3 (ipykernel)",
   "language": "python",
   "name": "python3"
  },
  "language_info": {
   "codemirror_mode": {
    "name": "ipython",
    "version": 3
   },
   "file_extension": ".py",
   "mimetype": "text/x-python",
   "name": "python",
   "nbconvert_exporter": "python",
   "pygments_lexer": "ipython3",
   "version": "3.9.13"
  }
 },
 "nbformat": 4,
 "nbformat_minor": 5
}
