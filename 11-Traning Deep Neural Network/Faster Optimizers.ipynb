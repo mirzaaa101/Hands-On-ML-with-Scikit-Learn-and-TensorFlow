{
 "cells": [
  {
   "cell_type": "code",
   "execution_count": 1,
   "id": "3eb16c0b",
   "metadata": {},
   "outputs": [
    {
     "data": {
      "text/plain": [
       "(28, 28)"
      ]
     },
     "execution_count": 1,
     "metadata": {},
     "output_type": "execute_result"
    }
   ],
   "source": [
    "import tensorflow as tf\n",
    "\n",
    "mnist = tf.keras.datasets.mnist.load_data()\n",
    "(X_train, y_train), (X_test, y_test) = mnist\n",
    "\n",
    "X_train, X_test = X_train/255. , X_test/255.\n",
    "\n",
    "X_train[0].shape"
   ]
  },
  {
   "cell_type": "code",
   "execution_count": 2,
   "id": "80358950",
   "metadata": {},
   "outputs": [
    {
     "name": "stdout",
     "output_type": "stream",
     "text": [
      "Model: \"sequential\"\n",
      "_________________________________________________________________\n",
      " Layer (type)                Output Shape              Param #   \n",
      "=================================================================\n",
      " flatten (Flatten)           (None, 784)               0         \n",
      "                                                                 \n",
      " dense (Dense)               (None, 200)               157000    \n",
      "                                                                 \n",
      " dense_1 (Dense)             (None, 200)               40200     \n",
      "                                                                 \n",
      " dense_2 (Dense)             (None, 10)                2010      \n",
      "                                                                 \n",
      "=================================================================\n",
      "Total params: 199210 (778.16 KB)\n",
      "Trainable params: 199210 (778.16 KB)\n",
      "Non-trainable params: 0 (0.00 Byte)\n",
      "_________________________________________________________________\n"
     ]
    }
   ],
   "source": [
    "model = tf.keras.Sequential([\n",
    "    tf.keras.layers.Flatten(input_shape=(28, 28)),\n",
    "    tf.keras.layers.Dense(200, activation=\"relu\"),\n",
    "    tf.keras.layers.Dense(200, activation=\"relu\"),\n",
    "    tf.keras.layers.Dense(10, activation=\"softmax\"),\n",
    "])\n",
    "model.summary()"
   ]
  },
  {
   "cell_type": "markdown",
   "id": "df7b4f7e",
   "metadata": {},
   "source": [
    "### Momemtum"
   ]
  },
  {
   "cell_type": "code",
   "execution_count": 3,
   "id": "a1092d7a",
   "metadata": {},
   "outputs": [
    {
     "name": "stdout",
     "output_type": "stream",
     "text": [
      "Epoch 1/3\n",
      "1688/1688 [==============================] - 7s 4ms/step - loss: 0.2879 - accuracy: 0.9143 - val_loss: 0.1257 - val_accuracy: 0.9638\n",
      "Epoch 2/3\n",
      "1688/1688 [==============================] - 6s 4ms/step - loss: 0.1152 - accuracy: 0.9649 - val_loss: 0.1003 - val_accuracy: 0.9713\n",
      "Epoch 3/3\n",
      "1688/1688 [==============================] - 7s 4ms/step - loss: 0.0782 - accuracy: 0.9758 - val_loss: 0.0857 - val_accuracy: 0.9765\n"
     ]
    }
   ],
   "source": [
    "optimizer = tf.keras.optimizers.SGD(learning_rate=0.01, momentum=0.9)\n",
    "model.compile(\n",
    "    loss = tf.keras.losses.sparse_categorical_crossentropy,\n",
    "    optimizer = optimizer,\n",
    "    metrics = [\"accuracy\"]\n",
    ")\n",
    "\n",
    "history = model.fit(X_train, y_train, epochs=3, validation_split=0.1)"
   ]
  },
  {
   "cell_type": "markdown",
   "id": "3b4a6e57",
   "metadata": {},
   "source": [
    "### Nesterov Accelerated Gradient"
   ]
  },
  {
   "cell_type": "code",
   "execution_count": 4,
   "id": "e3749d7c",
   "metadata": {},
   "outputs": [
    {
     "name": "stdout",
     "output_type": "stream",
     "text": [
      "Epoch 1/3\n",
      "1688/1688 [==============================] - 8s 4ms/step - loss: 0.0556 - accuracy: 0.9829 - val_loss: 0.0669 - val_accuracy: 0.9810\n",
      "Epoch 2/3\n",
      "1688/1688 [==============================] - 7s 4ms/step - loss: 0.0441 - accuracy: 0.9857 - val_loss: 0.0757 - val_accuracy: 0.9785\n",
      "Epoch 3/3\n",
      "1688/1688 [==============================] - 7s 4ms/step - loss: 0.0337 - accuracy: 0.9899 - val_loss: 0.0751 - val_accuracy: 0.9787\n"
     ]
    }
   ],
   "source": [
    "optimizer = tf.keras.optimizers.SGD(learning_rate=0.01, momentum=0.9, nesterov=True)\n",
    "model.compile(\n",
    "    loss = tf.keras.losses.sparse_categorical_crossentropy,\n",
    "    optimizer = optimizer,\n",
    "    metrics = [\"accuracy\"]\n",
    ")\n",
    "\n",
    "history = model.fit(X_train, y_train, epochs=3, validation_split=0.1)"
   ]
  },
  {
   "cell_type": "markdown",
   "id": "6df8665c",
   "metadata": {},
   "source": [
    "### RMSProp"
   ]
  },
  {
   "cell_type": "code",
   "execution_count": 5,
   "id": "1e0e3c56",
   "metadata": {},
   "outputs": [
    {
     "name": "stdout",
     "output_type": "stream",
     "text": [
      "Epoch 1/3\n",
      "1688/1688 [==============================] - 8s 5ms/step - loss: 0.4101 - accuracy: 0.9191 - val_loss: 0.1965 - val_accuracy: 0.9537\n",
      "Epoch 2/3\n",
      "1688/1688 [==============================] - 8s 5ms/step - loss: 0.2978 - accuracy: 0.9442 - val_loss: 0.2050 - val_accuracy: 0.9578\n",
      "Epoch 3/3\n",
      "1688/1688 [==============================] - 7s 4ms/step - loss: 0.2913 - accuracy: 0.9499 - val_loss: 0.3115 - val_accuracy: 0.9582\n"
     ]
    }
   ],
   "source": [
    "optimizer = tf.keras.optimizers.RMSprop(learning_rate=0.01, rho=0.9)\n",
    "model.compile(\n",
    "    loss = tf.keras.losses.sparse_categorical_crossentropy,\n",
    "    optimizer = optimizer,\n",
    "    metrics = [\"accuracy\"]\n",
    ")\n",
    "\n",
    "history = model.fit(X_train, y_train, epochs=3, validation_split=0.1)"
   ]
  },
  {
   "cell_type": "markdown",
   "id": "dec6c977",
   "metadata": {},
   "source": [
    "### Adam"
   ]
  },
  {
   "cell_type": "code",
   "execution_count": 7,
   "id": "3d161b6a",
   "metadata": {},
   "outputs": [
    {
     "name": "stdout",
     "output_type": "stream",
     "text": [
      "Epoch 1/3\n",
      "1688/1688 [==============================] - 9s 5ms/step - loss: 0.2442 - accuracy: 0.9486 - val_loss: 0.1396 - val_accuracy: 0.9705\n",
      "Epoch 2/3\n",
      "1688/1688 [==============================] - 7s 4ms/step - loss: 0.1605 - accuracy: 0.9621 - val_loss: 0.1476 - val_accuracy: 0.9645\n",
      "Epoch 3/3\n",
      "1688/1688 [==============================] - 7s 4ms/step - loss: 0.1469 - accuracy: 0.9650 - val_loss: 0.1584 - val_accuracy: 0.9678\n"
     ]
    }
   ],
   "source": [
    "optimizer = tf.keras.optimizers.Adam(learning_rate=0.01, beta_1=0.9, beta_2=0.999)\n",
    "model.compile(\n",
    "    loss = tf.keras.losses.sparse_categorical_crossentropy,\n",
    "    optimizer = optimizer,\n",
    "    metrics = [\"accuracy\"]\n",
    ")\n",
    "\n",
    "history = model.fit(X_train, y_train, epochs=3, validation_split=0.1)"
   ]
  },
  {
   "cell_type": "markdown",
   "id": "2c6e9c8c",
   "metadata": {},
   "source": [
    "### AdaMax"
   ]
  },
  {
   "cell_type": "code",
   "execution_count": 10,
   "id": "587abb37",
   "metadata": {},
   "outputs": [
    {
     "name": "stdout",
     "output_type": "stream",
     "text": [
      "Epoch 1/3\n",
      "1688/1688 [==============================] - 10s 5ms/step - loss: 0.0634 - accuracy: 0.9839 - val_loss: 0.1149 - val_accuracy: 0.9777\n",
      "Epoch 2/3\n",
      "1688/1688 [==============================] - 7s 4ms/step - loss: 0.0442 - accuracy: 0.9878 - val_loss: 0.1126 - val_accuracy: 0.9797\n",
      "Epoch 3/3\n",
      "1688/1688 [==============================] - 7s 4ms/step - loss: 0.0369 - accuracy: 0.9894 - val_loss: 0.1203 - val_accuracy: 0.9805\n"
     ]
    }
   ],
   "source": [
    "optimizer = tf.keras.optimizers.Adamax(learning_rate=0.01, beta_1=0.9, beta_2=0.999)\n",
    "model.compile(\n",
    "    loss = tf.keras.losses.sparse_categorical_crossentropy,\n",
    "    optimizer = optimizer,\n",
    "    metrics = [\"accuracy\"]\n",
    ")\n",
    "\n",
    "history = model.fit(X_train, y_train, epochs=3, validation_split=0.1)"
   ]
  },
  {
   "cell_type": "markdown",
   "id": "70a9e17b",
   "metadata": {},
   "source": [
    "### Summary"
   ]
  },
  {
   "cell_type": "code",
   "execution_count": 37,
   "id": "18ef40a9",
   "metadata": {},
   "outputs": [
    {
     "data": {
      "image/png": "[encoded data removed]",
      "text/plain": [
       "<Figure size 640x480 with 1 Axes>"
      ]
     },
     "metadata": {},
     "output_type": "display_data"
    }
   ],
   "source": [
    "import pandas as pd\n",
    "import matplotlib.pyplot as plt\n",
    "\n",
    "summary = {\n",
    "    'Optimizers': ['Momentum', 'Nesterov Accelerated Gradient', 'RMSProp', 'Adam', 'AdaMax'],\n",
    "    'val_accuracy': [0.9765, 0.9787, 0.9582, 0.9678, 0.9805]\n",
    "}\n",
    "\n",
    "summary = pd.DataFrame(summary)\n",
    "\n",
    "# Plotting\n",
    "ax = summary.plot(kind='bar', x='Optimizers', y='val_accuracy', legend=False)\n",
    "plt.title(\"Validation Accuracy of Different Optimizers\")\n",
    "plt.ylabel(\"Validation Accuracy\")\n",
    "plt.xticks(rotation=45, ha='right')\n",
    "# Adding value labels on top of each bar\n",
    "for p in ax.patches:\n",
    "    ax.annotate(str(round(p.get_height(), 4)), (p.get_x() + p.get_width() / 2., p.get_height()), ha='center', va='center', xytext=(0, 10), textcoords='offset points')\n",
    "\n",
    "plt.show()"
   ]
  }
 ],
 "metadata": {
  "kernelspec": {
   "display_name": "Python 3 (ipykernel)",
   "language": "python",
   "name": "python3"
  },
  "language_info": {
   "codemirror_mode": {
    "name": "ipython",
    "version": 3
   },
   "file_extension": ".py",
   "mimetype": "text/x-python",
   "name": "python",
   "nbconvert_exporter": "python",
   "pygments_lexer": "ipython3",
   "version": "3.9.13"
  }
 },
 "nbformat": 4,
 "nbformat_minor": 5
}
