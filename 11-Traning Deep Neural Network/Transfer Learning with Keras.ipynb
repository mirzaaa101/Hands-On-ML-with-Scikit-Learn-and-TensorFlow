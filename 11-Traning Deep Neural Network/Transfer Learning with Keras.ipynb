{
 "cells": [
  {
   "cell_type": "markdown",
   "id": "b7ee3eb1",
   "metadata": {},
   "source": [
    "Assume, we want to use a pre-trained model's all the layers except the output layers for binary image classification problem."
   ]
  },
  {
   "cell_type": "code",
   "execution_count": 2,
   "id": "12fb8b21",
   "metadata": {},
   "outputs": [],
   "source": [
    "import tensorflow as tf\n",
    "\n",
    "pre_trained_model = tf.keras.models.load_model(\"my_trained_model\")\n",
    "new_model = tf.keras.Sequential(pre_trained_model.layers[:-1])\n",
    "new_model.add(tf.keras.layers.Dense(1, activation=\"sigmoid\"))"
   ]
  },
  {
   "cell_type": "markdown",
   "id": "b7e3112f",
   "metadata": {},
   "source": [
    "Now, new_model and pre_trained_model are sharing the same layers. So, training new_model on new data will affect the pre_trained_model. To avoid this problem, we can clone the model. Cloning the model means copying the weights."
   ]
  },
  {
   "cell_type": "code",
   "execution_count": 3,
   "id": "6ef8c0fd",
   "metadata": {},
   "outputs": [],
   "source": [
    "pre_trained_model_clone = tf.keras.models.clone_model(pre_trained_model)\n",
    "pre_trained_model_clone.set_weights(pre_trained_model.get_weights())"
   ]
  },
  {
   "cell_type": "markdown",
   "id": "e37b5e40",
   "metadata": {},
   "source": [
    "Now, new_model is ready for training. But, since new output layer was initilized randomly it will make large errors (at least first few epochs). One approch is for that to freez the reused layers for the first few epochs, to do that set trainable attribute False."
   ]
  },
  {
   "cell_type": "code",
   "execution_count": 4,
   "id": "945ef61e",
   "metadata": {},
   "outputs": [],
   "source": [
    "for layer in new_model.layers[:-1]:\n",
    "    layer.trainable = False"
   ]
  },
  {
   "cell_type": "code",
   "execution_count": 5,
   "id": "7ddd1a76",
   "metadata": {},
   "outputs": [],
   "source": [
    "# must compile the model after freez or unfreez layers\n",
    "new_model.compile(\n",
    "    loss = tf.keras.losses.binary_crossentropy,\n",
    "    optimizer = tf.keras.optimizers.SGD(learning_rate=0.001), # better to use low learning_rate\n",
    "    metrics = [\"accuracy\"]\n",
    ")"
   ]
  },
  {
   "cell_type": "code",
   "execution_count": 8,
   "id": "f251461a",
   "metadata": {},
   "outputs": [],
   "source": [
    "from sklearn.model_selection import train_test_split\n",
    "\n",
    "mnist = tf.keras.datasets.mnist.load_data()\n",
    "(X_train_full, y_train_full), (X_test, y_test) = mnist\n",
    "X_train, y_train = X_train_full[:500], y_train_full[:500]\n",
    "\n",
    "X_train, X_test = X_train/255., X_test/255.\n",
    "\n",
    "# Convert labels to binary (1 if the digit is 5, 0 otherwise)\n",
    "y_train_binary = (y_train == 5).astype(int)\n",
    "y_test_binary = (y_test == 5).astype(int)\n",
    "\n",
    "X_train, X_val, y_train_binary, y_val_binary = train_test_split(X_train, y_train_binary, test_size=0.1, random_state=42)"
   ]
  },
  {
   "cell_type": "code",
   "execution_count": 10,
   "id": "ceb24c59",
   "metadata": {},
   "outputs": [
    {
     "name": "stdout",
     "output_type": "stream",
     "text": [
      "Epoch 1/4\n",
      "15/15 [==============================] - 1s 24ms/step - loss: 0.8314 - accuracy: 0.4378 - val_loss: 0.9733 - val_accuracy: 0.4800\n",
      "Epoch 2/4\n",
      "15/15 [==============================] - 0s 5ms/step - loss: 0.7657 - accuracy: 0.5244 - val_loss: 0.9115 - val_accuracy: 0.5200\n",
      "Epoch 3/4\n",
      "15/15 [==============================] - 0s 5ms/step - loss: 0.7128 - accuracy: 0.5822 - val_loss: 0.8530 - val_accuracy: 0.5400\n",
      "Epoch 4/4\n",
      "15/15 [==============================] - 0s 6ms/step - loss: 0.6634 - accuracy: 0.6378 - val_loss: 0.8019 - val_accuracy: 0.5600\n"
     ]
    }
   ],
   "source": [
    "history = new_model.fit(X_train, y_train_binary, epochs=4, validation_data=(X_val, y_val_binary))"
   ]
  },
  {
   "cell_type": "code",
   "execution_count": 11,
   "id": "792bf0c8",
   "metadata": {},
   "outputs": [],
   "source": [
    "for layer in new_model.layers[:-1]:\n",
    "    layer.trainable = True"
   ]
  },
  {
   "cell_type": "code",
   "execution_count": 12,
   "id": "645da35b",
   "metadata": {},
   "outputs": [],
   "source": [
    "new_model.compile(\n",
    "    loss = tf.keras.losses.binary_crossentropy,\n",
    "    optimizer = tf.keras.optimizers.SGD(learning_rate=0.001), # better to use low learning_rate\n",
    "    metrics = [\"accuracy\"]\n",
    ")"
   ]
  },
  {
   "cell_type": "code",
   "execution_count": 13,
   "id": "f4564d0b",
   "metadata": {},
   "outputs": [
    {
     "name": "stdout",
     "output_type": "stream",
     "text": [
      "Epoch 1/16\n",
      "15/15 [==============================] - 1s 22ms/step - loss: 0.6173 - accuracy: 0.6711 - val_loss: 0.7494 - val_accuracy: 0.6000\n",
      "Epoch 2/16\n",
      "15/15 [==============================] - 0s 6ms/step - loss: 0.5691 - accuracy: 0.7244 - val_loss: 0.7039 - val_accuracy: 0.6000\n",
      "Epoch 3/16\n",
      "15/15 [==============================] - 0s 6ms/step - loss: 0.5295 - accuracy: 0.7556 - val_loss: 0.6684 - val_accuracy: 0.6400\n",
      "Epoch 4/16\n",
      "15/15 [==============================] - 0s 6ms/step - loss: 0.4967 - accuracy: 0.7978 - val_loss: 0.6348 - val_accuracy: 0.6800\n",
      "Epoch 5/16\n",
      "15/15 [==============================] - 0s 6ms/step - loss: 0.4809 - accuracy: 0.8089 - val_loss: 0.6071 - val_accuracy: 0.7200\n",
      "Epoch 6/16\n",
      "15/15 [==============================] - 0s 7ms/step - loss: 0.4488 - accuracy: 0.8267 - val_loss: 0.5804 - val_accuracy: 0.7400\n",
      "Epoch 7/16\n",
      "15/15 [==============================] - 0s 7ms/step - loss: 0.4350 - accuracy: 0.8533 - val_loss: 0.5542 - val_accuracy: 0.7600\n",
      "Epoch 8/16\n",
      "15/15 [==============================] - 0s 6ms/step - loss: 0.4108 - accuracy: 0.8578 - val_loss: 0.5318 - val_accuracy: 0.7800\n",
      "Epoch 9/16\n",
      "15/15 [==============================] - 0s 7ms/step - loss: 0.3862 - accuracy: 0.8756 - val_loss: 0.5122 - val_accuracy: 0.7800\n",
      "Epoch 10/16\n",
      "15/15 [==============================] - 0s 7ms/step - loss: 0.3722 - accuracy: 0.8800 - val_loss: 0.4919 - val_accuracy: 0.7800\n",
      "Epoch 11/16\n",
      "15/15 [==============================] - 0s 7ms/step - loss: 0.3580 - accuracy: 0.8778 - val_loss: 0.4735 - val_accuracy: 0.8000\n",
      "Epoch 12/16\n",
      "15/15 [==============================] - 0s 7ms/step - loss: 0.3440 - accuracy: 0.8889 - val_loss: 0.4589 - val_accuracy: 0.8200\n",
      "Epoch 13/16\n",
      "15/15 [==============================] - 0s 6ms/step - loss: 0.3308 - accuracy: 0.9044 - val_loss: 0.4441 - val_accuracy: 0.8400\n",
      "Epoch 14/16\n",
      "15/15 [==============================] - 0s 6ms/step - loss: 0.3164 - accuracy: 0.9156 - val_loss: 0.4304 - val_accuracy: 0.8400\n",
      "Epoch 15/16\n",
      "15/15 [==============================] - 0s 7ms/step - loss: 0.3159 - accuracy: 0.9133 - val_loss: 0.4203 - val_accuracy: 0.8400\n",
      "Epoch 16/16\n",
      "15/15 [==============================] - 0s 7ms/step - loss: 0.3075 - accuracy: 0.9156 - val_loss: 0.4108 - val_accuracy: 0.8400\n"
     ]
    }
   ],
   "source": [
    "history = new_model.fit(X_train, y_train_binary, epochs=16, validation_data=(X_val, y_val_binary))"
   ]
  },
  {
   "cell_type": "code",
   "execution_count": 16,
   "id": "51fee2a7",
   "metadata": {},
   "outputs": [
    {
     "data": {
      "image/png": "[encoded data removed]",
      "text/plain": [
       "<Figure size 800x500 with 1 Axes>"
      ]
     },
     "metadata": {},
     "output_type": "display_data"
    }
   ],
   "source": [
    "import pandas as pd\n",
    "import matplotlib.pyplot as plt\n",
    "\n",
    "pd.DataFrame(history.history).plot(\n",
    "    figsize = (8,5), xlim=[0,15], ylim=[0,1], grid=True, xlabel=\"Epoch\",\n",
    "    style=[\"r--\", \"r-\", \"b--\", \"b-*\"]\n",
    ")\n",
    "plt.show()"
   ]
  },
  {
   "cell_type": "code",
   "execution_count": 17,
   "id": "71a091a5",
   "metadata": {},
   "outputs": [
    {
     "name": "stdout",
     "output_type": "stream",
     "text": [
      "313/313 [==============================] - 1s 3ms/step - loss: 0.3411 - accuracy: 0.8874\n"
     ]
    },
    {
     "data": {
      "text/plain": [
       "[0.3410522937774658, 0.8873999714851379]"
      ]
     },
     "execution_count": 17,
     "metadata": {},
     "output_type": "execute_result"
    }
   ],
   "source": [
    "new_model.evaluate(X_test, y_test_binary)"
   ]
  }
 ],
 "metadata": {
  "kernelspec": {
   "display_name": "Python 3 (ipykernel)",
   "language": "python",
   "name": "python3"
  },
  "language_info": {
   "codemirror_mode": {
    "name": "ipython",
    "version": 3
   },
   "file_extension": ".py",
   "mimetype": "text/x-python",
   "name": "python",
   "nbconvert_exporter": "python",
   "pygments_lexer": "ipython3",
   "version": "3.9.13"
  }
 },
 "nbformat": 4,
 "nbformat_minor": 5
}
