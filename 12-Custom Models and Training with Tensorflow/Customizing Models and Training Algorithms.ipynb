{
 "cells": [
  {
   "cell_type": "code",
   "execution_count": 1,
   "id": "1d214578",
   "metadata": {},
   "outputs": [
    {
     "data": {
      "text/html": [
       "<div>\n",
       "<style scoped>\n",
       "    .dataframe tbody tr th:only-of-type {\n",
       "        vertical-align: middle;\n",
       "    }\n",
       "\n",
       "    .dataframe tbody tr th {\n",
       "        vertical-align: top;\n",
       "    }\n",
       "\n",
       "    .dataframe thead th {\n",
       "        text-align: right;\n",
       "    }\n",
       "</style>\n",
       "<table border=\"1\" class=\"dataframe\">\n",
       "  <thead>\n",
       "    <tr style=\"text-align: right;\">\n",
       "      <th></th>\n",
       "      <th>MPG</th>\n",
       "      <th>Cylinders</th>\n",
       "      <th>Displacement</th>\n",
       "      <th>Horsepower</th>\n",
       "      <th>Weight</th>\n",
       "      <th>Acceleration</th>\n",
       "      <th>Model Year</th>\n",
       "      <th>Origin</th>\n",
       "    </tr>\n",
       "  </thead>\n",
       "  <tbody>\n",
       "    <tr>\n",
       "      <th>0</th>\n",
       "      <td>18.0</td>\n",
       "      <td>8</td>\n",
       "      <td>307.0</td>\n",
       "      <td>130.0</td>\n",
       "      <td>3504.0</td>\n",
       "      <td>12.0</td>\n",
       "      <td>70</td>\n",
       "      <td>1</td>\n",
       "    </tr>\n",
       "    <tr>\n",
       "      <th>1</th>\n",
       "      <td>15.0</td>\n",
       "      <td>8</td>\n",
       "      <td>350.0</td>\n",
       "      <td>165.0</td>\n",
       "      <td>3693.0</td>\n",
       "      <td>11.5</td>\n",
       "      <td>70</td>\n",
       "      <td>1</td>\n",
       "    </tr>\n",
       "    <tr>\n",
       "      <th>2</th>\n",
       "      <td>18.0</td>\n",
       "      <td>8</td>\n",
       "      <td>318.0</td>\n",
       "      <td>150.0</td>\n",
       "      <td>3436.0</td>\n",
       "      <td>11.0</td>\n",
       "      <td>70</td>\n",
       "      <td>1</td>\n",
       "    </tr>\n",
       "    <tr>\n",
       "      <th>3</th>\n",
       "      <td>16.0</td>\n",
       "      <td>8</td>\n",
       "      <td>304.0</td>\n",
       "      <td>150.0</td>\n",
       "      <td>3433.0</td>\n",
       "      <td>12.0</td>\n",
       "      <td>70</td>\n",
       "      <td>1</td>\n",
       "    </tr>\n",
       "    <tr>\n",
       "      <th>4</th>\n",
       "      <td>17.0</td>\n",
       "      <td>8</td>\n",
       "      <td>302.0</td>\n",
       "      <td>140.0</td>\n",
       "      <td>3449.0</td>\n",
       "      <td>10.5</td>\n",
       "      <td>70</td>\n",
       "      <td>1</td>\n",
       "    </tr>\n",
       "  </tbody>\n",
       "</table>\n",
       "</div>"
      ],
      "text/plain": [
       "    MPG  Cylinders  Displacement  Horsepower  Weight  Acceleration  \\\n",
       "0  18.0          8         307.0       130.0  3504.0          12.0   \n",
       "1  15.0          8         350.0       165.0  3693.0          11.5   \n",
       "2  18.0          8         318.0       150.0  3436.0          11.0   \n",
       "3  16.0          8         304.0       150.0  3433.0          12.0   \n",
       "4  17.0          8         302.0       140.0  3449.0          10.5   \n",
       "\n",
       "   Model Year  Origin  \n",
       "0          70       1  \n",
       "1          70       1  \n",
       "2          70       1  \n",
       "3          70       1  \n",
       "4          70       1  "
      ]
     },
     "execution_count": 1,
     "metadata": {},
     "output_type": "execute_result"
    }
   ],
   "source": [
    "import tensorflow as tf\n",
    "import pandas as pd\n",
    "\n",
    "url = 'http://archive.ics.uci.edu/ml/machine-learning-databases/auto-mpg/auto-mpg.data'\n",
    "column_names = ['MPG', 'Cylinders', 'Displacement', 'Horsepower', 'Weight',\n",
    "                'Acceleration', 'Model Year', 'Origin']\n",
    "\n",
    "raw_dataset = pd.read_csv(url, names=column_names, na_values='?', comment='\\t',sep=' ', skipinitialspace=True)\n",
    "\n",
    "dataset = raw_dataset.copy()\n",
    "dataset = dataset.dropna()\n",
    "dataset.head()"
   ]
  },
  {
   "cell_type": "code",
   "execution_count": 2,
   "id": "79c93f34",
   "metadata": {},
   "outputs": [
    {
     "name": "stdout",
     "output_type": "stream",
     "text": [
      "<class 'pandas.core.frame.DataFrame'>\n",
      "Int64Index: 392 entries, 0 to 397\n",
      "Data columns (total 8 columns):\n",
      " #   Column        Non-Null Count  Dtype  \n",
      "---  ------        --------------  -----  \n",
      " 0   MPG           392 non-null    float32\n",
      " 1   Cylinders     392 non-null    float32\n",
      " 2   Displacement  392 non-null    float32\n",
      " 3   Horsepower    392 non-null    float32\n",
      " 4   Weight        392 non-null    float32\n",
      " 5   Acceleration  392 non-null    float32\n",
      " 6   Model Year    392 non-null    float32\n",
      " 7   Origin        392 non-null    float32\n",
      "dtypes: float32(8)\n",
      "memory usage: 15.3 KB\n"
     ]
    }
   ],
   "source": [
    "for col in dataset.columns:\n",
    "    dataset[col] = dataset[col].astype(dtype='float32')\n",
    "\n",
    "dataset.info()"
   ]
  },
  {
   "cell_type": "code",
   "execution_count": 3,
   "id": "8e5e6ed2",
   "metadata": {},
   "outputs": [
    {
     "name": "stdout",
     "output_type": "stream",
     "text": [
      "(352, 7)\n",
      "(40, 7)\n",
      "(352,)\n",
      "(40,)\n"
     ]
    }
   ],
   "source": [
    "from sklearn.model_selection import train_test_split\n",
    "\n",
    "X = dataset.drop(columns=['Origin'])\n",
    "y = dataset['Origin']\n",
    "\n",
    "X_train, X_test, y_train, y_test = train_test_split(X, y, test_size=0.1, random_state=42)\n",
    "\n",
    "print(X_train.shape)\n",
    "print(X_test.shape)\n",
    "print(y_train.shape)\n",
    "print(y_test.shape)"
   ]
  },
  {
   "cell_type": "code",
   "execution_count": 4,
   "id": "fde8b3d7",
   "metadata": {},
   "outputs": [],
   "source": [
    "tf.random.set_seed(42)\n",
    "\n",
    "norm_layer = tf.keras.layers.Normalization(input_shape=X_train.shape[1:])\n",
    "\n",
    "model = tf.keras.Sequential([\n",
    "    norm_layer,\n",
    "    tf.keras.layers.Dense(50, activation='relu'),\n",
    "    tf.keras.layers.Dense(50, activation='relu'),\n",
    "    tf.keras.layers.Dense(50, activation='relu'),\n",
    "    tf.keras.layers.Dense(1)\n",
    "])"
   ]
  },
  {
   "cell_type": "markdown",
   "id": "3b689c08",
   "metadata": {},
   "source": [
    "### Custom Loss Functions"
   ]
  },
  {
   "cell_type": "code",
   "execution_count": 60,
   "id": "20c2b3be",
   "metadata": {},
   "outputs": [],
   "source": [
    "# assume keras does not suppport hubar_loss function\n",
    "\n",
    "def huber_fn(y_true, y_pred):\n",
    "    error = y_true - y_pred\n",
    "    is_small_error = tf.abs(error)<1\n",
    "    squared_loss = tf.square(error)/2\n",
    "    linear_loss = tf.abs(error) - 0.5\n",
    "    return tf.where(is_small_error, squared_loss, linear_loss)"
   ]
  },
  {
   "cell_type": "code",
   "execution_count": 6,
   "id": "7a4de748",
   "metadata": {},
   "outputs": [
    {
     "name": "stdout",
     "output_type": "stream",
     "text": [
      "Epoch 1/3\n",
      "10/10 [==============================] - 2s 31ms/step - loss: 0.9251 - huber_fn: 0.9251 - val_loss: 0.6404 - val_huber_fn: 0.6404\n",
      "Epoch 2/3\n",
      "10/10 [==============================] - 0s 5ms/step - loss: 0.5403 - huber_fn: 0.5403 - val_loss: 0.3204 - val_huber_fn: 0.3204\n",
      "Epoch 3/3\n",
      "10/10 [==============================] - 0s 5ms/step - loss: 0.2808 - huber_fn: 0.2808 - val_loss: 0.2748 - val_huber_fn: 0.2748\n"
     ]
    }
   ],
   "source": [
    "model.compile(\n",
    "    loss=huber_fn,\n",
    "    optimizer=tf.keras.optimizers.Adam(learning_rate=1e-3),\n",
    "    metrics=[huber_fn]\n",
    ")\n",
    "\n",
    "norm_layer.adapt(X_train)\n",
    "history = model.fit(X_train, y_train, epochs=3, validation_split=0.1)"
   ]
  },
  {
   "cell_type": "markdown",
   "id": "5e64b9c5",
   "metadata": {},
   "source": [
    "### Saving and Loading Models that Contain Custom Components"
   ]
  },
  {
   "cell_type": "code",
   "execution_count": 7,
   "id": "eac01e61",
   "metadata": {},
   "outputs": [
    {
     "name": "stdout",
     "output_type": "stream",
     "text": [
      "INFO:tensorflow:Assets written to: my_custom_model_with_custom_loss_fn\\assets\n"
     ]
    },
    {
     "name": "stderr",
     "output_type": "stream",
     "text": [
      "INFO:tensorflow:Assets written to: my_custom_model_with_custom_loss_fn\\assets\n"
     ]
    }
   ],
   "source": [
    "model.save(\"my_custom_model_with_custom_loss_fn\")"
   ]
  },
  {
   "cell_type": "code",
   "execution_count": 8,
   "id": "3256afbf",
   "metadata": {},
   "outputs": [],
   "source": [
    "model = tf.keras.models.load_model(\"my_custom_model_with_custom_loss_fn\", custom_objects={\"huber_fn\":huber_fn})"
   ]
  },
  {
   "cell_type": "code",
   "execution_count": 9,
   "id": "ff51f264",
   "metadata": {},
   "outputs": [
    {
     "name": "stdout",
     "output_type": "stream",
     "text": [
      "2/2 [==============================] - 0s 4ms/step - loss: 0.2922 - huber_fn: 0.2922\n"
     ]
    },
    {
     "data": {
      "text/plain": [
       "[0.2922378182411194, 0.2922378182411194]"
      ]
     },
     "execution_count": 9,
     "metadata": {},
     "output_type": "execute_result"
    }
   ],
   "source": [
    "model.evaluate(X_test, y_test)"
   ]
  },
  {
   "cell_type": "markdown",
   "id": "0d00a5d2",
   "metadata": {},
   "source": [
    "With the current implementation, any error between -1 and 1 is considered \"small\". But what if you want a different threshold?"
   ]
  },
  {
   "cell_type": "code",
   "execution_count": 10,
   "id": "d8dc1bdf",
   "metadata": {},
   "outputs": [],
   "source": [
    "class HuberLoss(tf.keras.losses.Loss):\n",
    "    def __init__(self, threshold=0.1, **kwargs):\n",
    "        self.threshold = threshold\n",
    "        super().__init__(**kwargs)\n",
    "        \n",
    "    def call(self, y_true, y_pred):\n",
    "        error = y_true - y_pred\n",
    "        is_small_error = tf.abs(error) < self.threshold\n",
    "        squared_loss = tf.square(error)/2\n",
    "        linear_loss = self.threshold * tf.abs(error) - self.threshold**2/2\n",
    "        return tf.where(is_small_error, squared_loss, linear_loss)\n",
    "    \n",
    "    def get_config(self):\n",
    "        base_config = super().get_config()\n",
    "        return {**base_config, \"threshold\": self.threshold}"
   ]
  },
  {
   "cell_type": "code",
   "execution_count": 11,
   "id": "7fb5f8d7",
   "metadata": {},
   "outputs": [
    {
     "name": "stdout",
     "output_type": "stream",
     "text": [
      "Epoch 1/3\n",
      "10/10 [==============================] - 1s 22ms/step - loss: 0.0820 - val_loss: 0.0956\n",
      "Epoch 2/3\n",
      "10/10 [==============================] - 0s 5ms/step - loss: 0.0765 - val_loss: 0.0939\n",
      "Epoch 3/3\n",
      "10/10 [==============================] - 0s 5ms/step - loss: 0.0737 - val_loss: 0.0919\n"
     ]
    }
   ],
   "source": [
    "model.compile(\n",
    "    loss=HuberLoss(0.2),\n",
    "    optimizer=tf.keras.optimizers.Adam(learning_rate=1e-3)\n",
    ")\n",
    "\n",
    "norm_layer.adapt(X_train)\n",
    "history = model.fit(X_train, y_train, epochs=3, validation_split=0.1)"
   ]
  },
  {
   "cell_type": "code",
   "execution_count": 12,
   "id": "68de8ebb",
   "metadata": {},
   "outputs": [
    {
     "name": "stdout",
     "output_type": "stream",
     "text": [
      "INFO:tensorflow:Assets written to: my_custom_model_with_custom_loss_class\\assets\n"
     ]
    },
    {
     "name": "stderr",
     "output_type": "stream",
     "text": [
      "INFO:tensorflow:Assets written to: my_custom_model_with_custom_loss_class\\assets\n"
     ]
    }
   ],
   "source": [
    "model.save(\"my_custom_model_with_custom_loss_class\")"
   ]
  },
  {
   "cell_type": "code",
   "execution_count": 13,
   "id": "6a10f196",
   "metadata": {},
   "outputs": [],
   "source": [
    "model = tf.keras.models.load_model(\"my_custom_model_with_custom_loss_class\", custom_objects={\"HuberLoss\":HuberLoss})"
   ]
  },
  {
   "cell_type": "code",
   "execution_count": 14,
   "id": "b4cd9d12",
   "metadata": {},
   "outputs": [
    {
     "name": "stdout",
     "output_type": "stream",
     "text": [
      "2/2 [==============================] - 0s 4ms/step - loss: 0.0897\n"
     ]
    },
    {
     "data": {
      "text/plain": [
       "0.08967692404985428"
      ]
     },
     "execution_count": 14,
     "metadata": {},
     "output_type": "execute_result"
    }
   ],
   "source": [
    "model.evaluate(X_test, y_test)"
   ]
  },
  {
   "cell_type": "markdown",
   "id": "3ebed3b9",
   "metadata": {},
   "source": [
    "### Custom Activation Functions, Initializers, Regulaizers, and Constraints"
   ]
  },
  {
   "cell_type": "code",
   "execution_count": 15,
   "id": "535f74dd",
   "metadata": {},
   "outputs": [],
   "source": [
    "# activation function\n",
    "\n",
    "def my_softplus(z):\n",
    "    return tf.math.log(1.0 + tf.exp(z))"
   ]
  },
  {
   "cell_type": "code",
   "execution_count": 16,
   "id": "207232e9",
   "metadata": {},
   "outputs": [],
   "source": [
    "# initializer\n",
    "\n",
    "def my_golorot_initializer(shape, dtype=tf.float32):\n",
    "    stddev = tf.sqrt(2. / shape[0] + shape[1])"
   ]
  },
  {
   "cell_type": "code",
   "execution_count": 17,
   "id": "f636bc64",
   "metadata": {},
   "outputs": [],
   "source": [
    "# l1 regulizer\n",
    "\n",
    "def my_l1_regulizer(weights):\n",
    "    return tf.reduce_sum(tf.abs(0.01 * weights))"
   ]
  },
  {
   "cell_type": "code",
   "execution_count": 18,
   "id": "fe027dc9",
   "metadata": {},
   "outputs": [],
   "source": [
    "# constraint\n",
    "\n",
    "def my_positive_weights(weights):\n",
    "    return tf.where(weights<0. , tf.zeros_like(weights), weights)"
   ]
  },
  {
   "cell_type": "code",
   "execution_count": 19,
   "id": "fad34ae6",
   "metadata": {},
   "outputs": [],
   "source": [
    "# using custom components\n",
    "\n",
    "layer = tf.keras.layers.Dense(\n",
    "    1,\n",
    "    activation=my_softplus,\n",
    "    kernel_initializer=my_golorot_initializer,\n",
    "    kernel_regularizer=my_l1_regulizer,\n",
    "    kernel_constraint=my_positive_weights\n",
    ")"
   ]
  },
  {
   "cell_type": "markdown",
   "id": "8f801867",
   "metadata": {},
   "source": [
    "To save the hyperparameter, you'll need to create subclass. No need to call parent in get_config function as they're not defined in parent class."
   ]
  },
  {
   "cell_type": "code",
   "execution_count": 20,
   "id": "5e14a944",
   "metadata": {},
   "outputs": [],
   "source": [
    "class MyL1Regularizer(tf.keras.regularizers.Regularizer):\n",
    "    def __init__(self, factor):\n",
    "        self.factor = factor\n",
    "        \n",
    "    def __call__(self, weights):\n",
    "        return tf.reduce_sum(tf.abs(self.factor*weights))\n",
    "    \n",
    "    def get_config(self):\n",
    "        return {\"factor\": self.factor}"
   ]
  },
  {
   "cell_type": "raw",
   "id": "dd6baee5",
   "metadata": {},
   "source": [
    "Must implement call() method for losses, layers (including activation function), model. And __call__() method for regularizers, constraints and initializers. For metrics, it's a bit different."
   ]
  },
  {
   "cell_type": "markdown",
   "id": "0e2748cf",
   "metadata": {},
   "source": [
    "### Custom Metrics\n",
    "Losses and metrics are not the same thing conceptually. But in most cases we can use loss class/function as our custom metric."
   ]
  },
  {
   "cell_type": "code",
   "execution_count": 59,
   "id": "1570cd48",
   "metadata": {},
   "outputs": [],
   "source": [
    "def create_huber(threshold=0.1):\n",
    "    def huber_fn(y_true, y_pred):\n",
    "        error = y_true - y_pred\n",
    "        is_small_error = tf.abs(error)<1\n",
    "        squared_loss = tf.square(error)/2\n",
    "        linear_loss = tf.abs(error) - 0.5\n",
    "        return tf.where(is_small_error, squared_loss, linear_loss)\n",
    "    return huber_fn"
   ]
  },
  {
   "cell_type": "code",
   "execution_count": 47,
   "id": "2856a5d9",
   "metadata": {},
   "outputs": [
    {
     "name": "stdout",
     "output_type": "stream",
     "text": [
      "Epoch 1/3\n",
      "10/10 [==============================] - 2s 24ms/step - loss: 0.3488 - huber_fn: 0.1682 - val_loss: 0.4513 - val_huber_fn: 0.2171\n",
      "Epoch 2/3\n",
      "10/10 [==============================] - 0s 6ms/step - loss: 0.3356 - huber_fn: 0.1627 - val_loss: 0.4477 - val_huber_fn: 0.2151\n",
      "Epoch 3/3\n",
      "10/10 [==============================] - 0s 7ms/step - loss: 0.3245 - huber_fn: 0.1577 - val_loss: 0.4511 - val_huber_fn: 0.2158\n"
     ]
    }
   ],
   "source": [
    "model.compile(loss=\"mse\", optimizer=\"nadam\", metrics=[create_huber(2.0)])\n",
    "\n",
    "norm_layer.adapt(X_train)\n",
    "history = model.fit(X_train, y_train, epochs=3, validation_split=0.1)"
   ]
  },
  {
   "cell_type": "code",
   "execution_count": 27,
   "id": "190757bf",
   "metadata": {},
   "outputs": [
    {
     "data": {
      "text/plain": [
       "<tf.Tensor: shape=(), dtype=float32, numpy=0.8>"
      ]
     },
     "execution_count": 27,
     "metadata": {},
     "output_type": "execute_result"
    }
   ],
   "source": [
    "precision = tf.keras.metrics.Precision()\n",
    "precision([0,1,1,1,0,1,0,1] , [1,1,0,1,0,1,0,1])"
   ]
  },
  {
   "cell_type": "code",
   "execution_count": 28,
   "id": "41b4bc35",
   "metadata": {},
   "outputs": [
    {
     "data": {
      "text/plain": [
       "<tf.Tensor: shape=(), dtype=float32, numpy=0.5>"
      ]
     },
     "execution_count": 28,
     "metadata": {},
     "output_type": "execute_result"
    }
   ],
   "source": [
    "precision([0,1,0,0,1,0,1,1] , [1,0,1,1,0,0,0,0])"
   ]
  },
  {
   "cell_type": "code",
   "execution_count": 30,
   "id": "cdd7e30c",
   "metadata": {},
   "outputs": [
    {
     "data": {
      "text/plain": [
       "<tf.Tensor: shape=(), dtype=float32, numpy=0.5>"
      ]
     },
     "execution_count": 30,
     "metadata": {},
     "output_type": "execute_result"
    }
   ],
   "source": [
    "# overall precision, not batch precision\n",
    "precision.result()"
   ]
  },
  {
   "cell_type": "code",
   "execution_count": 31,
   "id": "ff5545e7",
   "metadata": {},
   "outputs": [
    {
     "data": {
      "text/plain": [
       "[<tf.Variable 'true_positives:0' shape=(1,) dtype=float32, numpy=array([4.], dtype=float32)>,\n",
       " <tf.Variable 'false_positives:0' shape=(1,) dtype=float32, numpy=array([4.], dtype=float32)>]"
      ]
     },
     "execution_count": 31,
     "metadata": {},
     "output_type": "execute_result"
    }
   ],
   "source": [
    "precision.variables"
   ]
  },
  {
   "cell_type": "code",
   "execution_count": 34,
   "id": "e746cea5",
   "metadata": {},
   "outputs": [
    {
     "data": {
      "text/plain": [
       "<tf.Tensor: shape=(), dtype=float32, numpy=0.0>"
      ]
     },
     "execution_count": 34,
     "metadata": {},
     "output_type": "execute_result"
    }
   ],
   "source": [
    "precision.reset_states()\n",
    "precision.result()"
   ]
  },
  {
   "cell_type": "code",
   "execution_count": 61,
   "id": "c70197a8",
   "metadata": {},
   "outputs": [],
   "source": [
    "# custom metric\n",
    "\n",
    "class HuberMetric(tf.keras.metrics.Metric):\n",
    "    def __init__(self, threshold=1.0, **kwargs):\n",
    "        super().__init__(**kwargs)\n",
    "        self.threshold = threshold\n",
    "        self.huber_fn = create_huber(threshold)\n",
    "        self.total = self.add_weight(\"total\", initializer=\"zeros\")\n",
    "        self.count = self.add_weight(\"count\", initializer=\"zeros\")\n",
    "        \n",
    "    def update_state(self, y_true, y_pred, sample_weight=None):\n",
    "        sample_metrics = self.huber_fn(y_true, y_pred)\n",
    "        self.total.assign_add(tf.reduce_sum(sample_metrics))\n",
    "        self.count.assign_add(tf.cast(tf.size(y_true), tf.float32))\n",
    "        \n",
    "    def result(self):\n",
    "        return self.total / self.count\n",
    "\n",
    "    def get_config(self):\n",
    "        base_config = super().get_config()\n",
    "        return {**base_config, \"threshold\" : self.threshold}"
   ]
  },
  {
   "cell_type": "code",
   "execution_count": 62,
   "id": "0fbc82f0",
   "metadata": {},
   "outputs": [
    {
     "name": "stdout",
     "output_type": "stream",
     "text": [
      "Epoch 1/3\n",
      "10/10 [==============================] - 2s 24ms/step - loss: 0.3197 - huber_metric_9: 0.1554 - val_loss: 0.4250 - val_huber_metric_9: 0.2050\n",
      "Epoch 2/3\n",
      "10/10 [==============================] - 0s 6ms/step - loss: 0.3080 - huber_metric_9: 0.1503 - val_loss: 0.4208 - val_huber_metric_9: 0.2028\n",
      "Epoch 3/3\n",
      "10/10 [==============================] - 0s 5ms/step - loss: 0.2994 - huber_metric_9: 0.1462 - val_loss: 0.4259 - val_huber_metric_9: 0.2042\n"
     ]
    }
   ],
   "source": [
    "model.compile(loss=\"mse\", optimizer=\"nadam\", metrics=[HuberMetric(2.0)])\n",
    "\n",
    "norm_layer.adapt(X_train)\n",
    "history = model.fit(X_train, y_train, epochs=3, validation_split=0.1)"
   ]
  }
 ],
 "metadata": {
  "kernelspec": {
   "display_name": "Python 3 (ipykernel)",
   "language": "python",
   "name": "python3"
  },
  "language_info": {
   "codemirror_mode": {
    "name": "ipython",
    "version": 3
   },
   "file_extension": ".py",
   "mimetype": "text/x-python",
   "name": "python",
   "nbconvert_exporter": "python",
   "pygments_lexer": "ipython3",
   "version": "3.9.13"
  }
 },
 "nbformat": 4,
 "nbformat_minor": 5
}
