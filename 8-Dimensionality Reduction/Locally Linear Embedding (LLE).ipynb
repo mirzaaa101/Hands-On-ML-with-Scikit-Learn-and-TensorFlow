{
 "cells": [
  {
   "cell_type": "markdown",
   "id": "d77d87b7",
   "metadata": {},
   "source": [
    "### What is Locally linear embedding (LLE)\n",
    "LLE is a  nonlinear dimentionality reduction (NLDR) technique. It is manifold learning that does not relay on projections, unlike PCA and random projection. In a nutshell, LLe works by first measuring how each training instances linearly relates to it's nearest neighbors, and then looking for a low-dimentional representation of the training set when these local relationship are best preserved. This approch makes it particullarly good at unrolling twisted manifolds, escially when there is not too much noise."
   ]
  },
  {
   "cell_type": "code",
   "execution_count": 9,
   "id": "5d1b2d00",
   "metadata": {},
   "outputs": [],
   "source": [
    "from sklearn.datasets import make_swiss_roll\n",
    "from sklearn.manifold import LocallyLinearEmbedding\n",
    "\n",
    "X_swiss, _ = make_swiss_roll(n_samples=1000, noise=0.2, random_state=42)\n",
    "\n",
    "lle = LocallyLinearEmbedding(n_components=2, n_neighbors=10, random_state=42)\n",
    "X_unrolled = lle.fit_transform(X_swiss)"
   ]
  },
  {
   "cell_type": "code",
   "execution_count": 10,
   "id": "1978c6fd",
   "metadata": {},
   "outputs": [
    {
     "data": {
      "text/plain": [
       "(1000, 3)"
      ]
     },
     "execution_count": 10,
     "metadata": {},
     "output_type": "execute_result"
    }
   ],
   "source": [
    "X_swiss.shape"
   ]
  },
  {
   "cell_type": "code",
   "execution_count": 12,
   "id": "99f0bbd8",
   "metadata": {},
   "outputs": [
    {
     "data": {
      "text/plain": [
       "(1000, 2)"
      ]
     },
     "execution_count": 12,
     "metadata": {},
     "output_type": "execute_result"
    }
   ],
   "source": [
    "X_unrolled.shape"
   ]
  }
 ],
 "metadata": {
  "kernelspec": {
   "display_name": "Python 3 (ipykernel)",
   "language": "python",
   "name": "python3"
  },
  "language_info": {
   "codemirror_mode": {
    "name": "ipython",
    "version": 3
   },
   "file_extension": ".py",
   "mimetype": "text/x-python",
   "name": "python",
   "nbconvert_exporter": "python",
   "pygments_lexer": "ipython3",
   "version": "3.9.13"
  }
 },
 "nbformat": 4,
 "nbformat_minor": 5
}
