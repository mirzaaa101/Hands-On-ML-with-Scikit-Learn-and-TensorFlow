{
 "cells": [
  {
   "cell_type": "code",
   "execution_count": 1,
   "id": "7afa1b5f",
   "metadata": {},
   "outputs": [],
   "source": [
    "# data\n",
    "from sklearn.datasets import fetch_openml\n",
    "mnist = fetch_openml('mnist_784', as_frame=False, parser='auto')\n",
    "\n",
    "X, y = mnist.data, mnist.target\n",
    "X_train, X_test, y_train, y_test = X[:60000], X[60000:], y[:60000], y[60000:]"
   ]
  },
  {
   "cell_type": "code",
   "execution_count": 2,
   "id": "e9a7c922",
   "metadata": {},
   "outputs": [],
   "source": [
    "import numpy as np\n",
    "np.random.seed(42)"
   ]
  },
  {
   "cell_type": "code",
   "execution_count": 7,
   "id": "4e67bc41",
   "metadata": {},
   "outputs": [],
   "source": [
    "noise = np.random.randint(0, 100, (len(X_train), 784))\n",
    "X_train_mod = X_train + noise\n",
    "noise = np.random.randint(0, 100, (len(X_test), 784))\n",
    "X_test_mod = X_test + noise"
   ]
  },
  {
   "cell_type": "code",
   "execution_count": 8,
   "id": "45ac347d",
   "metadata": {},
   "outputs": [],
   "source": [
    "y_train_mod = X_train\n",
    "y_test_mod = X_test"
   ]
  },
  {
   "cell_type": "code",
   "execution_count": 9,
   "id": "69ecf3ad",
   "metadata": {},
   "outputs": [
    {
     "data": {
      "text/html": [
       "<style>#sk-container-id-1 {color: black;}#sk-container-id-1 pre{padding: 0;}#sk-container-id-1 div.sk-toggleable {background-color: white;}#sk-container-id-1 label.sk-toggleable__label {cursor: pointer;display: block;width: 100%;margin-bottom: 0;padding: 0.3em;box-sizing: border-box;text-align: center;}#sk-container-id-1 label.sk-toggleable__label-arrow:before {content: \"▸\";float: left;margin-right: 0.25em;color: #696969;}#sk-container-id-1 label.sk-toggleable__label-arrow:hover:before {color: black;}#sk-container-id-1 div.sk-estimator:hover label.sk-toggleable__label-arrow:before {color: black;}#sk-container-id-1 div.sk-toggleable__content {max-height: 0;max-width: 0;overflow: hidden;text-align: left;background-color: #f0f8ff;}#sk-container-id-1 div.sk-toggleable__content pre {margin: 0.2em;color: black;border-radius: 0.25em;background-color: #f0f8ff;}#sk-container-id-1 input.sk-toggleable__control:checked~div.sk-toggleable__content {max-height: 200px;max-width: 100%;overflow: auto;}#sk-container-id-1 input.sk-toggleable__control:checked~label.sk-toggleable__label-arrow:before {content: \"▾\";}#sk-container-id-1 div.sk-estimator input.sk-toggleable__control:checked~label.sk-toggleable__label {background-color: #d4ebff;}#sk-container-id-1 div.sk-label input.sk-toggleable__control:checked~label.sk-toggleable__label {background-color: #d4ebff;}#sk-container-id-1 input.sk-hidden--visually {border: 0;clip: rect(1px 1px 1px 1px);clip: rect(1px, 1px, 1px, 1px);height: 1px;margin: -1px;overflow: hidden;padding: 0;position: absolute;width: 1px;}#sk-container-id-1 div.sk-estimator {font-family: monospace;background-color: #f0f8ff;border: 1px dotted black;border-radius: 0.25em;box-sizing: border-box;margin-bottom: 0.5em;}#sk-container-id-1 div.sk-estimator:hover {background-color: #d4ebff;}#sk-container-id-1 div.sk-parallel-item::after {content: \"\";width: 100%;border-bottom: 1px solid gray;flex-grow: 1;}#sk-container-id-1 div.sk-label:hover label.sk-toggleable__label {background-color: #d4ebff;}#sk-container-id-1 div.sk-serial::before {content: \"\";position: absolute;border-left: 1px solid gray;box-sizing: border-box;top: 0;bottom: 0;left: 50%;z-index: 0;}#sk-container-id-1 div.sk-serial {display: flex;flex-direction: column;align-items: center;background-color: white;padding-right: 0.2em;padding-left: 0.2em;position: relative;}#sk-container-id-1 div.sk-item {position: relative;z-index: 1;}#sk-container-id-1 div.sk-parallel {display: flex;align-items: stretch;justify-content: center;background-color: white;position: relative;}#sk-container-id-1 div.sk-item::before, #sk-container-id-1 div.sk-parallel-item::before {content: \"\";position: absolute;border-left: 1px solid gray;box-sizing: border-box;top: 0;bottom: 0;left: 50%;z-index: -1;}#sk-container-id-1 div.sk-parallel-item {display: flex;flex-direction: column;z-index: 1;position: relative;background-color: white;}#sk-container-id-1 div.sk-parallel-item:first-child::after {align-self: flex-end;width: 50%;}#sk-container-id-1 div.sk-parallel-item:last-child::after {align-self: flex-start;width: 50%;}#sk-container-id-1 div.sk-parallel-item:only-child::after {width: 0;}#sk-container-id-1 div.sk-dashed-wrapped {border: 1px dashed gray;margin: 0 0.4em 0.5em 0.4em;box-sizing: border-box;padding-bottom: 0.4em;background-color: white;}#sk-container-id-1 div.sk-label label {font-family: monospace;font-weight: bold;display: inline-block;line-height: 1.2em;}#sk-container-id-1 div.sk-label-container {text-align: center;}#sk-container-id-1 div.sk-container {/* jupyter's `normalize.less` sets `[hidden] { display: none; }` but bootstrap.min.css set `[hidden] { display: none !important; }` so we also need the `!important` here to be able to override the default hidden behavior on the sphinx rendered scikit-learn.org. See: https://github.com/scikit-learn/scikit-learn/issues/21755 */display: inline-block !important;position: relative;}#sk-container-id-1 div.sk-text-repr-fallback {display: none;}</style><div id=\"sk-container-id-1\" class=\"sk-top-container\"><div class=\"sk-text-repr-fallback\"><pre>KNeighborsClassifier()</pre><b>In a Jupyter environment, please rerun this cell to show the HTML representation or trust the notebook. <br />On GitHub, the HTML representation is unable to render, please try loading this page with nbviewer.org.</b></div><div class=\"sk-container\" hidden><div class=\"sk-item\"><div class=\"sk-estimator sk-toggleable\"><input class=\"sk-toggleable__control sk-hidden--visually\" id=\"sk-estimator-id-1\" type=\"checkbox\" checked><label for=\"sk-estimator-id-1\" class=\"sk-toggleable__label sk-toggleable__label-arrow\">KNeighborsClassifier</label><div class=\"sk-toggleable__content\"><pre>KNeighborsClassifier()</pre></div></div></div></div></div>"
      ],
      "text/plain": [
       "KNeighborsClassifier()"
      ]
     },
     "execution_count": 9,
     "metadata": {},
     "output_type": "execute_result"
    }
   ],
   "source": [
    "from sklearn.neighbors import KNeighborsClassifier\n",
    "\n",
    "knn_clf = KNeighborsClassifier()\n",
    "knn_clf.fit(X_train_mod, y_train_mod)"
   ]
  },
  {
   "cell_type": "code",
   "execution_count": 10,
   "id": "b22d2594",
   "metadata": {},
   "outputs": [],
   "source": [
    "import matplotlib.pyplot as plt\n",
    "\n",
    "def plot_digit(image_data):\n",
    "    image = image_data.reshape(28,28)\n",
    "    plt.imshow(image, cmap='binary')\n",
    "    plt.axis('off')\n",
    "    plt.show()"
   ]
  },
  {
   "cell_type": "code",
   "execution_count": 13,
   "id": "55f30fb1",
   "metadata": {},
   "outputs": [
    {
     "data": {
      "image/png": "[encoded data removed]",
      "text/plain": [
       "<Figure size 640x480 with 1 Axes>"
      ]
     },
     "metadata": {},
     "output_type": "display_data"
    }
   ],
   "source": [
    "plt.title(\"Noisy Digit\")\n",
    "plot_digit(X_test_mod[0])"
   ]
  },
  {
   "cell_type": "code",
   "execution_count": 14,
   "id": "7ffb6862",
   "metadata": {},
   "outputs": [
    {
     "ename": "ValueError",
     "evalue": "Expected 2D array, got 1D array instead:\narray=[ 80  31  21  72  14  67  75  10  78  11  71  59  48   4  73  72  72  92\n  99  69   5  16  61  61  49  36  58  73  54   3  76  69  22  66  41  31\n   7  82  35  42   9  93  32  58   4  39  14  52  99  12  16  56   6  39\n  87  88   5  31  32   2  27  53  11  85  14  98  39   2  36  61  46  65\n  98  29  91  41  29   5  80  71  87   0  10  47  82  77  48  70  95  61\n  16  80  87  36  82  87  54  60   7  18   0  61  57  43  50  52  68  95\n   7  74  16   0  57  79  84  85  59  74  81  92  92   1   0  90  93  49\n  23  71  55  86  61  15   2   3  86  39  85  67  92  70  90   7  44  80\n  32  70  45  46  30  27  63  31  77  92  67  76  88  75  92  37  60  42\n   9  48  18  34  24  26  72  23  75  85  55  78  23  37  95   7  84  45\n  24  18  30  85  86  19  20  55  63  62  18  51  92  77  36  64  40  52\n  94  42  24  29 159 219 216 195 138  60  48  39  17  48  49  27  42  75\n  19  80  62  75  50  80  25  66  32  49  21  23  28  59 308 270 282 352\n 337 338 285 288 214 245 226 241 246 227 198 105  24  94  34  23  81  25\n  52  28  71  88  68  10  82 198  90 164 169 288 264 279 311 328 346 288\n 306 300 295 169  68  70  15  52  37  82   5   3  80  53  93  10  71  22\n   4  67  81  25 130  73  84 165 106  60  46 243 331 184  59  22  95  42\n  26  33  28  38  57  22  56  74  23  20   2  75  91  71  14  27  68  66\n  26  63 167 338 252  21  22  60  50  44  50  15  35   6  30  28  13  96\n  78  86  16  56  71  36  72  20  49  29  40 116 323 257 114  87  68  73\n  57  65  98  59  40  63  97  91   5   6   7  24  66   1  80  96  48   7\n  27   1  23 140 275 300  79  47  12  78  96   0  24  18  76  93  32  46\n  69  70  51  65  87  11  94  74  25  85  94   3 135 273 269 138   0  98\n  10  25  20  37  68  52  56  43   1  97  78   9  39  49  34  67  26  99\n  28   9  57  74 215 257 216  56  12  27  65  98  89  69  42  80  64  83\n  53  51  69  30  44  62  66  11  63   1  56  33  37  97 228 319 110  79\n  82  68  47  72  74  17  74  30  10  77  36  25  47  12  11  87  80  29\n   8  19  80  34  72 176 324 252  63  76  25  15   8  66  59  50  71  31\n  41  32  45   1  32  74  57  12  90  63  18  46  78  84 153 277 307 155\n  30  40  84  54  11  54  11  21  95  20  27  57  44  59  51  65  91  25\n  27  88  45  88  42  73 255 291 210  27  45  48  68  19  68  65  41  98\n  75  27  83  46  12  18  69  83  85  37  16  98  80  88  53 231 333 317\n 126   1   6   2  39  73  22  24  62   3  18  78  89  70  90  19  56  70\n  16   9  69  81  26  81 122 319 329  83  67  61  81  48  98  11  69   3\n  38  80  47  29  95  27  25  22  61  85  79  35  27   3  21  93 227 261\n 155  51  59  58  87  74  31  70  53  47  19   7  37  28  17  28  85  20\n  15  95  47  74  41  95   7 178 308 336  89  18  80  25  26  65  40  56\n  31  63  15  50  30  26  49  45  79  87  66  32  88   9  44  44  63 246\n 277 294 145  54  70   4  15  96  19  93  44  81  62  16  10  95  93  74\n  74  80  77  54  80  82  82  63 169 350 254 314 106   1  17  94  36   9\n  91  73  45  90  21  15  59  89  22  15  98   5  54   8   1  85  47  73\n 161 256 294  28  55  92  82  90  44  33  37  52  32   6   3   9  22  72\n  66  34  56  51  69  44  99  73  66  70  92  39  71  83  41  17  92  80\n  83   4   3  35   7  19  57  74  56  29].\nReshape your data either using array.reshape(-1, 1) if your data has a single feature or array.reshape(1, -1) if it contains a single sample.",
     "output_type": "error",
     "traceback": [
      "\u001b[1;31m---------------------------------------------------------------------------\u001b[0m",
      "\u001b[1;31mValueError\u001b[0m                                Traceback (most recent call last)",
      "\u001b[1;32m~\\AppData\\Local\\Temp\\ipykernel_16240\\2722679819.py\u001b[0m in \u001b[0;36m<module>\u001b[1;34m\u001b[0m\n\u001b[1;32m----> 1\u001b[1;33m \u001b[0mclean_digit\u001b[0m \u001b[1;33m=\u001b[0m \u001b[0mknn_clf\u001b[0m\u001b[1;33m.\u001b[0m\u001b[0mpredict\u001b[0m\u001b[1;33m(\u001b[0m\u001b[0mX_test_mod\u001b[0m\u001b[1;33m[\u001b[0m\u001b[1;36m0\u001b[0m\u001b[1;33m]\u001b[0m\u001b[1;33m)\u001b[0m\u001b[1;33m\u001b[0m\u001b[1;33m\u001b[0m\u001b[0m\n\u001b[0m\u001b[0;32m      2\u001b[0m \u001b[0mplt\u001b[0m\u001b[1;33m.\u001b[0m\u001b[0mtitle\u001b[0m\u001b[1;33m(\u001b[0m\u001b[1;34m\"Clean Digit\"\u001b[0m\u001b[1;33m)\u001b[0m\u001b[1;33m\u001b[0m\u001b[1;33m\u001b[0m\u001b[0m\n\u001b[0;32m      3\u001b[0m \u001b[0mplot_digit\u001b[0m\u001b[1;33m(\u001b[0m\u001b[0mclean_digit\u001b[0m\u001b[1;33m)\u001b[0m\u001b[1;33m\u001b[0m\u001b[1;33m\u001b[0m\u001b[0m\n",
      "\u001b[1;32m~\\AppData\\Roaming\\Python\\Python39\\site-packages\\sklearn\\neighbors\\_classification.py\u001b[0m in \u001b[0;36mpredict\u001b[1;34m(self, X)\u001b[0m\n\u001b[0;32m    264\u001b[0m             \u001b[1;31m# In that case, we do not need the distances to perform\u001b[0m\u001b[1;33m\u001b[0m\u001b[1;33m\u001b[0m\u001b[0m\n\u001b[0;32m    265\u001b[0m             \u001b[1;31m# the weighting so we do not compute them.\u001b[0m\u001b[1;33m\u001b[0m\u001b[1;33m\u001b[0m\u001b[0m\n\u001b[1;32m--> 266\u001b[1;33m             \u001b[0mneigh_ind\u001b[0m \u001b[1;33m=\u001b[0m \u001b[0mself\u001b[0m\u001b[1;33m.\u001b[0m\u001b[0mkneighbors\u001b[0m\u001b[1;33m(\u001b[0m\u001b[0mX\u001b[0m\u001b[1;33m,\u001b[0m \u001b[0mreturn_distance\u001b[0m\u001b[1;33m=\u001b[0m\u001b[1;32mFalse\u001b[0m\u001b[1;33m)\u001b[0m\u001b[1;33m\u001b[0m\u001b[1;33m\u001b[0m\u001b[0m\n\u001b[0m\u001b[0;32m    267\u001b[0m             \u001b[0mneigh_dist\u001b[0m \u001b[1;33m=\u001b[0m \u001b[1;32mNone\u001b[0m\u001b[1;33m\u001b[0m\u001b[1;33m\u001b[0m\u001b[0m\n\u001b[0;32m    268\u001b[0m         \u001b[1;32melse\u001b[0m\u001b[1;33m:\u001b[0m\u001b[1;33m\u001b[0m\u001b[1;33m\u001b[0m\u001b[0m\n",
      "\u001b[1;32m~\\AppData\\Roaming\\Python\\Python39\\site-packages\\sklearn\\neighbors\\_base.py\u001b[0m in \u001b[0;36mkneighbors\u001b[1;34m(self, X, n_neighbors, return_distance)\u001b[0m\n\u001b[0;32m    802\u001b[0m                 \u001b[0mX\u001b[0m \u001b[1;33m=\u001b[0m \u001b[0m_check_precomputed\u001b[0m\u001b[1;33m(\u001b[0m\u001b[0mX\u001b[0m\u001b[1;33m)\u001b[0m\u001b[1;33m\u001b[0m\u001b[1;33m\u001b[0m\u001b[0m\n\u001b[0;32m    803\u001b[0m             \u001b[1;32melse\u001b[0m\u001b[1;33m:\u001b[0m\u001b[1;33m\u001b[0m\u001b[1;33m\u001b[0m\u001b[0m\n\u001b[1;32m--> 804\u001b[1;33m                 \u001b[0mX\u001b[0m \u001b[1;33m=\u001b[0m \u001b[0mself\u001b[0m\u001b[1;33m.\u001b[0m\u001b[0m_validate_data\u001b[0m\u001b[1;33m(\u001b[0m\u001b[0mX\u001b[0m\u001b[1;33m,\u001b[0m \u001b[0maccept_sparse\u001b[0m\u001b[1;33m=\u001b[0m\u001b[1;34m\"csr\"\u001b[0m\u001b[1;33m,\u001b[0m \u001b[0mreset\u001b[0m\u001b[1;33m=\u001b[0m\u001b[1;32mFalse\u001b[0m\u001b[1;33m,\u001b[0m \u001b[0morder\u001b[0m\u001b[1;33m=\u001b[0m\u001b[1;34m\"C\"\u001b[0m\u001b[1;33m)\u001b[0m\u001b[1;33m\u001b[0m\u001b[1;33m\u001b[0m\u001b[0m\n\u001b[0m\u001b[0;32m    805\u001b[0m \u001b[1;33m\u001b[0m\u001b[0m\n\u001b[0;32m    806\u001b[0m         \u001b[0mn_samples_fit\u001b[0m \u001b[1;33m=\u001b[0m \u001b[0mself\u001b[0m\u001b[1;33m.\u001b[0m\u001b[0mn_samples_fit_\u001b[0m\u001b[1;33m\u001b[0m\u001b[1;33m\u001b[0m\u001b[0m\n",
      "\u001b[1;32m~\\AppData\\Roaming\\Python\\Python39\\site-packages\\sklearn\\base.py\u001b[0m in \u001b[0;36m_validate_data\u001b[1;34m(self, X, y, reset, validate_separately, cast_to_ndarray, **check_params)\u001b[0m\n\u001b[0;32m    603\u001b[0m                 \u001b[0mout\u001b[0m \u001b[1;33m=\u001b[0m \u001b[0mX\u001b[0m\u001b[1;33m,\u001b[0m \u001b[0my\u001b[0m\u001b[1;33m\u001b[0m\u001b[1;33m\u001b[0m\u001b[0m\n\u001b[0;32m    604\u001b[0m         \u001b[1;32melif\u001b[0m \u001b[1;32mnot\u001b[0m \u001b[0mno_val_X\u001b[0m \u001b[1;32mand\u001b[0m \u001b[0mno_val_y\u001b[0m\u001b[1;33m:\u001b[0m\u001b[1;33m\u001b[0m\u001b[1;33m\u001b[0m\u001b[0m\n\u001b[1;32m--> 605\u001b[1;33m             \u001b[0mout\u001b[0m \u001b[1;33m=\u001b[0m \u001b[0mcheck_array\u001b[0m\u001b[1;33m(\u001b[0m\u001b[0mX\u001b[0m\u001b[1;33m,\u001b[0m \u001b[0minput_name\u001b[0m\u001b[1;33m=\u001b[0m\u001b[1;34m\"X\"\u001b[0m\u001b[1;33m,\u001b[0m \u001b[1;33m**\u001b[0m\u001b[0mcheck_params\u001b[0m\u001b[1;33m)\u001b[0m\u001b[1;33m\u001b[0m\u001b[1;33m\u001b[0m\u001b[0m\n\u001b[0m\u001b[0;32m    606\u001b[0m         \u001b[1;32melif\u001b[0m \u001b[0mno_val_X\u001b[0m \u001b[1;32mand\u001b[0m \u001b[1;32mnot\u001b[0m \u001b[0mno_val_y\u001b[0m\u001b[1;33m:\u001b[0m\u001b[1;33m\u001b[0m\u001b[1;33m\u001b[0m\u001b[0m\n\u001b[0;32m    607\u001b[0m             \u001b[0mout\u001b[0m \u001b[1;33m=\u001b[0m \u001b[0m_check_y\u001b[0m\u001b[1;33m(\u001b[0m\u001b[0my\u001b[0m\u001b[1;33m,\u001b[0m \u001b[1;33m**\u001b[0m\u001b[0mcheck_params\u001b[0m\u001b[1;33m)\u001b[0m\u001b[1;33m\u001b[0m\u001b[1;33m\u001b[0m\u001b[0m\n",
      "\u001b[1;32m~\\AppData\\Roaming\\Python\\Python39\\site-packages\\sklearn\\utils\\validation.py\u001b[0m in \u001b[0;36mcheck_array\u001b[1;34m(array, accept_sparse, accept_large_sparse, dtype, order, copy, force_all_finite, ensure_2d, allow_nd, ensure_min_samples, ensure_min_features, estimator, input_name)\u001b[0m\n\u001b[0;32m    936\u001b[0m             \u001b[1;31m# If input is 1D raise error\u001b[0m\u001b[1;33m\u001b[0m\u001b[1;33m\u001b[0m\u001b[0m\n\u001b[0;32m    937\u001b[0m             \u001b[1;32mif\u001b[0m \u001b[0marray\u001b[0m\u001b[1;33m.\u001b[0m\u001b[0mndim\u001b[0m \u001b[1;33m==\u001b[0m \u001b[1;36m1\u001b[0m\u001b[1;33m:\u001b[0m\u001b[1;33m\u001b[0m\u001b[1;33m\u001b[0m\u001b[0m\n\u001b[1;32m--> 938\u001b[1;33m                 raise ValueError(\n\u001b[0m\u001b[0;32m    939\u001b[0m                     \u001b[1;34m\"Expected 2D array, got 1D array instead:\\narray={}.\\n\"\u001b[0m\u001b[1;33m\u001b[0m\u001b[1;33m\u001b[0m\u001b[0m\n\u001b[0;32m    940\u001b[0m                     \u001b[1;34m\"Reshape your data either using array.reshape(-1, 1) if \"\u001b[0m\u001b[1;33m\u001b[0m\u001b[1;33m\u001b[0m\u001b[0m\n",
      "\u001b[1;31mValueError\u001b[0m: Expected 2D array, got 1D array instead:\narray=[ 80  31  21  72  14  67  75  10  78  11  71  59  48   4  73  72  72  92\n  99  69   5  16  61  61  49  36  58  73  54   3  76  69  22  66  41  31\n   7  82  35  42   9  93  32  58   4  39  14  52  99  12  16  56   6  39\n  87  88   5  31  32   2  27  53  11  85  14  98  39   2  36  61  46  65\n  98  29  91  41  29   5  80  71  87   0  10  47  82  77  48  70  95  61\n  16  80  87  36  82  87  54  60   7  18   0  61  57  43  50  52  68  95\n   7  74  16   0  57  79  84  85  59  74  81  92  92   1   0  90  93  49\n  23  71  55  86  61  15   2   3  86  39  85  67  92  70  90   7  44  80\n  32  70  45  46  30  27  63  31  77  92  67  76  88  75  92  37  60  42\n   9  48  18  34  24  26  72  23  75  85  55  78  23  37  95   7  84  45\n  24  18  30  85  86  19  20  55  63  62  18  51  92  77  36  64  40  52\n  94  42  24  29 159 219 216 195 138  60  48  39  17  48  49  27  42  75\n  19  80  62  75  50  80  25  66  32  49  21  23  28  59 308 270 282 352\n 337 338 285 288 214 245 226 241 246 227 198 105  24  94  34  23  81  25\n  52  28  71  88  68  10  82 198  90 164 169 288 264 279 311 328 346 288\n 306 300 295 169  68  70  15  52  37  82   5   3  80  53  93  10  71  22\n   4  67  81  25 130  73  84 165 106  60  46 243 331 184  59  22  95  42\n  26  33  28  38  57  22  56  74  23  20   2  75  91  71  14  27  68  66\n  26  63 167 338 252  21  22  60  50  44  50  15  35   6  30  28  13  96\n  78  86  16  56  71  36  72  20  49  29  40 116 323 257 114  87  68  73\n  57  65  98  59  40  63  97  91   5   6   7  24  66   1  80  96  48   7\n  27   1  23 140 275 300  79  47  12  78  96   0  24  18  76  93  32  46\n  69  70  51  65  87  11  94  74  25  85  94   3 135 273 269 138   0  98\n  10  25  20  37  68  52  56  43   1  97  78   9  39  49  34  67  26  99\n  28   9  57  74 215 257 216  56  12  27  65  98  89  69  42  80  64  83\n  53  51  69  30  44  62  66  11  63   1  56  33  37  97 228 319 110  79\n  82  68  47  72  74  17  74  30  10  77  36  25  47  12  11  87  80  29\n   8  19  80  34  72 176 324 252  63  76  25  15   8  66  59  50  71  31\n  41  32  45   1  32  74  57  12  90  63  18  46  78  84 153 277 307 155\n  30  40  84  54  11  54  11  21  95  20  27  57  44  59  51  65  91  25\n  27  88  45  88  42  73 255 291 210  27  45  48  68  19  68  65  41  98\n  75  27  83  46  12  18  69  83  85  37  16  98  80  88  53 231 333 317\n 126   1   6   2  39  73  22  24  62   3  18  78  89  70  90  19  56  70\n  16   9  69  81  26  81 122 319 329  83  67  61  81  48  98  11  69   3\n  38  80  47  29  95  27  25  22  61  85  79  35  27   3  21  93 227 261\n 155  51  59  58  87  74  31  70  53  47  19   7  37  28  17  28  85  20\n  15  95  47  74  41  95   7 178 308 336  89  18  80  25  26  65  40  56\n  31  63  15  50  30  26  49  45  79  87  66  32  88   9  44  44  63 246\n 277 294 145  54  70   4  15  96  19  93  44  81  62  16  10  95  93  74\n  74  80  77  54  80  82  82  63 169 350 254 314 106   1  17  94  36   9\n  91  73  45  90  21  15  59  89  22  15  98   5  54   8   1  85  47  73\n 161 256 294  28  55  92  82  90  44  33  37  52  32   6   3   9  22  72\n  66  34  56  51  69  44  99  73  66  70  92  39  71  83  41  17  92  80\n  83   4   3  35   7  19  57  74  56  29].\nReshape your data either using array.reshape(-1, 1) if your data has a single feature or array.reshape(1, -1) if it contains a single sample."
     ]
    }
   ],
   "source": [
    "clean_digit = knn_clf.predict(X_test_mod[0])\n",
    "plt.title(\"Clean Digit\")\n",
    "plot_digit(clean_digit)"
   ]
  },
  {
   "cell_type": "code",
   "execution_count": null,
   "id": "9439c5c0",
   "metadata": {},
   "outputs": [],
   "source": []
  }
 ],
 "metadata": {
  "kernelspec": {
   "display_name": "Python 3 (ipykernel)",
   "language": "python",
   "name": "python3"
  },
  "language_info": {
   "codemirror_mode": {
    "name": "ipython",
    "version": 3
   },
   "file_extension": ".py",
   "mimetype": "text/x-python",
   "name": "python",
   "nbconvert_exporter": "python",
   "pygments_lexer": "ipython3",
   "version": "3.9.13"
  }
 },
 "nbformat": 4,
 "nbformat_minor": 5
}
