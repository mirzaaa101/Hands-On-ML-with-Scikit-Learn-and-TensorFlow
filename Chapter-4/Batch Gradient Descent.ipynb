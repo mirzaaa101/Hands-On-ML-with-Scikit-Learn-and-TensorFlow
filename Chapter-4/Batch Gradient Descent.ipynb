{
 "cells": [
  {
   "cell_type": "markdown",
   "id": "6ca10e4b",
   "metadata": {},
   "source": [
    "### Batch Gradient Descent\n",
    "Batch Gradient Descent involves calculations over the full training set at each step as a result of which it is very slow on very large training data. Thus, it becomes very computationally expensive to do Batch GD. However, this is great for convex or relatively smooth error manifolds. Also, Batch GD scales well with the number of features."
   ]
  },
  {
   "cell_type": "code",
   "execution_count": 1,
   "id": "df4fb63f",
   "metadata": {},
   "outputs": [],
   "source": [
    "import numpy as np\n",
    "np.random.seed(42)\n",
    "\n",
    "m = 100 # number of instances\n",
    "X = 2 * np.random.rand(m,1) # column-vector\n",
    "y = 4 + 3*X + np.random.rand(m,1) # column-vector"
   ]
  },
  {
   "cell_type": "code",
   "execution_count": 2,
   "id": "88649d2a",
   "metadata": {},
   "outputs": [],
   "source": [
    "from sklearn.preprocessing import add_dummy_feature\n",
    "X_b = add_dummy_feature(X) # add X0=1 to each instances"
   ]
  },
  {
   "cell_type": "code",
   "execution_count": 3,
   "id": "5fbbe98a",
   "metadata": {},
   "outputs": [
    {
     "data": {
      "text/plain": [
       "array([[0.64203165],\n",
       "       [0.08413996]])"
      ]
     },
     "execution_count": 3,
     "metadata": {},
     "output_type": "execute_result"
    }
   ],
   "source": [
    "eta = 0.1 #learning rate\n",
    "n_epochs = 1000\n",
    "\n",
    "theta = np.random.rand(2,1) # randomely initialized model's parameters\n",
    "theta"
   ]
  },
  {
   "cell_type": "code",
   "execution_count": 4,
   "id": "8782976d",
   "metadata": {},
   "outputs": [],
   "source": [
    "epoch_list = []\n",
    "cost_list = []"
   ]
  },
  {
   "cell_type": "code",
   "execution_count": 5,
   "id": "c5acdbc9",
   "metadata": {},
   "outputs": [],
   "source": [
    "for epoch in range(n_epochs):\n",
    "    y_predicted = y_predicted = X_b @ theta\n",
    "    \n",
    "    gradients = 2/m * X_b.T @ (X_b @ theta - y)\n",
    "    theta = theta - eta*gradients\n",
    "    \n",
    "    cost = np.mean(np.square(y - y_predicted))\n",
    "    if epoch%10==0:\n",
    "        epoch_list.append(epoch)\n",
    "        cost_list.append(cost)"
   ]
  },
  {
   "cell_type": "code",
   "execution_count": 9,
   "id": "8dcd19c8",
   "metadata": {},
   "outputs": [
    {
     "data": {
      "image/png": "[encoded data removed]",
      "text/plain": [
       "<Figure size 640x480 with 1 Axes>"
      ]
     },
     "metadata": {},
     "output_type": "display_data"
    }
   ],
   "source": [
    "import matplotlib.pyplot as plt\n",
    "plt.title(\"Learning curve of Batch GD\")\n",
    "plt.xlabel(\"Epoch\")\n",
    "plt.ylabel(\"Cost\")\n",
    "plt.plot(epoch_list, cost_list)\n",
    "plt.show()"
   ]
  },
  {
   "cell_type": "code",
   "execution_count": 7,
   "id": "435b7b5c",
   "metadata": {},
   "outputs": [
    {
     "data": {
      "text/plain": [
       "array([[4.51359766],\n",
       "       [2.98323418]])"
      ]
     },
     "execution_count": 7,
     "metadata": {},
     "output_type": "execute_result"
    }
   ],
   "source": [
    "theta"
   ]
  },
  {
   "cell_type": "markdown",
   "id": "36abf16e",
   "metadata": {},
   "source": [
    "Batch gradient descent is more accurate but slower, while stochastic gradient descent is faster but less accurate. The choice of algorithm depends on the specific problem, dataset, and computational resources available."
   ]
  }
 ],
 "metadata": {
  "kernelspec": {
   "display_name": "Python 3 (ipykernel)",
   "language": "python",
   "name": "python3"
  },
  "language_info": {
   "codemirror_mode": {
    "name": "ipython",
    "version": 3
   },
   "file_extension": ".py",
   "mimetype": "text/x-python",
   "name": "python",
   "nbconvert_exporter": "python",
   "pygments_lexer": "ipython3",
   "version": "3.9.13"
  }
 },
 "nbformat": 4,
 "nbformat_minor": 5
}
