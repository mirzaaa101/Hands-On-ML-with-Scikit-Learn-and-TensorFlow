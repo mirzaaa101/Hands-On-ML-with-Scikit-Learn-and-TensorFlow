{
 "cells": [
  {
   "cell_type": "markdown",
   "id": "6e72b955",
   "metadata": {},
   "source": [
    "### Mini-batch Gradient Descent\n",
    "It is a variant of Gradient Descent, which is an iterative optimization algorithm used to find the minimum of a cost function in machine learning problems. Unlike Batch Gradient Descent that processes the entire training set at once, mini-batch Gradient Descent processes small random subsets of the training data (mini-batches) at each iteration."
   ]
  },
  {
   "cell_type": "code",
   "execution_count": 1,
   "id": "7dad9788",
   "metadata": {},
   "outputs": [],
   "source": [
    "import numpy as np\n",
    "np.random.seed(42)\n",
    "\n",
    "m = 100 # number of instances\n",
    "X = 2 * np.random.rand(m,1) # column-vector\n",
    "y = 4 + 3*X + np.random.rand(m,1) # column-vector"
   ]
  },
  {
   "cell_type": "code",
   "execution_count": 2,
   "id": "8f18f9fb",
   "metadata": {},
   "outputs": [],
   "source": [
    "from sklearn.preprocessing import add_dummy_feature\n",
    "X_b = add_dummy_feature(X) # add X0=1 to each instance"
   ]
  },
  {
   "cell_type": "code",
   "execution_count": 3,
   "id": "3f7898e7",
   "metadata": {},
   "outputs": [],
   "source": [
    "n_epochs = 100\n",
    "t0, t1 = 5, 50 # learning schedule hyperperameters"
   ]
  },
  {
   "cell_type": "code",
   "execution_count": 4,
   "id": "b801dc87",
   "metadata": {},
   "outputs": [],
   "source": [
    "def learning_schedule(t):\n",
    "    return t0/(t+t1)"
   ]
  },
  {
   "cell_type": "code",
   "execution_count": 5,
   "id": "231ae91e",
   "metadata": {},
   "outputs": [
    {
     "data": {
      "text/plain": [
       "array([[0.64203165],\n",
       "       [0.08413996]])"
      ]
     },
     "execution_count": 5,
     "metadata": {},
     "output_type": "execute_result"
    }
   ],
   "source": [
    "theta = np.random.rand(2,1)\n",
    "theta"
   ]
  },
  {
   "cell_type": "code",
   "execution_count": 6,
   "id": "1986f349",
   "metadata": {},
   "outputs": [],
   "source": [
    "epoch_list = []\n",
    "cost_list = []"
   ]
  },
  {
   "cell_type": "code",
   "execution_count": 7,
   "id": "92deb982",
   "metadata": {},
   "outputs": [],
   "source": [
    "for epoch in range(n_epochs):\n",
    "    for iteration in range(m):\n",
    "        random_start_index = np.random.randint(m)\n",
    "        random_end_index = np.random.randint(m)\n",
    "        \n",
    "        xi = X_b[random_start_index: random_end_index+1]\n",
    "        yi = y[random_start_index: random_end_index+1]\n",
    "        gradients = 2 * xi.T @ (xi @ theta - yi) \n",
    "        eta = learning_schedule(epoch * m + iteration)\n",
    "        theta = theta - eta * gradients\n",
    "\n",
    "    y_predicted = X_b @ theta\n",
    "    cost = np.mean(np.square(y - y_predicted))\n",
    "    \n",
    "    if epoch % 10 == 0:\n",
    "        epoch_list.append(epoch)\n",
    "        cost_list.append(cost)"
   ]
  },
  {
   "cell_type": "code",
   "execution_count": 10,
   "id": "0cafa78d",
   "metadata": {},
   "outputs": [
    {
     "data": {
      "image/png": "[encoded data removed]",
      "text/plain": [
       "<Figure size 640x480 with 1 Axes>"
      ]
     },
     "metadata": {},
     "output_type": "display_data"
    }
   ],
   "source": [
    "import matplotlib.pyplot as plt\n",
    "plt.title(\"Learning curve of Mini-batch GD\")\n",
    "plt.xlabel(\"Epoch\")\n",
    "plt.ylabel(\"Cost\")\n",
    "plt.plot(epoch_list, cost_list)\n",
    "plt.show()"
   ]
  },
  {
   "cell_type": "code",
   "execution_count": 9,
   "id": "433559e9",
   "metadata": {},
   "outputs": [
    {
     "data": {
      "text/plain": [
       "array([[4.49476635],\n",
       "       [2.98826134]])"
      ]
     },
     "execution_count": 9,
     "metadata": {},
     "output_type": "execute_result"
    }
   ],
   "source": [
    "theta"
   ]
  },
  {
   "cell_type": "markdown",
   "id": "1dc5d8d9",
   "metadata": {},
   "source": [
    "However, mini-batch Gradient Descent can be more sensitive to the learning rate and the choice of mini-batch size, which can affect the stability and convergence of the algorithm. A learning rate that is too high can cause the algorithm to diverge, while a learning rate that is too low can slow down the convergence of the algorithm. Similarly, a mini-batch size that is too small can introduce noise into the gradient, while a mini-batch size that is too large can increase the computational cost and reduce the effectiveness of the algorithm."
   ]
  }
 ],
 "metadata": {
  "kernelspec": {
   "display_name": "Python 3 (ipykernel)",
   "language": "python",
   "name": "python3"
  },
  "language_info": {
   "codemirror_mode": {
    "name": "ipython",
    "version": 3
   },
   "file_extension": ".py",
   "mimetype": "text/x-python",
   "name": "python",
   "nbconvert_exporter": "python",
   "pygments_lexer": "ipython3",
   "version": "3.9.13"
  }
 },
 "nbformat": 4,
 "nbformat_minor": 5
}
