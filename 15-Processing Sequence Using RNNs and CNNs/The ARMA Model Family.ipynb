{
 "cells": [
  {
   "cell_type": "code",
   "execution_count": 1,
   "id": "1ecfb2a1",
   "metadata": {},
   "outputs": [
    {
     "data": {
      "text/html": [
       "<div>\n",
       "<style scoped>\n",
       "    .dataframe tbody tr th:only-of-type {\n",
       "        vertical-align: middle;\n",
       "    }\n",
       "\n",
       "    .dataframe tbody tr th {\n",
       "        vertical-align: top;\n",
       "    }\n",
       "\n",
       "    .dataframe thead th {\n",
       "        text-align: right;\n",
       "    }\n",
       "</style>\n",
       "<table border=\"1\" class=\"dataframe\">\n",
       "  <thead>\n",
       "    <tr style=\"text-align: right;\">\n",
       "      <th></th>\n",
       "      <th>day_type</th>\n",
       "      <th>bus</th>\n",
       "      <th>rail</th>\n",
       "    </tr>\n",
       "    <tr>\n",
       "      <th>date</th>\n",
       "      <th></th>\n",
       "      <th></th>\n",
       "      <th></th>\n",
       "    </tr>\n",
       "  </thead>\n",
       "  <tbody>\n",
       "    <tr>\n",
       "      <th>2001-01-01</th>\n",
       "      <td>U</td>\n",
       "      <td>297192</td>\n",
       "      <td>126455</td>\n",
       "    </tr>\n",
       "    <tr>\n",
       "      <th>2001-01-02</th>\n",
       "      <td>W</td>\n",
       "      <td>780827</td>\n",
       "      <td>501952</td>\n",
       "    </tr>\n",
       "    <tr>\n",
       "      <th>2001-01-03</th>\n",
       "      <td>W</td>\n",
       "      <td>824923</td>\n",
       "      <td>536432</td>\n",
       "    </tr>\n",
       "    <tr>\n",
       "      <th>2001-01-04</th>\n",
       "      <td>W</td>\n",
       "      <td>870021</td>\n",
       "      <td>550011</td>\n",
       "    </tr>\n",
       "    <tr>\n",
       "      <th>2001-01-05</th>\n",
       "      <td>W</td>\n",
       "      <td>890426</td>\n",
       "      <td>557917</td>\n",
       "    </tr>\n",
       "  </tbody>\n",
       "</table>\n",
       "</div>"
      ],
      "text/plain": [
       "           day_type     bus    rail\n",
       "date                               \n",
       "2001-01-01        U  297192  126455\n",
       "2001-01-02        W  780827  501952\n",
       "2001-01-03        W  824923  536432\n",
       "2001-01-04        W  870021  550011\n",
       "2001-01-05        W  890426  557917"
      ]
     },
     "execution_count": 1,
     "metadata": {},
     "output_type": "execute_result"
    }
   ],
   "source": [
    "import pandas as pd\n",
    "from pathlib import Path\n",
    "\n",
    "path = Path(\"datasets/ridership/CTA_-_Ridership_-_Daily_Boarding_Totals.csv\")\n",
    "df = pd.read_csv(path, parse_dates=[\"service_date\"])\n",
    "df.columns = [\"date\", \"day_type\", \"bus\", \"rail\", \"total\"]  # shorter names\n",
    "df = df.sort_values(\"date\").set_index(\"date\")\n",
    "df = df.drop(\"total\", axis=1)  # no need for total, it's just bus + rail\n",
    "df = df.drop_duplicates()  # remove duplicated months (2011-10 and 2014-07)\n",
    "\n",
    "df.head()"
   ]
  },
  {
   "cell_type": "markdown",
   "id": "41a77d16",
   "metadata": {},
   "source": [
    "#### Let's see how fit a SARIMA model to  the rail time series, will use it to forecast tomorrow's ridership. Will pretend today is the last day of May 2019, and want to predict for tomorrow's ridership (June 1, 2019) "
   ]
  },
  {
   "cell_type": "code",
   "execution_count": 6,
   "id": "e123f0a3",
   "metadata": {},
   "outputs": [
    {
     "data": {
      "text/plain": [
       "date\n",
       "2019-01-01    245852\n",
       "2019-01-02    573542\n",
       "2019-01-03    627781\n",
       "2019-01-04    628514\n",
       "2019-01-05    348257\n",
       "               ...  \n",
       "2019-05-27    256757\n",
       "2019-05-28    694292\n",
       "2019-05-29    717681\n",
       "2019-05-30    735508\n",
       "2019-05-31    738322\n",
       "Freq: D, Name: rail, Length: 151, dtype: int64"
      ]
     },
     "execution_count": 6,
     "metadata": {},
     "output_type": "execute_result"
    }
   ],
   "source": [
    "from statsmodels.tsa.arima.model import ARIMA\n",
    "\n",
    "origin, today = \"2019-01-01\", \"2019-05-31\"\n",
    "rail_series = df.loc[origin:today][\"rail\"].asfreq(\"D\")\n",
    "rail_series"
   ]
  },
  {
   "cell_type": "code",
   "execution_count": 13,
   "id": "769ed368",
   "metadata": {},
   "outputs": [],
   "source": [
    "model = ARIMA(rail_series, order=(1,0,0), seasonal_order=(0,1,1,7))\n",
    "fitted_model = model.fit()"
   ]
  },
  {
   "cell_type": "code",
   "execution_count": 15,
   "id": "e170da9c",
   "metadata": {},
   "outputs": [
    {
     "data": {
      "text/plain": [
       "2019-06-01    427758.626286\n",
       "Freq: D, dtype: float64"
      ]
     },
     "execution_count": 15,
     "metadata": {},
     "output_type": "execute_result"
    }
   ],
   "source": [
    "y_pred = fitted_model.forecast()\n",
    "y_pred"
   ]
  },
  {
   "cell_type": "markdown",
   "id": "bfc0714a",
   "metadata": {},
   "source": [
    "#### Code explanation:\n",
    "    1. Import ARIMA class\n",
    "    2. Take a time series from January 1 to May 31 of 2019\n",
    "    3. Here used frquency on a daily basis\n",
    "    4. hyperparameters: order=(1,0,0) means p=1, q=0, d=0\n",
    "    5. hyperparameters: seasonal_order=(0,1,1,7) means P=0, D=1, Q=1, s=7\n",
    "    5. Next preict for June 1\n",
    "    \n",
    "The forecast is 427759 passengers, when in fact there were 379,044. 12.9% off-that's pretty bad, actually worse than native forecasting (426,932-off by 12.6%). Now, let's run the model in a loop, and compute MAE for the month March, April, and May."
   ]
  },
  {
   "cell_type": "code",
   "execution_count": 18,
   "id": "5a144f6f",
   "metadata": {},
   "outputs": [],
   "source": [
    "origin, start_date, end_date = \"2019-01-01\", \"2019-03-01\", \"2019-05-31\"\n",
    "time_period = pd.date_range(start_date, end_date)\n",
    "rail_series = df.loc[origin:end_date][\"rail\"].asfreq(\"D\")\n",
    "y_preds = []"
   ]
  },
  {
   "cell_type": "code",
   "execution_count": 20,
   "id": "c4985c5d",
   "metadata": {},
   "outputs": [],
   "source": [
    "for today in time_period.shift(-1):\n",
    "    model = ARIMA(rail_series[origin:today], order=(1,0,0), seasonal_order=(0,1,1,7))\n",
    "    fitted_model = model.fit()\n",
    "    y_pred = fitted_model.forecast()[0]\n",
    "    y_preds.append(y_pred)"
   ]
  },
  {
   "cell_type": "code",
   "execution_count": 22,
   "id": "aeb321c9",
   "metadata": {},
   "outputs": [
    {
     "data": {
      "text/plain": [
       "32040.720089838305"
      ]
     },
     "execution_count": 22,
     "metadata": {},
     "output_type": "execute_result"
    }
   ],
   "source": [
    "y_preds = pd.Series(y_preds, index=time_period)\n",
    "mae = (y_preds - rail_series[time_period]).abs().mean()\n",
    "mae"
   ]
  },
  {
   "cell_type": "markdown",
   "id": "3e68f2ff",
   "metadata": {},
   "source": [
    "#### Now, it's better than the native forecasting where MAE was 42,143 although the SARIMA model is not perfect, but still it beats the native one. \n",
    "\n",
    "#### For the hyperparameters, we can apply grid search technique like brute force, p, q, P, Q are typically varies fro 0 to 2, sometimes 5 or 6, and for d and D it's 0 to 1, sometimes 2. For s, we use 7 because of there is a string weekly seasonaliy."
   ]
  }
 ],
 "metadata": {
  "kernelspec": {
   "display_name": "Python 3 (ipykernel)",
   "language": "python",
   "name": "python3"
  },
  "language_info": {
   "codemirror_mode": {
    "name": "ipython",
    "version": 3
   },
   "file_extension": ".py",
   "mimetype": "text/x-python",
   "name": "python",
   "nbconvert_exporter": "python",
   "pygments_lexer": "ipython3",
   "version": "3.9.13"
  }
 },
 "nbformat": 4,
 "nbformat_minor": 5
}
