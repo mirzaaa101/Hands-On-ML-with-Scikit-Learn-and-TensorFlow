{
 "cells": [
  {
   "cell_type": "markdown",
   "id": "49c525e1",
   "metadata": {},
   "source": [
    "#### Fighting With Unstable Gradients Problem"
   ]
  },
  {
   "cell_type": "code",
   "execution_count": 1,
   "id": "5e1487bb",
   "metadata": {},
   "outputs": [],
   "source": [
    "import tensorflow as tf"
   ]
  },
  {
   "cell_type": "code",
   "execution_count": 2,
   "id": "672efa1b",
   "metadata": {},
   "outputs": [],
   "source": [
    "class LNSimpleRNNCell(tf.keras.layers.Layer):\n",
    "    def __init__(self, units, activation=\"tanh\", **kwargs):\n",
    "        super().__init__(**kwargs)\n",
    "        self.state_size = units\n",
    "        self.output_size = units\n",
    "        self.simple_rnn_cell = tf.keras.layers.SimpleRNNCell(units, activation=None) # no activation for LN\n",
    "        \n",
    "        self.layer_norm = tf.keras.layers.LayerNormalization()\n",
    "        self.activation = tf.keras.activations.get(activation)\n",
    "        \n",
    "    def call(self, inputs, states):\n",
    "        outputs, new_states = self.simple_rnn_cell(inputs, states)\n",
    "        norm_outputs = self.activation(self.layer_norm(outputs))\n",
    "        return norm_outputs, [norm_outputs]"
   ]
  },
  {
   "cell_type": "code",
   "execution_count": 6,
   "id": "d3752f74",
   "metadata": {},
   "outputs": [],
   "source": [
    "tf.random.set_seed(42)\n",
    "\n",
    "custom_ln_model = tf.keras.Sequential([\n",
    "    tf.keras.layers.RNN(LNSimpleRNNCell(32), return_sequences=True, input_shape=[None,5]),\n",
    "    tf.keras.layers.Dense(14)\n",
    "])"
   ]
  },
  {
   "cell_type": "code",
   "execution_count": 7,
   "id": "484ded60",
   "metadata": {},
   "outputs": [],
   "source": [
    "def fit_and_evaluate(model, train_set, valid_set, learning_rate, epochs=500):\n",
    "    early_stopping_cb = tf.keras.callbacks.EarlyStopping(monitor=\"val_mae\", patience=50, restore_best_weights=True)\n",
    "    opt = tf.keras.optimizers.SGD(learning_rate=learning_rate, momentum=0.9)\n",
    "    model.compile(loss=tf.keras.losses.Huber(), optimizer=opt, metrics=[\"mae\"])\n",
    "    \n",
    "    history = model.fit(train_set, validation_data=valid_set, epochs=epochs, callbacks=[early_stopping_cb])\n",
    "    valid_loss, valid_mae = model.evaluate(valid_set)\n",
    "    return valid_mae * 1e6"
   ]
  },
  {
   "cell_type": "code",
   "execution_count": 8,
   "id": "b114ad05",
   "metadata": {},
   "outputs": [],
   "source": [
    "import pandas as pd\n",
    "from pathlib import Path\n",
    "\n",
    "path = Path(\"datasets/ridership/CTA_-_Ridership_-_Daily_Boarding_Totals.csv\")\n",
    "df = pd.read_csv(path, parse_dates=[\"service_date\"])\n",
    "df.columns = [\"date\", \"day_type\", \"bus\", \"rail\", \"total\"]  # shorter names\n",
    "df = df.sort_values(\"date\").set_index(\"date\")\n",
    "df = df.drop(\"total\", axis=1)  # no need for total, it's just bus + rail\n",
    "df = df.drop_duplicates()  # remove duplicated months (2011-10 and 2014-07)\n",
    "\n",
    "df_mulvar = df[[\"bus\", \"rail\"]] /1e6\n",
    "df_mulvar[\"next_day_type\"] = df[\"day_type\"].shift(-1)\n",
    "df_mulvar = pd.get_dummies(df_mulvar) # one hot encode the day type\n",
    "\n",
    "mulvar_train = df_mulvar[\"2016-01\":\"2018-12\"] / 1e6\n",
    "mulvar_valid = df_mulvar[\"2019-01\":\"2019-05\"] / 1e6\n",
    "mulvar_test = df_mulvar[\"2019-06\":] / 1e6"
   ]
  },
  {
   "cell_type": "code",
   "execution_count": 11,
   "id": "badda331",
   "metadata": {},
   "outputs": [],
   "source": [
    "def to_windows(dataset, window_size):\n",
    "    dataset = dataset.window(window_size, shift=1, drop_remainder=True)\n",
    "    dataset = dataset.flat_map(lambda window: window.batch(window_size))\n",
    "    return dataset\n",
    "\n",
    "def to_seq2seq_dataset(series, seq_length=56, ahead=14, target_col=1, batch_size=32, shuffle=False, seed=None):\n",
    "    ds = to_windows(tf.data.Dataset.from_tensor_slices(series), ahead + 1)\n",
    "    ds = to_windows(ds, seq_length).map(lambda S: (S[:, 0], S[:, 1:, 1]))\n",
    "    if shuffle:\n",
    "        ds = ds.shuffle(8 * batch_size, seed=seed)\n",
    "    return ds.batch(batch_size)\n",
    "\n",
    "seq2seq_train = to_seq2seq_dataset(mulvar_train, shuffle=True, seed=42)\n",
    "seq2seq_valid = to_seq2seq_dataset(mulvar_valid)"
   ]
  },
  {
   "cell_type": "code",
   "execution_count": 12,
   "id": "565093d1",
   "metadata": {},
   "outputs": [
    {
     "name": "stdout",
     "output_type": "stream",
     "text": [
      "Epoch 1/5\n",
      "33/33 [==============================] - 4s 47ms/step - loss: 0.0715 - mae: 0.2534 - val_loss: 0.0124 - val_mae: 0.1287\n",
      "Epoch 2/5\n",
      "33/33 [==============================] - 1s 29ms/step - loss: 0.0021 - mae: 0.0436 - val_loss: 8.5845e-05 - val_mae: 0.0095\n",
      "Epoch 3/5\n",
      "33/33 [==============================] - 1s 33ms/step - loss: 5.7613e-05 - mae: 0.0074 - val_loss: 1.9748e-06 - val_mae: 0.0017\n",
      "Epoch 4/5\n",
      "33/33 [==============================] - 1s 34ms/step - loss: 2.0168e-06 - mae: 0.0014 - val_loss: 3.4719e-07 - val_mae: 7.0183e-04\n",
      "Epoch 5/5\n",
      "33/33 [==============================] - 1s 32ms/step - loss: 6.7831e-08 - mae: 2.4464e-04 - val_loss: 1.0099e-08 - val_mae: 1.1520e-04\n",
      "3/3 [==============================] - 0s 20ms/step - loss: 1.0099e-08 - mae: 1.1520e-04\n"
     ]
    },
    {
     "data": {
      "text/plain": [
       "115.19733379827812"
      ]
     },
     "execution_count": 12,
     "metadata": {},
     "output_type": "execute_result"
    }
   ],
   "source": [
    "fit_and_evaluate(custom_ln_model, seq2seq_train, seq2seq_valid, learning_rate=0.1, epochs=5)"
   ]
  },
  {
   "cell_type": "markdown",
   "id": "5b6674e4",
   "metadata": {},
   "source": [
    "#### Creating a Custom RNN Class"
   ]
  },
  {
   "cell_type": "code",
   "execution_count": 14,
   "id": "5f3b420f",
   "metadata": {},
   "outputs": [],
   "source": [
    "class MyRNN(tf.keras.layers.Layer):\n",
    "    def __init__(self, cell, return_sequences=False, **kwargs):\n",
    "        super().__init__(**kwargs)\n",
    "        self.cell = cell\n",
    "        self.return_sequences = return_sequences\n",
    "\n",
    "    def get_initial_state(self, inputs):\n",
    "        try:\n",
    "            return self.cell.get_initial_state(inputs)\n",
    "        except AttributeError:\n",
    "            batch_size = tf.shape(inputs)[0]\n",
    "            return [tf.zeros([batch_size, self.cell.state_size],\n",
    "                             dtype=inputs.dtype)]\n",
    "\n",
    "    @tf.function\n",
    "    def call(self, inputs):\n",
    "        states = self.get_initial_state(inputs)\n",
    "        shape = tf.shape(inputs)\n",
    "        batch_size = shape[0]\n",
    "        n_steps = shape[1]\n",
    "        sequences = tf.TensorArray(\n",
    "            inputs.dtype, size=(n_steps if self.return_sequences else 0))\n",
    "        outputs = tf.zeros(shape=[batch_size, self.cell.output_size],\n",
    "                           dtype=inputs.dtype)\n",
    "        for step in tf.range(n_steps):\n",
    "            outputs, states = self.cell(inputs[:, step], states)\n",
    "            if self.return_sequences:\n",
    "                sequences = sequences.write(step, outputs)\n",
    "\n",
    "        if self.return_sequences:\n",
    "            return tf.transpose(sequences.stack(), [1, 0, 2])\n",
    "        else:\n",
    "            return outputs"
   ]
  },
  {
   "cell_type": "code",
   "execution_count": 15,
   "id": "408217ac",
   "metadata": {},
   "outputs": [],
   "source": [
    "tf.random.set_seed(42)\n",
    "\n",
    "custom_model = tf.keras.Sequential([\n",
    "    MyRNN(LNSimpleRNNCell(32), return_sequences=True, input_shape=[None, 5]),\n",
    "    tf.keras.layers.Dense(14)\n",
    "])"
   ]
  },
  {
   "cell_type": "code",
   "execution_count": 16,
   "id": "7e27d744",
   "metadata": {},
   "outputs": [
    {
     "name": "stdout",
     "output_type": "stream",
     "text": [
      "Epoch 1/5\n",
      "33/33 [==============================] - 3s 40ms/step - loss: 0.0844 - mae: 0.2548 - val_loss: 0.0063 - val_mae: 0.0903\n",
      "Epoch 2/5\n",
      "33/33 [==============================] - 1s 33ms/step - loss: 0.0024 - mae: 0.0420 - val_loss: 1.7635e-04 - val_mae: 0.0100\n",
      "Epoch 3/5\n",
      "33/33 [==============================] - 1s 34ms/step - loss: 7.6954e-05 - mae: 0.0073 - val_loss: 1.0065e-05 - val_mae: 0.0026\n",
      "Epoch 4/5\n",
      "33/33 [==============================] - 1s 34ms/step - loss: 2.4737e-06 - mae: 0.0013 - val_loss: 3.0849e-07 - val_mae: 6.4056e-04\n",
      "Epoch 5/5\n",
      "33/33 [==============================] - 1s 34ms/step - loss: 7.2526e-08 - mae: 2.3462e-04 - val_loss: 5.1290e-09 - val_mae: 8.4367e-05\n",
      "3/3 [==============================] - 0s 25ms/step - loss: 5.1290e-09 - mae: 8.4367e-05\n"
     ]
    },
    {
     "data": {
      "text/plain": [
       "84.36736243311316"
      ]
     },
     "execution_count": 16,
     "metadata": {},
     "output_type": "execute_result"
    }
   ],
   "source": [
    "fit_and_evaluate(custom_model, seq2seq_train, seq2seq_valid, learning_rate=0.1, epochs=5)"
   ]
  },
  {
   "cell_type": "markdown",
   "id": "819eec41",
   "metadata": {},
   "source": [
    "#### Tackling The Short-Term Memory Problem: LSTM"
   ]
  },
  {
   "cell_type": "code",
   "execution_count": 13,
   "id": "03e0d3e5",
   "metadata": {},
   "outputs": [
    {
     "name": "stdout",
     "output_type": "stream",
     "text": [
      "Epoch 1/5\n",
      "33/33 [==============================] - 4s 45ms/step - loss: 1.6324e-13 - mae: 5.2107e-07 - val_loss: 8.4022e-14 - val_mae: 3.6271e-07\n",
      "Epoch 2/5\n",
      "33/33 [==============================] - 1s 24ms/step - loss: 7.1829e-14 - mae: 3.2972e-07 - val_loss: 3.8977e-14 - val_mae: 2.4278e-07\n",
      "Epoch 3/5\n",
      "33/33 [==============================] - 1s 30ms/step - loss: 3.8982e-14 - mae: 2.4071e-07 - val_loss: 2.6372e-14 - val_mae: 2.0274e-07\n",
      "Epoch 4/5\n",
      "33/33 [==============================] - 1s 28ms/step - loss: 2.7873e-14 - mae: 2.0575e-07 - val_loss: 2.2483e-14 - val_mae: 1.8329e-07\n",
      "Epoch 5/5\n",
      "33/33 [==============================] - 1s 30ms/step - loss: 2.3536e-14 - mae: 1.8933e-07 - val_loss: 2.1264e-14 - val_mae: 1.7188e-07\n",
      "3/3 [==============================] - 0s 15ms/step - loss: 2.1264e-14 - mae: 1.7188e-07\n"
     ]
    },
    {
     "data": {
      "text/plain": [
       "0.17188057199746254"
      ]
     },
     "execution_count": 13,
     "metadata": {},
     "output_type": "execute_result"
    }
   ],
   "source": [
    "model = tf.keras.Sequential([\n",
    "    tf.keras.layers.LSTM(32, return_sequences=True, input_shape=[None,5]),\n",
    "    tf.keras.layers.Dense(14)\n",
    "])\n",
    "\n",
    "fit_and_evaluate(model, seq2seq_train, seq2seq_valid, learning_rate=0.01, epochs=5)"
   ]
  },
  {
   "cell_type": "markdown",
   "id": "d21282fa",
   "metadata": {},
   "source": [
    "#### GRU"
   ]
  },
  {
   "cell_type": "code",
   "execution_count": 17,
   "id": "6fb78d41",
   "metadata": {},
   "outputs": [],
   "source": [
    "tf.random.set_seed(42)\n",
    "gru_model = tf.keras.Sequential([\n",
    "    tf.keras.layers.GRU(32, return_sequences=True, input_shape=[None, 5]),\n",
    "    tf.keras.layers.Dense(14)\n",
    "])"
   ]
  },
  {
   "cell_type": "code",
   "execution_count": 18,
   "id": "dd9c2f5b",
   "metadata": {},
   "outputs": [
    {
     "name": "stdout",
     "output_type": "stream",
     "text": [
      "Epoch 1/5\n",
      "33/33 [==============================] - 4s 49ms/step - loss: 6.4876e-14 - mae: 2.7529e-07 - val_loss: 2.4345e-14 - val_mae: 1.6343e-07\n",
      "Epoch 2/5\n",
      "33/33 [==============================] - 1s 26ms/step - loss: 1.7842e-14 - mae: 1.5804e-07 - val_loss: 1.8388e-14 - val_mae: 1.5072e-07\n",
      "Epoch 3/5\n",
      "33/33 [==============================] - 1s 29ms/step - loss: 1.6963e-14 - mae: 1.5778e-07 - val_loss: 1.8562e-14 - val_mae: 1.4817e-07\n",
      "Epoch 4/5\n",
      "33/33 [==============================] - 1s 27ms/step - loss: 1.6923e-14 - mae: 1.5670e-07 - val_loss: 1.8357e-14 - val_mae: 1.4944e-07\n",
      "Epoch 5/5\n",
      "33/33 [==============================] - 1s 26ms/step - loss: 1.6921e-14 - mae: 1.5685e-07 - val_loss: 1.8321e-14 - val_mae: 1.4966e-07\n",
      "3/3 [==============================] - 0s 23ms/step - loss: 1.8321e-14 - mae: 1.4966e-07\n"
     ]
    },
    {
     "data": {
      "text/plain": [
       "0.14965523575938278"
      ]
     },
     "execution_count": 18,
     "metadata": {},
     "output_type": "execute_result"
    }
   ],
   "source": [
    "fit_and_evaluate(gru_model, seq2seq_train, seq2seq_valid, learning_rate=0.1, epochs=5)"
   ]
  },
  {
   "cell_type": "markdown",
   "id": "a505a0f1",
   "metadata": {},
   "source": [
    "#### Using One-Dimensional Convolutional Layers to Process Sequences"
   ]
  },
  {
   "cell_type": "code",
   "execution_count": 19,
   "id": "811e40b2",
   "metadata": {},
   "outputs": [],
   "source": [
    "conv_rnn_model = tf.keras.Sequential([\n",
    "    tf.keras.layers.Conv1D(filters=32, kernel_size=4, strides=2, activation=\"relu\", input_shape=[None,5]),\n",
    "    tf.keras.layers.GRU(32, return_sequences=True),\n",
    "    tf.keras.layers.Dense(14)\n",
    "])"
   ]
  },
  {
   "cell_type": "code",
   "execution_count": 20,
   "id": "c64019e0",
   "metadata": {},
   "outputs": [],
   "source": [
    "longer_train = to_seq2seq_dataset(mulvar_train, seq_length=112, shuffle=True, seed=42)\n",
    "longer_valid = to_seq2seq_dataset(mulvar_valid, seq_length=112)\n",
    "downsampled_train = longer_train.map(lambda X, Y: (X, Y[:, 3::2]))\n",
    "downsampled_valid = longer_valid.map(lambda X, Y: (X, Y[:, 3::2]))"
   ]
  },
  {
   "cell_type": "code",
   "execution_count": 21,
   "id": "24830f41",
   "metadata": {},
   "outputs": [
    {
     "name": "stdout",
     "output_type": "stream",
     "text": [
      "Epoch 1/5\n",
      "31/31 [==============================] - 4s 50ms/step - loss: 6.9585e-14 - mae: 2.8881e-07 - val_loss: 2.4840e-14 - val_mae: 1.6690e-07\n",
      "Epoch 2/5\n",
      "31/31 [==============================] - 1s 33ms/step - loss: 1.8317e-14 - mae: 1.6285e-07 - val_loss: 1.9120e-14 - val_mae: 1.4948e-07\n",
      "Epoch 3/5\n",
      "31/31 [==============================] - 1s 32ms/step - loss: 1.7069e-14 - mae: 1.5558e-07 - val_loss: 1.8397e-14 - val_mae: 1.4994e-07\n",
      "Epoch 4/5\n",
      "31/31 [==============================] - 1s 38ms/step - loss: 1.6903e-14 - mae: 1.5556e-07 - val_loss: 1.8295e-14 - val_mae: 1.4893e-07\n",
      "Epoch 5/5\n",
      "31/31 [==============================] - 1s 36ms/step - loss: 1.6742e-14 - mae: 1.5487e-07 - val_loss: 1.8189e-14 - val_mae: 1.4830e-07\n",
      "1/1 [==============================] - 0s 120ms/step - loss: 1.8189e-14 - mae: 1.4830e-07\n"
     ]
    },
    {
     "data": {
      "text/plain": [
       "0.14830187922143523"
      ]
     },
     "execution_count": 21,
     "metadata": {},
     "output_type": "execute_result"
    }
   ],
   "source": [
    "fit_and_evaluate(conv_rnn_model, downsampled_train, downsampled_valid, learning_rate=0.1, epochs=5)"
   ]
  },
  {
   "cell_type": "markdown",
   "id": "caef9cc6",
   "metadata": {},
   "source": [
    "#### WaveNet"
   ]
  },
  {
   "cell_type": "code",
   "execution_count": 23,
   "id": "2a4d11e6",
   "metadata": {},
   "outputs": [],
   "source": [
    "wavenet_model = tf.keras.Sequential()\n",
    "wavenet_model.add(tf.keras.layers.Input(shape=[None,5]))\n",
    "\n",
    "for rate in (1,2,4,8) * 2:\n",
    "    wavenet_model.add(\n",
    "        tf.keras.layers.Conv1D(filters=32, kernel_size=2, padding=\"causal\", activation=\"relu\", dilation_rate=rate)\n",
    "    )\n",
    "wavenet_model.add(tf.keras.layers.Conv1D(filters=14, kernel_size=1))"
   ]
  },
  {
   "cell_type": "code",
   "execution_count": 25,
   "id": "3da816ca",
   "metadata": {},
   "outputs": [
    {
     "name": "stdout",
     "output_type": "stream",
     "text": [
      "Epoch 1/5\n",
      "31/31 [==============================] - 4s 46ms/step - loss: 8.2875e-14 - mae: 3.3152e-07 - val_loss: 2.5451e-14 - val_mae: 1.4973e-07\n",
      "Epoch 2/5\n",
      "31/31 [==============================] - 1s 27ms/step - loss: 1.7742e-14 - mae: 1.4713e-07 - val_loss: 1.9287e-14 - val_mae: 1.5273e-07\n",
      "Epoch 3/5\n",
      "31/31 [==============================] - 1s 24ms/step - loss: 1.6251e-14 - mae: 1.5957e-07 - val_loss: 1.9037e-14 - val_mae: 1.5308e-07\n",
      "Epoch 4/5\n",
      "31/31 [==============================] - 1s 22ms/step - loss: 1.6193e-14 - mae: 1.5761e-07 - val_loss: 1.9101e-14 - val_mae: 1.5230e-07\n",
      "Epoch 5/5\n",
      "31/31 [==============================] - 1s 23ms/step - loss: 1.6158e-14 - mae: 1.5787e-07 - val_loss: 1.9054e-14 - val_mae: 1.5230e-07\n",
      "1/1 [==============================] - 0s 100ms/step - loss: 1.9054e-14 - mae: 1.5230e-07\n"
     ]
    },
    {
     "data": {
      "text/plain": [
       "0.15230004635213845"
      ]
     },
     "execution_count": 25,
     "metadata": {},
     "output_type": "execute_result"
    }
   ],
   "source": [
    "fit_and_evaluate(wavenet_model, longer_train, longer_valid, learning_rate=0.1, epochs=5)"
   ]
  },
  {
   "cell_type": "markdown",
   "id": "1aa18091",
   "metadata": {},
   "source": [
    "#### Wavenet Implementation"
   ]
  },
  {
   "cell_type": "code",
   "execution_count": 26,
   "id": "4f0e0396",
   "metadata": {},
   "outputs": [],
   "source": [
    "class GatedActivationUnit(tf.keras.layers.Layer):\n",
    "    def __init__(self, activation=\"tanh\", **kwargs):\n",
    "        super().__init__(**kwargs)\n",
    "        self.activation = tf.keras.activations.get(activation)\n",
    "\n",
    "    def call(self, inputs):\n",
    "        n_filters = inputs.shape[-1] // 2\n",
    "        linear_output = self.activation(inputs[..., :n_filters])\n",
    "        gate = tf.keras.activations.sigmoid(inputs[..., n_filters:])\n",
    "        return self.activation(linear_output) * gate"
   ]
  },
  {
   "cell_type": "code",
   "execution_count": 27,
   "id": "cd37b70a",
   "metadata": {},
   "outputs": [],
   "source": [
    "def wavenet_residual_block(inputs, n_filters, dilation_rate):\n",
    "    z = tf.keras.layers.Conv1D(2 * n_filters, kernel_size=2, padding=\"causal\",\n",
    "                            dilation_rate=dilation_rate)(inputs)\n",
    "    z = GatedActivationUnit()(z)\n",
    "    z = tf.keras.layers.Conv1D(n_filters, kernel_size=1)(z)\n",
    "    return tf.keras.layers.Add()([z, inputs]), z"
   ]
  },
  {
   "cell_type": "code",
   "execution_count": 28,
   "id": "a2d36699",
   "metadata": {},
   "outputs": [],
   "source": [
    "tf.random.set_seed(42)\n",
    "\n",
    "n_layers_per_block = 3  # 10 in the paper\n",
    "n_blocks = 1  # 3 in the paper\n",
    "n_filters = 32  # 128 in the paper\n",
    "n_outputs = 14  # 256 in the paper\n",
    "\n",
    "inputs = tf.keras.layers.Input(shape=[None, 5])\n",
    "z = tf.keras.layers.Conv1D(n_filters, kernel_size=2, padding=\"causal\")(inputs)\n",
    "skip_to_last = []\n",
    "for dilation_rate in [2**i for i in range(n_layers_per_block)] * n_blocks:\n",
    "    z, skip = wavenet_residual_block(z, n_filters, dilation_rate)\n",
    "    skip_to_last.append(skip)\n",
    "\n",
    "z = tf.keras.activations.relu(tf.keras.layers.Add()(skip_to_last))\n",
    "z = tf.keras.layers.Conv1D(n_filters, kernel_size=1, activation=\"relu\")(z)\n",
    "Y_preds = tf.keras.layers.Conv1D(n_outputs, kernel_size=1)(z)\n",
    "\n",
    "full_wavenet_model = tf.keras.Model(inputs=[inputs], outputs=[Y_preds])"
   ]
  },
  {
   "cell_type": "code",
   "execution_count": 29,
   "id": "aa3f73ee",
   "metadata": {},
   "outputs": [
    {
     "name": "stdout",
     "output_type": "stream",
     "text": [
      "Epoch 1/5\n",
      "31/31 [==============================] - 4s 45ms/step - loss: 8.1272e-14 - mae: 3.2156e-07 - val_loss: 2.3475e-14 - val_mae: 1.5996e-07\n",
      "Epoch 2/5\n",
      "31/31 [==============================] - 1s 27ms/step - loss: 1.7950e-14 - mae: 1.5280e-07 - val_loss: 1.9696e-14 - val_mae: 1.5076e-07\n",
      "Epoch 3/5\n",
      "31/31 [==============================] - 1s 30ms/step - loss: 1.6353e-14 - mae: 1.5501e-07 - val_loss: 1.8895e-14 - val_mae: 1.5143e-07\n",
      "Epoch 4/5\n",
      "31/31 [==============================] - 1s 28ms/step - loss: 1.6229e-14 - mae: 1.5427e-07 - val_loss: 1.8999e-14 - val_mae: 1.5019e-07\n",
      "Epoch 5/5\n",
      "31/31 [==============================] - 1s 28ms/step - loss: 1.6189e-14 - mae: 1.5353e-07 - val_loss: 1.8927e-14 - val_mae: 1.5038e-07\n",
      "1/1 [==============================] - 0s 160ms/step - loss: 1.8927e-14 - mae: 1.5038e-07\n"
     ]
    },
    {
     "data": {
      "text/plain": [
       "0.15037845457754884"
      ]
     },
     "execution_count": 29,
     "metadata": {},
     "output_type": "execute_result"
    }
   ],
   "source": [
    "fit_and_evaluate(full_wavenet_model, longer_train, longer_valid, learning_rate=0.1, epochs=5)"
   ]
  },
  {
   "cell_type": "code",
   "execution_count": null,
   "id": "bd0c69c9",
   "metadata": {},
   "outputs": [],
   "source": []
  }
 ],
 "metadata": {
  "kernelspec": {
   "display_name": "Python 3 (ipykernel)",
   "language": "python",
   "name": "python3"
  },
  "language_info": {
   "codemirror_mode": {
    "name": "ipython",
    "version": 3
   },
   "file_extension": ".py",
   "mimetype": "text/x-python",
   "name": "python",
   "nbconvert_exporter": "python",
   "pygments_lexer": "ipython3",
   "version": "3.9.13"
  }
 },
 "nbformat": 4,
 "nbformat_minor": 5
}
