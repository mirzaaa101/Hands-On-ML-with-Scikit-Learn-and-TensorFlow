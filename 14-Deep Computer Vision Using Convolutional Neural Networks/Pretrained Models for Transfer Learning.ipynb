{
 "cells": [
  {
   "cell_type": "markdown",
   "id": "7c59e3f9",
   "metadata": {},
   "source": [
    "Let's train the Xception model on flowers data. I will load the data using TensorFlow Datasets."
   ]
  },
  {
   "cell_type": "code",
   "execution_count": 1,
   "id": "d1d03994",
   "metadata": {},
   "outputs": [],
   "source": [
    "import tensorflow as tf\n",
    "import tensorflow_datasets as tfds"
   ]
  },
  {
   "cell_type": "code",
   "execution_count": 2,
   "id": "b848ed6c",
   "metadata": {},
   "outputs": [
    {
     "data": {
      "text/plain": [
       "3670"
      ]
     },
     "execution_count": 2,
     "metadata": {},
     "output_type": "execute_result"
    }
   ],
   "source": [
    "dataset, info = tfds.load(\"tf_flowers\", as_supervised=True, with_info=True)\n",
    "dataset_size = info.splits[\"train\"].num_examples\n",
    "dataset_size"
   ]
  },
  {
   "cell_type": "code",
   "execution_count": 3,
   "id": "abbd14ec",
   "metadata": {},
   "outputs": [
    {
     "data": {
      "text/plain": [
       "['dandelion', 'daisy', 'tulips', 'sunflowers', 'roses']"
      ]
     },
     "execution_count": 3,
     "metadata": {},
     "output_type": "execute_result"
    }
   ],
   "source": [
    "class_names = info.features[\"label\"].names\n",
    "n_classes = info.features[\"label\"].num_classes\n",
    "class_names"
   ]
  },
  {
   "cell_type": "markdown",
   "id": "ce662863",
   "metadata": {},
   "source": [
    "Unfortunately, this dataset only provides train data, we need to split it into valid and test."
   ]
  },
  {
   "cell_type": "code",
   "execution_count": 4,
   "id": "f0fd9222",
   "metadata": {},
   "outputs": [
    {
     "name": "stdout",
     "output_type": "stream",
     "text": [
      "367\n",
      "551\n",
      "2752\n"
     ]
    }
   ],
   "source": [
    "test_set_raw, valid_set_raw, train_set_raw = tfds.load(\n",
    "    \"tf_flowers\",\n",
    "    split = [\"train[:10%]\", \"train[10%:25%]\", \"train[25%:]\"],\n",
    "    as_supervised = True\n",
    ")\n",
    "\n",
    "print(len(test_set_raw))\n",
    "print(len(valid_set_raw))\n",
    "print(len(train_set_raw))"
   ]
  },
  {
   "cell_type": "markdown",
   "id": "7df8c867",
   "metadata": {},
   "source": [
    "All three datasets contains different images. we need to batch them, but first we need to ensure that thay all have the same size or batchinh will fail. We can use Resizing layer for this. we must also call xception_preprocess_input() method to preprocess the images. Lastly, we'll also shuffle the training set and use prefetching."
   ]
  },
  {
   "cell_type": "code",
   "execution_count": 5,
   "id": "ad82167a",
   "metadata": {},
   "outputs": [],
   "source": [
    "batch_size = 32\n",
    "preprocess = tf.keras.Sequential([\n",
    "    tf.keras.layers.Resizing(height=224, width=224, crop_to_aspect_ratio=True),\n",
    "    tf.keras.layers.Lambda(tf.keras.applications.xception.preprocess_input)\n",
    "])\n",
    "\n",
    "train_set = train_set_raw.map(lambda X, y: (preprocess(X), y))\n",
    "train_set = train_set.shuffle(1000, seed=42).batch(batch_size).prefetch(1)\n",
    "valid_set = valid_set_raw.map(lambda X, y: (preprocess(X), y)).batch(batch_size)\n",
    "test_set = test_set_raw.map(lambda X, y: (preprocess(X), y)).batch(batch_size)"
   ]
  },
  {
   "cell_type": "code",
   "execution_count": 6,
   "id": "a5abd54f",
   "metadata": {},
   "outputs": [
    {
     "name": "stdout",
     "output_type": "stream",
     "text": [
      "<_PrefetchDataset element_spec=(TensorSpec(shape=(None, 224, 224, 3), dtype=tf.float32, name=None), TensorSpec(shape=(None,), dtype=tf.int64, name=None))>\n",
      "<_BatchDataset element_spec=(TensorSpec(shape=(None, 224, 224, 3), dtype=tf.float32, name=None), TensorSpec(shape=(None,), dtype=tf.int64, name=None))>\n",
      "<_BatchDataset element_spec=(TensorSpec(shape=(None, 224, 224, 3), dtype=tf.float32, name=None), TensorSpec(shape=(None,), dtype=tf.int64, name=None))>\n"
     ]
    }
   ],
   "source": [
    "print(train_set)\n",
    "print(valid_set)\n",
    "print(test_set)"
   ]
  },
  {
   "cell_type": "markdown",
   "id": "59f48f40",
   "metadata": {},
   "source": [
    "Now each batch contains 32 images, all of them are 224x224 pixel, with pixels values ranging from -1 to 1.\n",
    "\n",
    "Since the dataset is small, data augmentation will help a lot. The following data augmentation model that will embed in our final model. During training, it will randomly flip the images horizontally, rotate them a litte bit, and tweak the contrast."
   ]
  },
  {
   "cell_type": "code",
   "execution_count": 7,
   "id": "db9dbf5d",
   "metadata": {},
   "outputs": [],
   "source": [
    "data_augmentation = tf.keras.Sequential([\n",
    "    tf.keras.layers.RandomFlip(mode=\"horizontal\", seed=42),\n",
    "    tf.keras.layers.RandomRotation(factor=0.05, seed=42),\n",
    "    tf.keras.layers.RandomContrast(factor=0.2, seed=42)\n",
    "])"
   ]
  },
  {
   "cell_type": "markdown",
   "id": "5fa997df",
   "metadata": {},
   "source": [
    "The `tf.keras.preprocess.image.ImageDataGenerator` class makes it easy to load images from disk and augement them in various ways: you can shift each image, rotate it, rescale it, flip it horizonatlly or vertically, shear it, or apply any transformation function. This is convinient for simple project.\n",
    "\n",
    "However, a `tf.data` pipeline is not much more complicated, and it's generally faster. Moreover, if you have a GPU and you include the preprocessing or data augmentation layers inside your model, they will benifit from GPU acceleration during training.\n",
    "\n",
    "Now, let's load the Xception model, pretrained on ImageNet. We exclude the top of the network by setting `inlude_top=False`. This excludes the global average pooling layer and dense out layer. We then add our own global average pooling layer and dense output layer with an activation function softmax."
   ]
  },
  {
   "cell_type": "code",
   "execution_count": 8,
   "id": "e87b6309",
   "metadata": {},
   "outputs": [],
   "source": [
    "base_model = tf.keras.applications.xception.Xception(weights=\"imagenet\", include_top = False)\n",
    "avg = tf.keras.layers.GlobalAveragePooling2D()(base_model.output)\n",
    "output = tf.keras.layers.Dense(n_classes, activation=\"softmax\")(avg)\n",
    "model = tf.keras.Model(inputs=base_model.input, outputs=output)"
   ]
  },
  {
   "cell_type": "code",
   "execution_count": 9,
   "id": "c0505ee5",
   "metadata": {},
   "outputs": [
    {
     "data": {
      "text/plain": [
       "<bound method Model.summary of <keras.src.engine.functional.Functional object at 0x000001DA95DF0700>>"
      ]
     },
     "execution_count": 9,
     "metadata": {},
     "output_type": "execute_result"
    }
   ],
   "source": [
    "model.summary"
   ]
  },
  {
   "cell_type": "markdown",
   "id": "95586e3c",
   "metadata": {},
   "source": [
    "It is usally a good idea to freeze the weights of the pretrained layers, at least at the beggining of training."
   ]
  },
  {
   "cell_type": "code",
   "execution_count": 10,
   "id": "a0e1e110",
   "metadata": {},
   "outputs": [],
   "source": [
    "for layer in base_model.layers:\n",
    "    layer.trainable = False"
   ]
  },
  {
   "cell_type": "markdown",
   "id": "7248ef2d",
   "metadata": {},
   "source": [
    "Since our model uses the base model's layers directly, rather than the base_model objcet itself, setting `base_model.trainable=False` would have no effect.\n",
    "\n",
    "Let's compile and train the model."
   ]
  },
  {
   "cell_type": "code",
   "execution_count": 11,
   "id": "7262329a",
   "metadata": {},
   "outputs": [
    {
     "name": "stdout",
     "output_type": "stream",
     "text": [
      "Epoch 1/3\n",
      "86/86 [==============================] - 229s 3s/step - loss: 0.7612 - accuracy: 0.8034 - val_loss: 0.7128 - val_accuracy: 0.8312\n",
      "Epoch 2/3\n",
      "86/86 [==============================] - 235s 3s/step - loss: 0.3284 - accuracy: 0.9081 - val_loss: 0.5435 - val_accuracy: 0.8748\n",
      "Epoch 3/3\n",
      "86/86 [==============================] - 234s 3s/step - loss: 0.2110 - accuracy: 0.9357 - val_loss: 0.5378 - val_accuracy: 0.8657\n"
     ]
    }
   ],
   "source": [
    "model.compile(\n",
    "    loss=tf.keras.losses.sparse_categorical_crossentropy,\n",
    "    optimizer=tf.keras.optimizers.SGD(learning_rate=0.1, momentum=0.9),\n",
    "    metrics=[\"accuracy\"]\n",
    ")\n",
    "\n",
    "history = model.fit(train_set, validation_data=valid_set, epochs=3)"
   ]
  },
  {
   "cell_type": "markdown",
   "id": "1f1d243d",
   "metadata": {},
   "source": [
    "Validation accuracy reaches 84%, means the top layers now well trained. We're ready to unfreez some of base model's top layers, then continue training. For example, let's unfreez layers 56 and above."
   ]
  },
  {
   "cell_type": "code",
   "execution_count": 12,
   "id": "b7ea3ba4",
   "metadata": {},
   "outputs": [],
   "source": [
    "for layer in base_model.layers[56:]:\n",
    "    layer.trainable = True"
   ]
  },
  {
   "cell_type": "markdown",
   "id": "622fb910",
   "metadata": {},
   "source": [
    "Now, we shoud use lower learning rate to avoid damaging the pretrained weights."
   ]
  },
  {
   "cell_type": "code",
   "execution_count": 13,
   "id": "8e029af0",
   "metadata": {},
   "outputs": [
    {
     "name": "stdout",
     "output_type": "stream",
     "text": [
      "Epoch 1/10\n",
      "86/86 [==============================] - 561s 6s/step - loss: 0.2701 - accuracy: 0.9102 - val_loss: 0.6449 - val_accuracy: 0.8621\n",
      "Epoch 2/10\n",
      "86/86 [==============================] - 554s 6s/step - loss: 0.0624 - accuracy: 0.9833 - val_loss: 0.3517 - val_accuracy: 0.9093\n",
      "Epoch 3/10\n",
      "86/86 [==============================] - 551s 6s/step - loss: 0.0160 - accuracy: 0.9956 - val_loss: 0.3253 - val_accuracy: 0.9220\n",
      "Epoch 4/10\n",
      "86/86 [==============================] - 551s 6s/step - loss: 0.0079 - accuracy: 0.9978 - val_loss: 0.3183 - val_accuracy: 0.9256\n",
      "Epoch 5/10\n",
      "86/86 [==============================] - 552s 6s/step - loss: 0.0145 - accuracy: 0.9967 - val_loss: 0.3152 - val_accuracy: 0.9220\n",
      "Epoch 6/10\n",
      "86/86 [==============================] - 555s 6s/step - loss: 0.0058 - accuracy: 0.9985 - val_loss: 0.3049 - val_accuracy: 0.9056\n",
      "Epoch 7/10\n",
      "86/86 [==============================] - 553s 6s/step - loss: 0.0029 - accuracy: 0.9993 - val_loss: 0.3393 - val_accuracy: 0.9093\n",
      "Epoch 8/10\n",
      "86/86 [==============================] - 552s 6s/step - loss: 0.0024 - accuracy: 0.9993 - val_loss: 0.3195 - val_accuracy: 0.9147\n",
      "Epoch 9/10\n",
      "86/86 [==============================] - 553s 6s/step - loss: 0.0047 - accuracy: 0.9989 - val_loss: 0.3255 - val_accuracy: 0.9129\n",
      "Epoch 10/10\n",
      "86/86 [==============================] - 553s 6s/step - loss: 0.0036 - accuracy: 0.9989 - val_loss: 0.3318 - val_accuracy: 0.9074\n"
     ]
    }
   ],
   "source": [
    "model.compile(\n",
    "    loss=tf.keras.losses.sparse_categorical_crossentropy,\n",
    "    optimizer=tf.keras.optimizers.SGD(learning_rate=0.01, momentum=0.9),\n",
    "    metrics=[\"accuracy\"]\n",
    ")\n",
    "\n",
    "history = model.fit(train_set, validation_data=valid_set, epochs=10)"
   ]
  },
  {
   "cell_type": "code",
   "execution_count": 14,
   "id": "99837fb8",
   "metadata": {},
   "outputs": [
    {
     "name": "stdout",
     "output_type": "stream",
     "text": [
      "12/12 [==============================] - 27s 2s/step - loss: 0.2884 - accuracy: 0.9237\n"
     ]
    },
    {
     "data": {
      "text/plain": [
       "[0.2884082496166229, 0.9237056970596313]"
      ]
     },
     "execution_count": 14,
     "metadata": {},
     "output_type": "execute_result"
    }
   ],
   "source": [
    "model.evaluate(test_set)"
   ]
  },
  {
   "cell_type": "code",
   "execution_count": 15,
   "id": "d98443e7",
   "metadata": {},
   "outputs": [
    {
     "data": {
      "image/png": "[encoded data removed]",
      "text/plain": [
       "<Figure size 800x500 with 1 Axes>"
      ]
     },
     "metadata": {},
     "output_type": "display_data"
    }
   ],
   "source": [
    "import pandas as pd\n",
    "import matplotlib.pyplot as plt\n",
    "\n",
    "pd.DataFrame(history.history).plot(\n",
    "    figsize = (8,5), xlim=[0,9], ylim=[0,1], grid=True, xlabel=\"Epoch\",\n",
    "    style=[\"r--\", \"r-\", \"b--\", \"b-*\"]\n",
    ")\n",
    "plt.show()"
   ]
  },
  {
   "cell_type": "markdown",
   "id": "d8bd917d",
   "metadata": {},
   "source": [
    "### Classification and Localization\n",
    "Localizing an objcet can be expressed as a regression task. The model needs to predict four members: horizontal & vertical coordinates, height and width. We just need to add second dense outout layer with four units (global average pooling layer), and it can be trained using MSE loss."
   ]
  },
  {
   "cell_type": "code",
   "execution_count": 16,
   "id": "fee87589",
   "metadata": {},
   "outputs": [],
   "source": [
    "base_model = tf.keras.applications.xception.Xception(weights=\"imagenet\", include_top=False)\n",
    "avg = tf.keras.layers.GlobalAveragePooling2D()(base_model.output)\n",
    "class_output = tf.keras.layers.Dense(n_classes, activation=\"softmax\")(avg)\n",
    "loc_output = tf.keras.layers.Dense(4)(avg)\n",
    "\n",
    "model = tf.keras.Model(inputs=base_model.input, outputs=[class_output, loc_output])\n",
    "\n",
    "model.compile(\n",
    "    loss = tf.keras.losses.sparse_categorical_crossentropy,\n",
    "    loss_weights=[0.8, 0.2],\n",
    "    optimizer=tf.keras.optimizers.SGD(learning_rate=0.01, momentum=0.9),\n",
    "    metrics=[\"accuracy\"]\n",
    ")"
   ]
  },
  {
   "cell_type": "markdown",
   "id": "a6be0aea",
   "metadata": {},
   "source": [
    "But now, we have a problem: the flowers dataset does not any bounding boxex around the boxes. So, we need to add them ourselves. To annotate images with bounfing boxes, you may want to use an open source image labeling tool like `VGG Image Annotator, 'LabelImg, OpenLabeler, ImgLab` or parhaps a commertial tool like `LabelNox` if have so many images."
   ]
  }
 ],
 "metadata": {
  "kernelspec": {
   "display_name": "Python 3 (ipykernel)",
   "language": "python",
   "name": "python3"
  },
  "language_info": {
   "codemirror_mode": {
    "name": "ipython",
    "version": 3
   },
   "file_extension": ".py",
   "mimetype": "text/x-python",
   "name": "python",
   "nbconvert_exporter": "python",
   "pygments_lexer": "ipython3",
   "version": "3.9.13"
  }
 },
 "nbformat": 4,
 "nbformat_minor": 5
}
