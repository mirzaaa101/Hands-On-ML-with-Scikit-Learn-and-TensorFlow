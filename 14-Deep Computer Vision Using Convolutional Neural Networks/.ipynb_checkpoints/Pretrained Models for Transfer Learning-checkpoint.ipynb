{
 "cells": [
  {
   "cell_type": "markdown",
   "id": "a0f81819",
   "metadata": {},
   "source": [
    "Let's train the Xception model on flowers data. I will load the data using TensorFlow Datasets."
   ]
  },
  {
   "cell_type": "code",
   "execution_count": 12,
   "id": "49b4b00d",
   "metadata": {},
   "outputs": [],
   "source": [
    "import tensorflow as tf\n",
    "import tensorflow_datasets as tfds"
   ]
  },
  {
   "cell_type": "code",
   "execution_count": 14,
   "id": "3edf92b1",
   "metadata": {},
   "outputs": [
    {
     "name": "stdout",
     "output_type": "stream",
     "text": [
      "Downloading and preparing dataset Unknown size (download: Unknown size, generated: Unknown size, total: Unknown size) to C:\\Users\\User\\tensorflow_datasets\\tf_flowers\\3.0.1...\n"
     ]
    },
    {
     "data": {
      "application/vnd.jupyter.widget-view+json": {
       "model_id": "da53573246294b4584246b15ae88c429",
       "version_major": 2,
       "version_minor": 0
      },
      "text/plain": [
       "Dl Completed...: 0 url [00:00, ? url/s]"
      ]
     },
     "metadata": {},
     "output_type": "display_data"
    },
    {
     "data": {
      "application/vnd.jupyter.widget-view+json": {
       "model_id": "7f9e1803514b41ef879d01a77cb5fd38",
       "version_major": 2,
       "version_minor": 0
      },
      "text/plain": [
       "Dl Size...: 0 MiB [00:00, ? MiB/s]"
      ]
     },
     "metadata": {},
     "output_type": "display_data"
    },
    {
     "data": {
      "application/vnd.jupyter.widget-view+json": {
       "model_id": "",
       "version_major": 2,
       "version_minor": 0
      },
      "text/plain": [
       "Generating splits...:   0%|          | 0/1 [00:00<?, ? splits/s]"
      ]
     },
     "metadata": {},
     "output_type": "display_data"
    },
    {
     "data": {
      "application/vnd.jupyter.widget-view+json": {
       "model_id": "",
       "version_major": 2,
       "version_minor": 0
      },
      "text/plain": [
       "Generating train examples...: 0 examples [00:00, ? examples/s]"
      ]
     },
     "metadata": {},
     "output_type": "display_data"
    },
    {
     "data": {
      "application/vnd.jupyter.widget-view+json": {
       "model_id": "",
       "version_major": 2,
       "version_minor": 0
      },
      "text/plain": [
       "Shuffling C:\\Users\\User\\tensorflow_datasets\\tf_flowers\\3.0.1.incompletePGVL9E\\tf_flowers-train.tfrecord*...:  …"
      ]
     },
     "metadata": {},
     "output_type": "display_data"
    },
    {
     "name": "stdout",
     "output_type": "stream",
     "text": [
      "Dataset tf_flowers downloaded and prepared to C:\\Users\\User\\tensorflow_datasets\\tf_flowers\\3.0.1. Subsequent calls will reuse this data.\n"
     ]
    },
    {
     "data": {
      "text/plain": [
       "3670"
      ]
     },
     "execution_count": 14,
     "metadata": {},
     "output_type": "execute_result"
    }
   ],
   "source": [
    "dataset, info = tfds.load(\"tf_flowers\", as_supervised=True, with_info=True)\n",
    "dataset_size = info.splits[\"train\"].num_examples\n",
    "dataset_size"
   ]
  },
  {
   "cell_type": "code",
   "execution_count": 16,
   "id": "9b9b7648",
   "metadata": {},
   "outputs": [
    {
     "data": {
      "text/plain": [
       "['dandelion', 'daisy', 'tulips', 'sunflowers', 'roses']"
      ]
     },
     "execution_count": 16,
     "metadata": {},
     "output_type": "execute_result"
    }
   ],
   "source": [
    "class_names = info.features[\"label\"].names\n",
    "n_classes = info.features[\"label\"].num_classes\n",
    "class_names"
   ]
  },
  {
   "cell_type": "markdown",
   "id": "4fda216b",
   "metadata": {},
   "source": [
    "Unfortunately, this dataset only provides train data, we need to split it into valid and test."
   ]
  },
  {
   "cell_type": "code",
   "execution_count": 20,
   "id": "3153fdc7",
   "metadata": {},
   "outputs": [
    {
     "name": "stdout",
     "output_type": "stream",
     "text": [
      "367\n",
      "551\n",
      "2752\n"
     ]
    }
   ],
   "source": [
    "test_set_raw, valid_set_raw, train_set_raw = tfds.load(\n",
    "    \"tf_flowers\",\n",
    "    split = [\"train[:10%]\", \"train[10%:25%]\", \"train[25%:]\"],\n",
    "    as_supervised = True\n",
    ")\n",
    "\n",
    "print(len(test_set_raw))\n",
    "print(len(valid_set_raw))\n",
    "print(len(train_set_raw))"
   ]
  },
  {
   "cell_type": "markdown",
   "id": "754babaa",
   "metadata": {},
   "source": [
    "All three datasets contains different images. we need to batch them, but first we need to ensure that thay all have the same size or batchinh will fail. We can use Resizing layer for this. we must also call xception_preprocess_input() method to preprocess the images. Lastly, we'll also shuffle the training set and use prefetching."
   ]
  },
  {
   "cell_type": "code",
   "execution_count": 22,
   "id": "60c9327e",
   "metadata": {},
   "outputs": [],
   "source": [
    "batch_size = 32\n",
    "preprocess = tf.keras.Sequential([\n",
    "    tf.keras.layers.Resizing(height=224, width=224, crop_to_aspect_ratio=True),\n",
    "    tf.keras.layers.Lambda(tf.keras.applications.xception.preprocess_input)\n",
    "])\n",
    "\n",
    "train_set = train_set_raw.map(lambda X, y: (preprocess(X), y))\n",
    "train_set = train_set.shuffle(1000, seed=42).batch(batch_size).prefetch(1)\n",
    "valid_set = valid_set_raw.map(lambda X, y: (preprocess(X), y)).batch(batch_size)\n",
    "test_set = test_set_raw.map(lambda X, y: (preprocess(X), y)).batch(batch_size)"
   ]
  },
  {
   "cell_type": "code",
   "execution_count": 29,
   "id": "7e76cdbd",
   "metadata": {},
   "outputs": [
    {
     "name": "stdout",
     "output_type": "stream",
     "text": [
      "<_PrefetchDataset element_spec=(TensorSpec(shape=(None, 224, 224, 3), dtype=tf.float32, name=None), TensorSpec(shape=(None,), dtype=tf.int64, name=None))>\n",
      "<_BatchDataset element_spec=(TensorSpec(shape=(None, 224, 224, 3), dtype=tf.float32, name=None), TensorSpec(shape=(None,), dtype=tf.int64, name=None))>\n",
      "<_BatchDataset element_spec=(TensorSpec(shape=(None, 224, 224, 3), dtype=tf.float32, name=None), TensorSpec(shape=(None,), dtype=tf.int64, name=None))>\n"
     ]
    }
   ],
   "source": [
    "print(train_set)\n",
    "print(valid_set)\n",
    "print(test_set)"
   ]
  },
  {
   "cell_type": "markdown",
   "id": "078b2c77",
   "metadata": {},
   "source": [
    "Now each batch contains 32 images, all of them are 224x224 pixel, with pixels values ranging from -1 to 1.\n",
    "\n",
    "Since the dataset is small, data augmentation will help a lot. The following data augmentation model that will embed in our final model. During training, it will randomly flip the images horizontally, rotate them a litte bit, and tweak the contrast."
   ]
  },
  {
   "cell_type": "code",
   "execution_count": 34,
   "id": "cc4ce017",
   "metadata": {},
   "outputs": [],
   "source": [
    "data_augmentation = tf.keras.Sequential([\n",
    "    tf.keras.layers.RandomFlip(mode=\"horizontal\", seed=42),\n",
    "    tf.keras.layers.RandomRotation(factor=0.05, seed=42),\n",
    "    tf.keras.layers.RandomContrast(factor=0.2, seed=42)\n",
    "])"
   ]
  },
  {
   "cell_type": "markdown",
   "id": "c0289f76",
   "metadata": {},
   "source": [
    "The `tf.keras.preprocess.image.ImageDataGenerator` class makes it easy to load images from disk and augement them in various ways: you can shift each image, rotate it, rescale it, flip it horizonatlly or vertically, shear it, or apply any transformation function. This is convinient for simple project.\n",
    "\n",
    "However, a `tf.data` pipeline is not much more complicated, and it's generally faster. Moreover, if you have a GPU and you include the preprocessing or data augmentation layers inside your model, they will benifit from GPU acceleration during training.\n",
    "\n",
    "Now, let's load the Xception model, pretrained on ImageNet. We exclude the top of the network by setting `inlude_top=False`. This excludes the global average pooling layer and dense out layer. We then add our own global average pooling layer and dense output layer with an activation function softmax."
   ]
  },
  {
   "cell_type": "code",
   "execution_count": 36,
   "id": "b4b1b794",
   "metadata": {},
   "outputs": [
    {
     "name": "stdout",
     "output_type": "stream",
     "text": [
      "A local file was found, but it seems to be incomplete or outdated because the auto file hash does not match the original value of b0042744bf5b25fce3cb969f33bebb97 so we will re-download the data.\n",
      "Downloading data from https://storage.googleapis.com/tensorflow/keras-applications/xception/xception_weights_tf_dim_ordering_tf_kernels_notop.h5\n",
      "83683744/83683744 [==============================] - 141s 2us/step\n"
     ]
    }
   ],
   "source": [
    "base_model = tf.keras.applications.xception.Xception(weights=\"imagenet\", include_top = False)\n",
    "avg = tf.keras.layers.GlobalAveragePooling2D()(base_model.output)\n",
    "output = tf.keras.layers.Dense(n_classes, activation=\"softmax\")(avg)\n",
    "model = tf.keras.Model(inputs=base_model.input, outputs=output)"
   ]
  },
  {
   "cell_type": "code",
   "execution_count": 37,
   "id": "0f0cd318",
   "metadata": {},
   "outputs": [
    {
     "data": {
      "text/plain": [
       "<bound method Model.summary of <keras.src.engine.functional.Functional object at 0x000002455C89CB20>>"
      ]
     },
     "execution_count": 37,
     "metadata": {},
     "output_type": "execute_result"
    }
   ],
   "source": [
    "model.summary"
   ]
  },
  {
   "cell_type": "markdown",
   "id": "3221be37",
   "metadata": {},
   "source": [
    "It is usally a good idea to freeze the weights of the pretrained layers, at least at the beggining of training."
   ]
  },
  {
   "cell_type": "code",
   "execution_count": 38,
   "id": "447de527",
   "metadata": {},
   "outputs": [],
   "source": [
    "for layer in base_model.layers:\n",
    "    layer.trainable = False"
   ]
  },
  {
   "cell_type": "markdown",
   "id": "26f2eb90",
   "metadata": {},
   "source": [
    "Since our model uses the base model's layers directly, rather than the base_model objcet itself, setting `base_model.trainable=False` would have no effect.\n",
    "\n",
    "Let's compile and train the model."
   ]
  },
  {
   "cell_type": "code",
   "execution_count": 41,
   "id": "99e78c3f",
   "metadata": {},
   "outputs": [
    {
     "name": "stdout",
     "output_type": "stream",
     "text": [
      "Epoch 1/3\n",
      "86/86 [==============================] - 216s 2s/step - loss: 0.6853 - accuracy: 0.8140 - val_loss: 0.6012 - val_accuracy: 0.8530\n",
      "Epoch 2/3\n",
      "86/86 [==============================] - 233s 3s/step - loss: 0.2887 - accuracy: 0.9146 - val_loss: 0.5314 - val_accuracy: 0.8639\n",
      "Epoch 3/3\n",
      "86/86 [==============================] - 235s 3s/step - loss: 0.1938 - accuracy: 0.9364 - val_loss: 0.5702 - val_accuracy: 0.8494\n"
     ]
    }
   ],
   "source": [
    "model.compile(\n",
    "    loss=tf.keras.losses.sparse_categorical_crossentropy,\n",
    "    optimizer=tf.keras.optimizers.SGD(learning_rate=0.1, momentum=0.9),\n",
    "    metrics=[\"accuracy\"]\n",
    ")\n",
    "\n",
    "history = model.fit(train_set, validation_data=valid_set, epochs=3)"
   ]
  },
  {
   "cell_type": "markdown",
   "id": "9de2cf51",
   "metadata": {},
   "source": [
    "Validation accuracy reaches 84%, means the top layers now well trained. We're ready to unfreez some of base model's top layers, then continue training. For example, let's unfreez layers 56 and above."
   ]
  },
  {
   "cell_type": "code",
   "execution_count": 42,
   "id": "6ef1c780",
   "metadata": {},
   "outputs": [],
   "source": [
    "for layer in base_model.layers[56:]:\n",
    "    layer.trainable = True"
   ]
  },
  {
   "cell_type": "markdown",
   "id": "376a1594",
   "metadata": {},
   "source": [
    "Now, we shoud use lower learning rate to avoid damaging the pretrained weights."
   ]
  },
  {
   "cell_type": "code",
   "execution_count": 43,
   "id": "5c46ebfb",
   "metadata": {},
   "outputs": [
    {
     "name": "stdout",
     "output_type": "stream",
     "text": [
      "Epoch 1/10\n",
      "86/86 [==============================] - 567s 7s/step - loss: 0.2639 - accuracy: 0.9113 - val_loss: 0.5658 - val_accuracy: 0.8603\n",
      "Epoch 2/10\n",
      "86/86 [==============================] - 554s 6s/step - loss: 0.0636 - accuracy: 0.9829 - val_loss: 0.3442 - val_accuracy: 0.9093\n",
      "Epoch 3/10\n",
      "86/86 [==============================] - 551s 6s/step - loss: 0.0129 - accuracy: 0.9956 - val_loss: 0.2784 - val_accuracy: 0.9165\n",
      "Epoch 4/10\n",
      "86/86 [==============================] - 551s 6s/step - loss: 0.0047 - accuracy: 0.9996 - val_loss: 0.2949 - val_accuracy: 0.9129\n",
      "Epoch 5/10\n",
      "86/86 [==============================] - 558s 6s/step - loss: 0.0083 - accuracy: 0.9975 - val_loss: 0.3525 - val_accuracy: 0.9020\n",
      "Epoch 6/10\n",
      "86/86 [==============================] - 555s 6s/step - loss: 0.0120 - accuracy: 0.9964 - val_loss: 0.3245 - val_accuracy: 0.9038\n",
      "Epoch 7/10\n",
      "86/86 [==============================] - 554s 6s/step - loss: 0.0051 - accuracy: 0.9993 - val_loss: 0.3097 - val_accuracy: 0.9093\n",
      "Epoch 8/10\n",
      "86/86 [==============================] - 555s 6s/step - loss: 0.0051 - accuracy: 0.9985 - val_loss: 0.3087 - val_accuracy: 0.9129\n",
      "Epoch 9/10\n",
      "86/86 [==============================] - 555s 6s/step - loss: 0.0036 - accuracy: 0.9989 - val_loss: 0.3211 - val_accuracy: 0.9093\n",
      "Epoch 10/10\n",
      "86/86 [==============================] - 556s 6s/step - loss: 0.0022 - accuracy: 0.9996 - val_loss: 0.3365 - val_accuracy: 0.9129\n"
     ]
    }
   ],
   "source": [
    "model.compile(\n",
    "    loss=tf.keras.losses.sparse_categorical_crossentropy,\n",
    "    optimizer=tf.keras.optimizers.SGD(learning_rate=0.01, momentum=0.9),\n",
    "    metrics=[\"accuracy\"]\n",
    ")\n",
    "\n",
    "history = model.fit(train_set, validation_data=valid_set, epochs=10)"
   ]
  },
  {
   "cell_type": "code",
   "execution_count": 44,
   "id": "ec984c89",
   "metadata": {},
   "outputs": [
    {
     "name": "stdout",
     "output_type": "stream",
     "text": [
      "12/12 [==============================] - 24s 2s/step - loss: 0.2878 - accuracy: 0.9237\n"
     ]
    },
    {
     "data": {
      "text/plain": [
       "[0.28780683875083923, 0.9237056970596313]"
      ]
     },
     "execution_count": 44,
     "metadata": {},
     "output_type": "execute_result"
    }
   ],
   "source": [
    "model.evaluate(test_set)"
   ]
  },
  {
   "cell_type": "code",
   "execution_count": 50,
   "id": "aa83ae82",
   "metadata": {},
   "outputs": [
    {
     "data": {
      "image/png": "[encoded data removed]",
      "text/plain": [
       "<Figure size 800x500 with 1 Axes>"
      ]
     },
     "metadata": {},
     "output_type": "display_data"
    }
   ],
   "source": [
    "import pandas as pd\n",
    "import matplotlib.pyplot as plt\n",
    "\n",
    "pd.DataFrame(history.history).plot(\n",
    "    figsize = (8,5), xlim=[0,9], ylim=[0,1], grid=True, xlabel=\"Epoch\",\n",
    "    style=[\"r--\", \"r-\", \"b--\", \"b-*\"]\n",
    ")\n",
    "plt.show()"
   ]
  },
  {
   "cell_type": "markdown",
   "id": "f96fcf83",
   "metadata": {},
   "source": [
    "### Classification and Localization\n",
    "Localizing an objcet can be expressed as a regression task. The model needs to predict four members: horizontal & vertical coordinates, height and width. We just need to add second dense outout layer with four units (global average pooling layer), and it can be trained using MSE loss."
   ]
  },
  {
   "cell_type": "code",
   "execution_count": null,
   "id": "6db53467",
   "metadata": {},
   "outputs": [],
   "source": []
  },
  {
   "cell_type": "code",
   "execution_count": null,
   "id": "67eb9648",
   "metadata": {},
   "outputs": [],
   "source": []
  },
  {
   "cell_type": "code",
   "execution_count": null,
   "id": "3ea15d96",
   "metadata": {},
   "outputs": [],
   "source": []
  }
 ],
 "metadata": {
  "kernelspec": {
   "display_name": "Python 3 (ipykernel)",
   "language": "python",
   "name": "python3"
  },
  "language_info": {
   "codemirror_mode": {
    "name": "ipython",
    "version": 3
   },
   "file_extension": ".py",
   "mimetype": "text/x-python",
   "name": "python",
   "nbconvert_exporter": "python",
   "pygments_lexer": "ipython3",
   "version": "3.9.13"
  }
 },
 "nbformat": 4,
 "nbformat_minor": 5
}
