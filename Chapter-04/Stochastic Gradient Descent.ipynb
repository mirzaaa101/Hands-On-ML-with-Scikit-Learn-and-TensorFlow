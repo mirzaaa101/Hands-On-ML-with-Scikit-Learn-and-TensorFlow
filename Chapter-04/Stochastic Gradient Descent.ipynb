{
 "cells": [
  {
   "cell_type": "markdown",
   "id": "e6eba597",
   "metadata": {},
   "source": [
    "### Stochastic Gradient Descent \n",
    "SGD tries to solve the main problem in Batch Gradient descent which is the usage of whole training data to calculate gradients at each step. SGD is stochastic in nature i.e. it picks up a “random” instance of training data at each step and then computes the gradient, making it much faster as there is much fewer data to manipulate at a single time, unlike Batch GD."
   ]
  },
  {
   "cell_type": "code",
   "execution_count": 2,
   "id": "6093b73d",
   "metadata": {},
   "outputs": [],
   "source": [
    "import numpy as np\n",
    "np.random.seed(42)\n",
    "\n",
    "m = 100 # number of instances\n",
    "X = 2 * np.random.rand(m,1) # column-vector\n",
    "y = 4 + 3*X + np.random.rand(m,1) # column-vector"
   ]
  },
  {
   "cell_type": "code",
   "execution_count": 3,
   "id": "807f2a23",
   "metadata": {},
   "outputs": [],
   "source": [
    "from sklearn.preprocessing import add_dummy_feature\n",
    "X_b = add_dummy_feature(X) # add X0=1 to each instance"
   ]
  },
  {
   "cell_type": "code",
   "execution_count": 4,
   "id": "03ee2b57",
   "metadata": {},
   "outputs": [],
   "source": [
    "n_epochs = 50\n",
    "t0, t1 = 5, 50 # learning schedule hyperperameters"
   ]
  },
  {
   "cell_type": "code",
   "execution_count": 5,
   "id": "b642afc3",
   "metadata": {},
   "outputs": [],
   "source": [
    "def learning_schedule(t):\n",
    "    return t0/(t+t1)"
   ]
  },
  {
   "cell_type": "code",
   "execution_count": 6,
   "id": "93a88ae8",
   "metadata": {},
   "outputs": [
    {
     "data": {
      "text/plain": [
       "array([[0.64203165],\n",
       "       [0.08413996]])"
      ]
     },
     "execution_count": 6,
     "metadata": {},
     "output_type": "execute_result"
    }
   ],
   "source": [
    "theta = np.random.rand(2,1)\n",
    "theta"
   ]
  },
  {
   "cell_type": "code",
   "execution_count": 9,
   "id": "0cf291c4",
   "metadata": {},
   "outputs": [],
   "source": [
    "epoch_list = []\n",
    "cost_list = []"
   ]
  },
  {
   "cell_type": "code",
   "execution_count": 10,
   "id": "f864d6c3",
   "metadata": {},
   "outputs": [],
   "source": [
    "for epoch in range(n_epochs):\n",
    "    for iteration in range(m):\n",
    "        y_predicted = y_predicted = X_b @ theta\n",
    "        \n",
    "        random_index = np.random.randint(m)\n",
    "        xi = X_b[random_index: random_index+1]\n",
    "        yi = y[random_index: random_index+1]\n",
    "        gradients = 2* xi.T @ (xi @ theta-yi) \n",
    "        eta = learning_schedule(epoch*m+iteration)\n",
    "        theta = theta- eta*gradients\n",
    "        \n",
    "        cost = np.mean(np.square(y - y_predicted))\n",
    "        if epoch%10==0:\n",
    "            epoch_list.append(epoch)\n",
    "            cost_list.append(cost)"
   ]
  },
  {
   "cell_type": "code",
   "execution_count": 11,
   "id": "1e6103fd",
   "metadata": {},
   "outputs": [
    {
     "data": {
      "image/png": "[encoded data removed]",
      "text/plain": [
       "<Figure size 640x480 with 1 Axes>"
      ]
     },
     "metadata": {},
     "output_type": "display_data"
    }
   ],
   "source": [
    "import matplotlib.pyplot as plt\n",
    "plt.title(\"Learning curve of SGD\")\n",
    "plt.xlabel(\"Epoch\")\n",
    "plt.ylabel(\"Cost\")\n",
    "plt.plot(epoch_list, cost_list)\n",
    "plt.show()"
   ]
  },
  {
   "cell_type": "code",
   "execution_count": 8,
   "id": "699f7c74",
   "metadata": {},
   "outputs": [
    {
     "data": {
      "text/plain": [
       "array([[4.51974833],\n",
       "       [2.98531929]])"
      ]
     },
     "execution_count": 8,
     "metadata": {},
     "output_type": "execute_result"
    }
   ],
   "source": [
    "theta"
   ]
  },
  {
   "cell_type": "markdown",
   "id": "982c28a1",
   "metadata": {},
   "source": [
    "There is a downside of the Stochastic nature of SGD i.e. once it reaches close to the minimum value then it doesn’t settle down, instead bounces around which gives us a good value for model parameters but not optimal which can be solved by reducing the learning rate at each step which can reduce the bouncing and SGD might settle down at global minimum after some time."
   ]
  }
 ],
 "metadata": {
  "kernelspec": {
   "display_name": "Python 3 (ipykernel)",
   "language": "python",
   "name": "python3"
  },
  "language_info": {
   "codemirror_mode": {
    "name": "ipython",
    "version": 3
   },
   "file_extension": ".py",
   "mimetype": "text/x-python",
   "name": "python",
   "nbconvert_exporter": "python",
   "pygments_lexer": "ipython3",
   "version": "3.9.13"
  }
 },
 "nbformat": 4,
 "nbformat_minor": 5
}
